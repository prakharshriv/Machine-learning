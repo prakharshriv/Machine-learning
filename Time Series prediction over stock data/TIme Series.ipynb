{
  "nbformat": 4,
  "nbformat_minor": 0,
  "metadata": {
    "colab": {
      "name": "Copy of tsla.ipynb",
      "provenance": [],
      "collapsed_sections": [],
      "toc_visible": true
    },
    "kernelspec": {
      "name": "python3",
      "display_name": "Python 3"
    }
  },
  "cells": [
    {
      "cell_type": "markdown",
      "metadata": {
        "id": "neu_iqzjY2FR",
        "colab_type": "text"
      },
      "source": [
        "# **Time series prediction of stock price data(TESLA)**"
      ]
    },
    {
      "cell_type": "code",
      "metadata": {
        "id": "7SKKhfM66ljr",
        "colab_type": "code",
        "outputId": "f1d16c77-ce36-4024-95d7-228b59a7f06b",
        "colab": {
          "base_uri": "https://localhost:8080/",
          "height": 33
        }
      },
      "source": [
        "import pandas as pd\n",
        "import numpy as np\n",
        "import matplotlib.pyplot as plt\n",
        "from keras.models import Sequential\n",
        "from keras.layers import Dense\n",
        "from keras.layers import LSTM\n",
        "from keras.layers import Dropout\n",
        "from sklearn.model_selection import train_test_split"
      ],
      "execution_count": 0,
      "outputs": [
        {
          "output_type": "stream",
          "text": [
            "Using TensorFlow backend.\n"
          ],
          "name": "stderr"
        }
      ]
    },
    {
      "cell_type": "markdown",
      "metadata": {
        "id": "tQsca5cWYzJ-",
        "colab_type": "text"
      },
      "source": [
        "importing the dataset which is historic stock price values of Tesla"
      ]
    },
    {
      "cell_type": "code",
      "metadata": {
        "id": "aMquqRJ762U8",
        "colab_type": "code",
        "colab": {}
      },
      "source": [
        "data=pd.read_csv('./TSLA.csv')"
      ],
      "execution_count": 0,
      "outputs": []
    },
    {
      "cell_type": "code",
      "metadata": {
        "id": "nNlk-evL0b0U",
        "colab_type": "code",
        "outputId": "df02895e-2285-46b9-b0ad-52dc0b8bf74b",
        "colab": {
          "base_uri": "https://localhost:8080/",
          "height": 220
        }
      },
      "source": [
        "import seaborn as sn\n",
        "data.corr()"
      ],
      "execution_count": 0,
      "outputs": [
        {
          "output_type": "execute_result",
          "data": {
            "text/html": [
              "<div>\n",
              "<style scoped>\n",
              "    .dataframe tbody tr th:only-of-type {\n",
              "        vertical-align: middle;\n",
              "    }\n",
              "\n",
              "    .dataframe tbody tr th {\n",
              "        vertical-align: top;\n",
              "    }\n",
              "\n",
              "    .dataframe thead th {\n",
              "        text-align: right;\n",
              "    }\n",
              "</style>\n",
              "<table border=\"1\" class=\"dataframe\">\n",
              "  <thead>\n",
              "    <tr style=\"text-align: right;\">\n",
              "      <th></th>\n",
              "      <th>Open</th>\n",
              "      <th>High</th>\n",
              "      <th>Low</th>\n",
              "      <th>Close</th>\n",
              "      <th>Adj Close</th>\n",
              "      <th>Volume</th>\n",
              "    </tr>\n",
              "  </thead>\n",
              "  <tbody>\n",
              "    <tr>\n",
              "      <th>Open</th>\n",
              "      <td>1.000000</td>\n",
              "      <td>0.999299</td>\n",
              "      <td>0.999407</td>\n",
              "      <td>0.998791</td>\n",
              "      <td>0.998791</td>\n",
              "      <td>0.529267</td>\n",
              "    </tr>\n",
              "    <tr>\n",
              "      <th>High</th>\n",
              "      <td>0.999299</td>\n",
              "      <td>1.000000</td>\n",
              "      <td>0.998991</td>\n",
              "      <td>0.999440</td>\n",
              "      <td>0.999440</td>\n",
              "      <td>0.542520</td>\n",
              "    </tr>\n",
              "    <tr>\n",
              "      <th>Low</th>\n",
              "      <td>0.999407</td>\n",
              "      <td>0.998991</td>\n",
              "      <td>1.000000</td>\n",
              "      <td>0.999424</td>\n",
              "      <td>0.999424</td>\n",
              "      <td>0.518523</td>\n",
              "    </tr>\n",
              "    <tr>\n",
              "      <th>Close</th>\n",
              "      <td>0.998791</td>\n",
              "      <td>0.999440</td>\n",
              "      <td>0.999424</td>\n",
              "      <td>1.000000</td>\n",
              "      <td>1.000000</td>\n",
              "      <td>0.531279</td>\n",
              "    </tr>\n",
              "    <tr>\n",
              "      <th>Adj Close</th>\n",
              "      <td>0.998791</td>\n",
              "      <td>0.999440</td>\n",
              "      <td>0.999424</td>\n",
              "      <td>1.000000</td>\n",
              "      <td>1.000000</td>\n",
              "      <td>0.531279</td>\n",
              "    </tr>\n",
              "    <tr>\n",
              "      <th>Volume</th>\n",
              "      <td>0.529267</td>\n",
              "      <td>0.542520</td>\n",
              "      <td>0.518523</td>\n",
              "      <td>0.531279</td>\n",
              "      <td>0.531279</td>\n",
              "      <td>1.000000</td>\n",
              "    </tr>\n",
              "  </tbody>\n",
              "</table>\n",
              "</div>"
            ],
            "text/plain": [
              "               Open      High       Low     Close  Adj Close    Volume\n",
              "Open       1.000000  0.999299  0.999407  0.998791   0.998791  0.529267\n",
              "High       0.999299  1.000000  0.998991  0.999440   0.999440  0.542520\n",
              "Low        0.999407  0.998991  1.000000  0.999424   0.999424  0.518523\n",
              "Close      0.998791  0.999440  0.999424  1.000000   1.000000  0.531279\n",
              "Adj Close  0.998791  0.999440  0.999424  1.000000   1.000000  0.531279\n",
              "Volume     0.529267  0.542520  0.518523  0.531279   0.531279  1.000000"
            ]
          },
          "metadata": {
            "tags": []
          },
          "execution_count": 60
        }
      ]
    },
    {
      "cell_type": "markdown",
      "metadata": {
        "id": "4DL3CgYbZN2h",
        "colab_type": "text"
      },
      "source": [
        "As expected we see a strong positive relation between most values such as opening,closing ,high and low values of stock"
      ]
    },
    {
      "cell_type": "code",
      "metadata": {
        "id": "3vGMaQK90mSK",
        "colab_type": "code",
        "outputId": "c268691a-6987-49a3-8547-640b069273db",
        "colab": {
          "base_uri": "https://localhost:8080/",
          "height": 285
        }
      },
      "source": [
        "sn.heatmap(data.corr(), annot=True)"
      ],
      "execution_count": 0,
      "outputs": [
        {
          "output_type": "execute_result",
          "data": {
            "text/plain": [
              "<matplotlib.axes._subplots.AxesSubplot at 0x7f5acf842860>"
            ]
          },
          "metadata": {
            "tags": []
          },
          "execution_count": 61
        },
        {
          "output_type": "display_data",
          "data": {
            "image/png": "[encoded data removed]",
            "text/plain": [
              "<Figure size 432x288 with 2 Axes>"
            ]
          },
          "metadata": {
            "tags": [],
            "needs_background": "light"
          }
        }
      ]
    },
    {
      "cell_type": "code",
      "metadata": {
        "id": "U_t7Hscb6-Hx",
        "colab_type": "code",
        "outputId": "7bf68e23-c620-40c1-8c21-0d53bd059cfa",
        "colab": {
          "base_uri": "https://localhost:8080/",
          "height": 191
        }
      },
      "source": [
        "data.head()"
      ],
      "execution_count": 0,
      "outputs": [
        {
          "output_type": "execute_result",
          "data": {
            "text/html": [
              "<div>\n",
              "<style scoped>\n",
              "    .dataframe tbody tr th:only-of-type {\n",
              "        vertical-align: middle;\n",
              "    }\n",
              "\n",
              "    .dataframe tbody tr th {\n",
              "        vertical-align: top;\n",
              "    }\n",
              "\n",
              "    .dataframe thead th {\n",
              "        text-align: right;\n",
              "    }\n",
              "</style>\n",
              "<table border=\"1\" class=\"dataframe\">\n",
              "  <thead>\n",
              "    <tr style=\"text-align: right;\">\n",
              "      <th></th>\n",
              "      <th>Date</th>\n",
              "      <th>Open</th>\n",
              "      <th>High</th>\n",
              "      <th>Low</th>\n",
              "      <th>Close</th>\n",
              "      <th>Adj Close</th>\n",
              "      <th>Volume</th>\n",
              "    </tr>\n",
              "  </thead>\n",
              "  <tbody>\n",
              "    <tr>\n",
              "      <th>0</th>\n",
              "      <td>29-06-2010</td>\n",
              "      <td>19.000000</td>\n",
              "      <td>25.00</td>\n",
              "      <td>17.540001</td>\n",
              "      <td>23.889999</td>\n",
              "      <td>23.889999</td>\n",
              "      <td>18766300</td>\n",
              "    </tr>\n",
              "    <tr>\n",
              "      <th>1</th>\n",
              "      <td>30-06-2010</td>\n",
              "      <td>25.790001</td>\n",
              "      <td>30.42</td>\n",
              "      <td>23.299999</td>\n",
              "      <td>23.830000</td>\n",
              "      <td>23.830000</td>\n",
              "      <td>17187100</td>\n",
              "    </tr>\n",
              "    <tr>\n",
              "      <th>2</th>\n",
              "      <td>01-07-2010</td>\n",
              "      <td>25.000000</td>\n",
              "      <td>25.92</td>\n",
              "      <td>20.270000</td>\n",
              "      <td>21.959999</td>\n",
              "      <td>21.959999</td>\n",
              "      <td>8218800</td>\n",
              "    </tr>\n",
              "    <tr>\n",
              "      <th>3</th>\n",
              "      <td>02-07-2010</td>\n",
              "      <td>23.000000</td>\n",
              "      <td>23.10</td>\n",
              "      <td>18.709999</td>\n",
              "      <td>19.200001</td>\n",
              "      <td>19.200001</td>\n",
              "      <td>5139800</td>\n",
              "    </tr>\n",
              "    <tr>\n",
              "      <th>4</th>\n",
              "      <td>06-07-2010</td>\n",
              "      <td>20.000000</td>\n",
              "      <td>20.00</td>\n",
              "      <td>15.830000</td>\n",
              "      <td>16.110001</td>\n",
              "      <td>16.110001</td>\n",
              "      <td>6866900</td>\n",
              "    </tr>\n",
              "  </tbody>\n",
              "</table>\n",
              "</div>"
            ],
            "text/plain": [
              "         Date       Open   High        Low      Close  Adj Close    Volume\n",
              "0  29-06-2010  19.000000  25.00  17.540001  23.889999  23.889999  18766300\n",
              "1  30-06-2010  25.790001  30.42  23.299999  23.830000  23.830000  17187100\n",
              "2  01-07-2010  25.000000  25.92  20.270000  21.959999  21.959999   8218800\n",
              "3  02-07-2010  23.000000  23.10  18.709999  19.200001  19.200001   5139800\n",
              "4  06-07-2010  20.000000  20.00  15.830000  16.110001  16.110001   6866900"
            ]
          },
          "metadata": {
            "tags": []
          },
          "execution_count": 5
        }
      ]
    },
    {
      "cell_type": "markdown",
      "metadata": {
        "id": "CU7k4GKmZcr7",
        "colab_type": "text"
      },
      "source": [
        "THe sock does show an erratic behavior of suddenly increasing towards the last 3 years"
      ]
    },
    {
      "cell_type": "code",
      "metadata": {
        "id": "wlHexpK17JgE",
        "colab_type": "code",
        "outputId": "13fa583d-5088-49cb-865b-47d35bde9caf",
        "colab": {
          "base_uri": "https://localhost:8080/",
          "height": 282
        }
      },
      "source": [
        "plt.plot(data['Date'],data['Open'])"
      ],
      "execution_count": 0,
      "outputs": [
        {
          "output_type": "execute_result",
          "data": {
            "text/plain": [
              "[<matplotlib.lines.Line2D at 0x7fbc11c18eb8>]"
            ]
          },
          "metadata": {
            "tags": []
          },
          "execution_count": 11
        },
        {
          "output_type": "display_data",
          "data": {
            "image/png": "[encoded data removed]",
            "text/plain": [
              "<Figure size 432x288 with 1 Axes>"
            ]
          },
          "metadata": {
            "tags": []
          }
        }
      ]
    },
    {
      "cell_type": "code",
      "metadata": {
        "id": "6anxKSxn799C",
        "colab_type": "code",
        "colab": {}
      },
      "source": [
        "df=data.iloc[:, 1:3].values"
      ],
      "execution_count": 0,
      "outputs": []
    },
    {
      "cell_type": "code",
      "metadata": {
        "id": "M3NgkHLn2T4K",
        "colab_type": "code",
        "outputId": "3f40ece8-9496-46b1-9e0e-99535d5b71d8",
        "colab": {
          "base_uri": "https://localhost:8080/",
          "height": 33
        }
      },
      "source": [
        "df.shape"
      ],
      "execution_count": 0,
      "outputs": [
        {
          "output_type": "execute_result",
          "data": {
            "text/plain": [
              "(2422, 2)"
            ]
          },
          "metadata": {
            "tags": []
          },
          "execution_count": 7
        }
      ]
    },
    {
      "cell_type": "code",
      "metadata": {
        "id": "Vso9UMaRXRmD",
        "colab_type": "code",
        "colab": {}
      },
      "source": [
        "from sklearn.preprocessing import MinMaxScaler\n",
        "sc = MinMaxScaler(feature_range = (0, 1))\n",
        "dfc = sc.fit_transform(df)"
      ],
      "execution_count": 0,
      "outputs": []
    },
    {
      "cell_type": "code",
      "metadata": {
        "id": "gjz7m21K9RjL",
        "colab_type": "code",
        "outputId": "27f63d2e-745a-4f9d-fcc4-c9a8da1c43d6",
        "colab": {
          "base_uri": "https://localhost:8080/",
          "height": 50
        }
      },
      "source": [
        "df[:,0]"
      ],
      "execution_count": 0,
      "outputs": [
        {
          "output_type": "execute_result",
          "data": {
            "text/plain": [
              "array([ 19.      ,  25.790001,  25.      , ..., 730.549988, 800.      ,\n",
              "       768.789978])"
            ]
          },
          "metadata": {
            "tags": []
          },
          "execution_count": 64
        }
      ]
    },
    {
      "cell_type": "code",
      "metadata": {
        "id": "BDbg4emb8skE",
        "colab_type": "code",
        "colab": {}
      },
      "source": [
        "sc1=MinMaxScaler(feature_range = (0, 1))\n",
        "opens=sc1.fit_transform(np.array(df[:,0]).reshape(2422,1))"
      ],
      "execution_count": 0,
      "outputs": []
    },
    {
      "cell_type": "code",
      "metadata": {
        "id": "J49SDR3H-Ia8",
        "colab_type": "code",
        "colab": {}
      },
      "source": [
        "dfn=np.array(dfc)"
      ],
      "execution_count": 0,
      "outputs": []
    },
    {
      "cell_type": "code",
      "metadata": {
        "id": "x3VBHYNyJ0L7",
        "colab_type": "code",
        "outputId": "a8de6607-9801-42f0-c65f-558547e3bff9",
        "colab": {
          "base_uri": "https://localhost:8080/",
          "height": 342
        }
      },
      "source": [
        "dfc[20:40]"
      ],
      "execution_count": 0,
      "outputs": [
        {
          "output_type": "execute_result",
          "data": {
            "text/plain": [
              "array([[0.00508756, 0.0044836 ],\n",
              "       [0.00534136, 0.0044626 ],\n",
              "       [0.00468379, 0.00400059],\n",
              "       [0.00502988, 0.0045571 ],\n",
              "       [0.0056067 , 0.00558613],\n",
              "       [0.00670266, 0.00582763],\n",
              "       [0.00622967, 0.00516611],\n",
              "       [0.00456842, 0.00370658],\n",
              "       [0.0043377 , 0.00351758],\n",
              "       [0.00404928, 0.00317107],\n",
              "       [0.00294179, 0.00236255],\n",
              "       [0.00191505, 0.00133353],\n",
              "       [0.00235343, 0.00191104],\n",
              "       [0.00266492, 0.00227855],\n",
              "       [0.00325327, 0.00290857],\n",
              "       [0.00398007, 0.00310807],\n",
              "       [0.00276874, 0.00275106],\n",
              "       [0.00289564, 0.00260406],\n",
              "       [0.00340325, 0.00394809],\n",
              "       [0.00358783, 0.00323407]])"
            ]
          },
          "metadata": {
            "tags": []
          },
          "execution_count": 67
        }
      ]
    },
    {
      "cell_type": "markdown",
      "metadata": {
        "id": "aYoniL1ZZqym",
        "colab_type": "text"
      },
      "source": [
        "# **Tactic to create training data**"
      ]
    },
    {
      "cell_type": "markdown",
      "metadata": {
        "id": "lzk_KN2-Z0YN",
        "colab_type": "text"
      },
      "source": [
        "We consider the opening prices of last i-20 days and predict value for the i+1 day where 20< i < data.length "
      ]
    },
    {
      "cell_type": "code",
      "metadata": {
        "id": "CAQc-2ig815z",
        "colab_type": "code",
        "colab": {}
      },
      "source": [
        "x=[]\n",
        "y=[]\n",
        "a=20\n",
        "for i in range(a,len(dfn)):\n",
        "    x.append(dfc[i-a:i])\n",
        "    y.append(dfc[i:i+1,0])  \n"
      ],
      "execution_count": 0,
      "outputs": []
    },
    {
      "cell_type": "code",
      "metadata": {
        "id": "PRYVGQKj-6ER",
        "colab_type": "code",
        "outputId": "fc844747-7d2f-4713-86dd-0a7d05daee74",
        "colab": {
          "base_uri": "https://localhost:8080/",
          "height": 33
        }
      },
      "source": [
        "X=np.array(x)\n",
        "Y=np.array(y)\n",
        "#X_train=np.reshape(X, (X.shape[0], X.shape[1], 1))\n",
        "# temp=[]\n",
        "# for i in x[0:2]:\n",
        "#     temp.append(i)\n",
        "print(X.shape)\n",
        "Y=Y.reshape(Y.shape[0],1)"
      ],
      "execution_count": 0,
      "outputs": [
        {
          "output_type": "stream",
          "text": [
            "(2402, 20, 2)\n"
          ],
          "name": "stdout"
        }
      ]
    },
    {
      "cell_type": "code",
      "metadata": {
        "id": "MjxAPc0sMW3j",
        "colab_type": "code",
        "outputId": "75060f32-c7bc-421c-9d46-9ad2e7897c87",
        "colab": {
          "base_uri": "https://localhost:8080/",
          "height": 50
        }
      },
      "source": [
        "print(X.shape)\n",
        "print(Y.shape)"
      ],
      "execution_count": 0,
      "outputs": [
        {
          "output_type": "stream",
          "text": [
            "(2402, 20, 2)\n",
            "(2402, 1)\n"
          ],
          "name": "stdout"
        }
      ]
    },
    {
      "cell_type": "markdown",
      "metadata": {
        "id": "_711yHubaOvT",
        "colab_type": "text"
      },
      "source": [
        "# LSTM MODEL"
      ]
    },
    {
      "cell_type": "code",
      "metadata": {
        "id": "EjcCUqvWM2ZD",
        "colab_type": "code",
        "colab": {}
      },
      "source": [
        "serie_size =  X.shape[1] # 20\n",
        "n_features =  X.shape[2] # 2\n",
        "lstm_model = Sequential()\n",
        "lstm_model.add(LSTM(15, input_shape=(serie_size, n_features), return_sequences=True))\n",
        "lstm_model.add(Dropout(0.2))\n",
        "lstm_model.add(LSTM(10, activation='relu', return_sequences=True))\n",
        "lstm_model.add(Dropout(0.2))\n",
        "lstm_model.add(LSTM(3, activation='relu'))\n",
        "lstm_model.add(Dense(10, kernel_initializer='glorot_normal', activation='relu'))\n",
        "lstm_model.add(Dropout(0.2))\n",
        "lstm_model.add(Dense(10, kernel_initializer='glorot_normal', activation='relu'))\n",
        "lstm_model.add(Dense(1))\n",
        "\n",
        "lstm_model.compile(loss='mse', optimizer='adam')"
      ],
      "execution_count": 0,
      "outputs": []
    },
    {
      "cell_type": "code",
      "metadata": {
        "id": "sxc8MX2gM3FE",
        "colab_type": "code",
        "outputId": "90d1ab16-a57f-41c1-c791-496501ecbf14",
        "colab": {
          "base_uri": "https://localhost:8080/",
          "height": 440
        }
      },
      "source": [
        "lstm_model.summary()"
      ],
      "execution_count": 0,
      "outputs": [
        {
          "output_type": "stream",
          "text": [
            "Model: \"sequential_2\"\n",
            "_________________________________________________________________\n",
            "Layer (type)                 Output Shape              Param #   \n",
            "=================================================================\n",
            "lstm_4 (LSTM)                (None, 20, 15)            1080      \n",
            "_________________________________________________________________\n",
            "dropout_4 (Dropout)          (None, 20, 15)            0         \n",
            "_________________________________________________________________\n",
            "lstm_5 (LSTM)                (None, 20, 10)            1040      \n",
            "_________________________________________________________________\n",
            "dropout_5 (Dropout)          (None, 20, 10)            0         \n",
            "_________________________________________________________________\n",
            "lstm_6 (LSTM)                (None, 3)                 168       \n",
            "_________________________________________________________________\n",
            "dense_4 (Dense)              (None, 10)                40        \n",
            "_________________________________________________________________\n",
            "dropout_6 (Dropout)          (None, 10)                0         \n",
            "_________________________________________________________________\n",
            "dense_5 (Dense)              (None, 10)                110       \n",
            "_________________________________________________________________\n",
            "dense_6 (Dense)              (None, 1)                 11        \n",
            "=================================================================\n",
            "Total params: 2,449\n",
            "Trainable params: 2,449\n",
            "Non-trainable params: 0\n",
            "_________________________________________________________________\n"
          ],
          "name": "stdout"
        }
      ]
    },
    {
      "cell_type": "code",
      "metadata": {
        "id": "6qZPFl4UNcYY",
        "colab_type": "code",
        "colab": {}
      },
      "source": [
        " X_train, X_test, y_train, y_test = train_test_split(X, Y, test_size=0.1, random_state=42)"
      ],
      "execution_count": 0,
      "outputs": []
    },
    {
      "cell_type": "code",
      "metadata": {
        "id": "SFaCU4OQ3ILq",
        "colab_type": "code",
        "outputId": "27d877e3-b6eb-4923-d985-8146d027f4d4",
        "colab": {
          "base_uri": "https://localhost:8080/",
          "height": 357
        }
      },
      "source": [
        "X_train[0]"
      ],
      "execution_count": 0,
      "outputs": [
        {
          "output_type": "execute_result",
          "data": {
            "text/plain": [
              "array([[0.24595647, 0.2318346 ],\n",
              "       [0.2638264 , 0.24283884],\n",
              "       [0.26877551, 0.24726994],\n",
              "       [0.25883112, 0.25193204],\n",
              "       [0.27437068, 0.26367129],\n",
              "       [0.28876815, 0.26535134],\n",
              "       [0.28190396, 0.25640515],\n",
              "       [0.27094437, 0.25448359],\n",
              "       [0.2692139 , 0.24693394],\n",
              "       [0.26807179, 0.25081902],\n",
              "       [0.27325165, 0.25222605],\n",
              "       [0.27130199, 0.24987401],\n",
              "       [0.27236334, 0.25376958],\n",
              "       [0.27339008, 0.24963249],\n",
              "       [0.2654761 , 0.24888698],\n",
              "       [0.26862555, 0.24598891],\n",
              "       [0.26851018, 0.24924399],\n",
              "       [0.27326318, 0.25279307],\n",
              "       [0.27215569, 0.25106052],\n",
              "       [0.27296324, 0.25029401]])"
            ]
          },
          "metadata": {
            "tags": []
          },
          "execution_count": 59
        }
      ]
    },
    {
      "cell_type": "markdown",
      "metadata": {
        "id": "1N___jN7aT9k",
        "colab_type": "text"
      },
      "source": [
        "# TRAINING LSTM MODEL"
      ]
    },
    {
      "cell_type": "code",
      "metadata": {
        "id": "Hd6PSvNs5rQL",
        "colab_type": "code",
        "outputId": "c18c52b2-1d35-4429-e9f7-b3173637291f",
        "colab": {
          "base_uri": "https://localhost:8080/",
          "height": 992
        }
      },
      "source": [
        "lstm_history = lstm_model.fit(X_train, y_train, epochs=30, batch_size=64)"
      ],
      "execution_count": 0,
      "outputs": [
        {
          "output_type": "stream",
          "text": [
            "Epoch 1/30\n",
            "2161/2161 [==============================] - 2s 910us/step - loss: 0.0299\n",
            "Epoch 2/30\n",
            "2161/2161 [==============================] - 1s 379us/step - loss: 0.0091\n",
            "Epoch 3/30\n",
            "2161/2161 [==============================] - 1s 364us/step - loss: 0.0052\n",
            "Epoch 4/30\n",
            "2161/2161 [==============================] - 1s 364us/step - loss: 0.0042\n",
            "Epoch 5/30\n",
            "2161/2161 [==============================] - 1s 365us/step - loss: 0.0033\n",
            "Epoch 6/30\n",
            "2161/2161 [==============================] - 1s 361us/step - loss: 0.0030\n",
            "Epoch 7/30\n",
            "2161/2161 [==============================] - 1s 365us/step - loss: 0.0025\n",
            "Epoch 8/30\n",
            "2161/2161 [==============================] - 1s 367us/step - loss: 0.0025\n",
            "Epoch 9/30\n",
            "2161/2161 [==============================] - 1s 363us/step - loss: 0.0025\n",
            "Epoch 10/30\n",
            "2161/2161 [==============================] - 1s 378us/step - loss: 0.0021\n",
            "Epoch 11/30\n",
            "2161/2161 [==============================] - 1s 368us/step - loss: 0.0020\n",
            "Epoch 12/30\n",
            "2161/2161 [==============================] - 1s 379us/step - loss: 0.0019\n",
            "Epoch 13/30\n",
            "2161/2161 [==============================] - 1s 369us/step - loss: 0.0018\n",
            "Epoch 14/30\n",
            "2161/2161 [==============================] - 1s 363us/step - loss: 0.0017\n",
            "Epoch 15/30\n",
            "2161/2161 [==============================] - 1s 372us/step - loss: 0.0015\n",
            "Epoch 16/30\n",
            "2161/2161 [==============================] - 1s 371us/step - loss: 0.0015\n",
            "Epoch 17/30\n",
            "2161/2161 [==============================] - 1s 368us/step - loss: 0.0015\n",
            "Epoch 18/30\n",
            "2161/2161 [==============================] - 1s 361us/step - loss: 0.0015\n",
            "Epoch 19/30\n",
            "2161/2161 [==============================] - 1s 355us/step - loss: 0.0013\n",
            "Epoch 20/30\n",
            "2161/2161 [==============================] - 1s 369us/step - loss: 0.0013\n",
            "Epoch 21/30\n",
            "2161/2161 [==============================] - 1s 366us/step - loss: 0.0013\n",
            "Epoch 22/30\n",
            "2161/2161 [==============================] - 1s 375us/step - loss: 0.0011\n",
            "Epoch 23/30\n",
            "2161/2161 [==============================] - 1s 365us/step - loss: 0.0014\n",
            "Epoch 24/30\n",
            "2161/2161 [==============================] - 1s 378us/step - loss: 0.0012\n",
            "Epoch 25/30\n",
            "2161/2161 [==============================] - 1s 369us/step - loss: 0.0012\n",
            "Epoch 26/30\n",
            "2161/2161 [==============================] - 1s 370us/step - loss: 0.0010\n",
            "Epoch 27/30\n",
            "2161/2161 [==============================] - 1s 366us/step - loss: 0.0011\n",
            "Epoch 28/30\n",
            "2161/2161 [==============================] - 1s 362us/step - loss: 9.2353e-04\n",
            "Epoch 29/30\n",
            "2161/2161 [==============================] - 1s 369us/step - loss: 9.7258e-04\n",
            "Epoch 30/30\n",
            "2161/2161 [==============================] - 1s 379us/step - loss: 8.9475e-04\n"
          ],
          "name": "stdout"
        }
      ]
    },
    {
      "cell_type": "code",
      "metadata": {
        "id": "-R2gdf6QWAfP",
        "colab_type": "code",
        "colab": {}
      },
      "source": [
        "\n",
        "preds=lstm_model.predict(X_test[-40:])"
      ],
      "execution_count": 0,
      "outputs": []
    },
    {
      "cell_type": "code",
      "metadata": {
        "id": "e7WIrvSq2KS5",
        "colab_type": "code",
        "outputId": "4c3a98dd-b87d-4c6d-e682-fed808f0685f",
        "colab": {
          "base_uri": "https://localhost:8080/",
          "height": 357
        }
      },
      "source": [
        "preds"
      ],
      "execution_count": 0,
      "outputs": [
        {
          "output_type": "execute_result",
          "data": {
            "text/plain": [
              "array([[0.01557763],\n",
              "       [0.31293195],\n",
              "       [0.28636488],\n",
              "       [0.18904546],\n",
              "       [0.19225357],\n",
              "       [0.22337306],\n",
              "       [0.16841365],\n",
              "       [0.21910149],\n",
              "       [0.12370718],\n",
              "       [0.28559092],\n",
              "       [0.1595794 ],\n",
              "       [0.01554009],\n",
              "       [0.01552917],\n",
              "       [0.18486857],\n",
              "       [0.19660392],\n",
              "       [0.01557983],\n",
              "       [0.01556586],\n",
              "       [0.20014775],\n",
              "       [0.20747583],\n",
              "       [0.20274794]], dtype=float32)"
            ]
          },
          "metadata": {
            "tags": []
          },
          "execution_count": 85
        }
      ]
    },
    {
      "cell_type": "markdown",
      "metadata": {
        "id": "6ybN3_1RaaXg",
        "colab_type": "text"
      },
      "source": [
        "# **comparing actual value(blue line) to the predicted values(red line)**"
      ]
    },
    {
      "cell_type": "code",
      "metadata": {
        "id": "d3diuuIQYAe9",
        "colab_type": "code",
        "outputId": "b5136472-d071-4a37-d096-67c6b6517e34",
        "colab": {
          "base_uri": "https://localhost:8080/",
          "height": 281
        }
      },
      "source": [
        "plt.plot(preds,color='red')\n",
        "plt.plot(y_test[-40:],color='blue')"
      ],
      "execution_count": 0,
      "outputs": [
        {
          "output_type": "execute_result",
          "data": {
            "text/plain": [
              "[<matplotlib.lines.Line2D at 0x7f5acf6c9ba8>]"
            ]
          },
          "metadata": {
            "tags": []
          },
          "execution_count": 76
        },
        {
          "output_type": "display_data",
          "data": {
            "image/png": "[encoded data removed]",
            "text/plain": [
              "<Figure size 432x288 with 1 Axes>"
            ]
          },
          "metadata": {
            "tags": [],
            "needs_background": "light"
          }
        }
      ]
    },
    {
      "cell_type": "markdown",
      "metadata": {
        "id": "hb_xODP4akU9",
        "colab_type": "text"
      },
      "source": [
        "**The Model has more or less learned to predict the trend in which the stock is going to go\n",
        "but there is still loss in accuracy as the predicted value, even though predicts trends, does not come very close to the actual value of stocks over a long time**"
      ]
    },
    {
      "cell_type": "code",
      "metadata": {
        "id": "OQ9wbzrr4gGT",
        "colab_type": "code",
        "outputId": "4e76c8eb-7250-473f-e241-80b2ef3c35b8",
        "colab": {
          "base_uri": "https://localhost:8080/",
          "height": 34
        }
      },
      "source": [
        "lstm_model.save_weights(\"tsla lstm dropout.h5\")\n",
        "print(\"Saved model to disk\")\n",
        " "
      ],
      "execution_count": 0,
      "outputs": [
        {
          "output_type": "stream",
          "text": [
            "Saved model to disk\n"
          ],
          "name": "stdout"
        }
      ]
    },
    {
      "cell_type": "code",
      "metadata": {
        "id": "DnUqrSad53FY",
        "colab_type": "code",
        "outputId": "17a62530-9be8-4889-e498-b31fd1640863",
        "colab": {
          "base_uri": "https://localhost:8080/",
          "height": 34
        }
      },
      "source": [
        "a=np.array([1,2,3])\n",
        "b=np.array([-1,-1,-1])\n",
        "#print(np.subtract(preds,y_test[-20:]))\n",
        "absolute_error_sum=0\n",
        "for i in np.subtract(preds,y_test[-20:]):\n",
        "    absolute_error_sum+=abs(i)\n",
        "print(absolute_error_sum)"
      ],
      "execution_count": 0,
      "outputs": [
        {
          "output_type": "stream",
          "text": [
            "[0.47263554]\n"
          ],
          "name": "stdout"
        }
      ]
    },
    {
      "cell_type": "code",
      "metadata": {
        "id": "DZQfr8xc8eSC",
        "colab_type": "code",
        "colab": {}
      },
      "source": [
        ""
      ],
      "execution_count": 0,
      "outputs": []
    },
    {
      "cell_type": "markdown",
      "metadata": {
        "id": "JY5heRSEbIRu",
        "colab_type": "text"
      },
      "source": [
        "checking trend predictions for our lstm **model**"
      ]
    },
    {
      "cell_type": "code",
      "metadata": {
        "id": "qSHMgwit-scq",
        "colab_type": "code",
        "outputId": "45b8a8ef-fd43-4eb4-bd3d-ba699bc3eef7",
        "colab": {
          "base_uri": "https://localhost:8080/",
          "height": 714
        }
      },
      "source": [
        "actual_predictions=sc1.inverse_transform(preds)\n",
        "actual_prices=sc1.inverse_transform(y_test[-40:])\n",
        "wrong_predictions=0\n",
        "right_predictions=0\n",
        "for i in range(1,len(actual_predictions)):\n",
        "    p=\"up\"\n",
        "    a=\"up\"\n",
        "    if(actual_predictions[i-1]<actual_predictions[i]):\n",
        "        p=\"up\"\n",
        "    else:\n",
        "        p=\"down\"\n",
        "    if(actual_prices[i-1]<actual_prices[i]):\n",
        "        a=\"up\"\n",
        "    else:\n",
        "        a=\"down\"\n",
        "    print(\"{}-------{}\".format(p,a))\n",
        "    if(p!=a):\n",
        "        wrong_predictions+=1\n",
        "    else:\n",
        "        right_predictions+=1\n",
        "print(\"wrong={}\\nright={}\".format(wrong_predictions,right_predictions))\n",
        "    "
      ],
      "execution_count": 0,
      "outputs": [
        {
          "output_type": "stream",
          "text": [
            "up-------up\n",
            "down-------down\n",
            "down-------up\n",
            "down-------down\n",
            "up-------up\n",
            "up-------up\n",
            "up-------up\n",
            "down-------down\n",
            "down-------down\n",
            "up-------up\n",
            "up-------up\n",
            "down-------down\n",
            "down-------down\n",
            "up-------up\n",
            "down-------down\n",
            "down-------down\n",
            "up-------up\n",
            "down-------down\n",
            "up-------up\n",
            "down-------down\n",
            "up-------up\n",
            "down-------down\n",
            "down-------down\n",
            "up-------up\n",
            "up-------up\n",
            "down-------down\n",
            "up-------up\n",
            "down-------down\n",
            "up-------up\n",
            "down-------down\n",
            "down-------down\n",
            "up-------up\n",
            "up-------up\n",
            "up-------down\n",
            "down-------down\n",
            "up-------up\n",
            "up-------up\n",
            "up-------down\n",
            "down-------down\n",
            "wrong=3\n",
            "right=36\n"
          ],
          "name": "stdout"
        }
      ]
    },
    {
      "cell_type": "markdown",
      "metadata": {
        "id": "5jM7VCxrbUYO",
        "colab_type": "text"
      },
      "source": [
        "# Gradient boosting models(XGBoost Regressor)"
      ]
    },
    {
      "cell_type": "code",
      "metadata": {
        "id": "JFG35jPRZnmf",
        "colab_type": "code",
        "colab": {}
      },
      "source": [
        "dfxg=data.iloc[:, 1].values\n",
        "# dfxg=np.array(dfxg)\n",
        "xgx=[]\n",
        "xgy=[]\n",
        "a=20\n",
        "for i in range(a,len(dfxg)):\n",
        "    xgx.append(dfxg[i-a:i])\n",
        "    xgy.append(dfxg[i:i+1])  \n"
      ],
      "execution_count": 0,
      "outputs": []
    },
    {
      "cell_type": "code",
      "metadata": {
        "id": "w13fNFIjixvH",
        "colab_type": "code",
        "colab": {}
      },
      "source": [
        "xgx_train, xgx_test, xgy_train, xgy_test = train_test_split(xgx, xgy, test_size=0.1, random_state=42)\n",
        "\n",
        "\n"
      ],
      "execution_count": 0,
      "outputs": []
    },
    {
      "cell_type": "code",
      "metadata": {
        "id": "QiAe82PgOXIL",
        "colab_type": "code",
        "outputId": "7af6b70a-df95-42b2-cbad-9b459daf3b6c",
        "colab": {
          "base_uri": "https://localhost:8080/",
          "height": 1000
        }
      },
      "source": [
        "from xgboost import XGBRegressor\n",
        "reg=XGBRegressor(max_depth=8,\n",
        "    n_estimators=10000,\n",
        "    min_child_weight=500, \n",
        "    colsample_bytree=0.9, \n",
        "    subsample=1.0, \n",
        "    eta=0.5,    \n",
        "    seed=201)\n",
        "reg.fit(xgx_train, \n",
        "    xgy_train, \n",
        "    eval_metric=\"rmse\", \n",
        "    eval_set=[(xgx_train, xgy_train), (xgx_test, xgy_test)], \n",
        "    verbose=True, \n",
        "    early_stopping_rounds = 40)"
      ],
      "execution_count": 0,
      "outputs": [
        {
          "output_type": "stream",
          "text": [
            "[11:46:41] WARNING: /workspace/src/objective/regression_obj.cu:152: reg:linear is now deprecated in favor of reg:squarederror.\n",
            "[0]\tvalidation_0-rmse:202.69\tvalidation_1-rmse:206.176\n",
            "Multiple eval metrics have been passed: 'validation_1-rmse' will be used for early stopping.\n",
            "\n",
            "Will train until validation_1-rmse hasn't improved in 40 rounds.\n",
            "[1]\tvalidation_0-rmse:183.298\tvalidation_1-rmse:187.079\n",
            "[2]\tvalidation_0-rmse:166\tvalidation_1-rmse:170.091\n",
            "[3]\tvalidation_0-rmse:150.36\tvalidation_1-rmse:154.591\n",
            "[4]\tvalidation_0-rmse:136.362\tvalidation_1-rmse:140.816\n",
            "[5]\tvalidation_0-rmse:123.962\tvalidation_1-rmse:128.747\n",
            "[6]\tvalidation_0-rmse:112.671\tvalidation_1-rmse:117.518\n",
            "[7]\tvalidation_0-rmse:102.601\tvalidation_1-rmse:107.576\n",
            "[8]\tvalidation_0-rmse:93.7739\tvalidation_1-rmse:98.9538\n",
            "[9]\tvalidation_0-rmse:85.6322\tvalidation_1-rmse:90.9954\n",
            "[10]\tvalidation_0-rmse:78.4043\tvalidation_1-rmse:83.9023\n",
            "[11]\tvalidation_0-rmse:72.109\tvalidation_1-rmse:77.8017\n",
            "[12]\tvalidation_0-rmse:66.6859\tvalidation_1-rmse:72.5034\n",
            "[13]\tvalidation_0-rmse:61.7611\tvalidation_1-rmse:67.7356\n",
            "[14]\tvalidation_0-rmse:57.3915\tvalidation_1-rmse:63.5011\n",
            "[15]\tvalidation_0-rmse:53.5737\tvalidation_1-rmse:59.8132\n",
            "[16]\tvalidation_0-rmse:50.3565\tvalidation_1-rmse:56.7107\n",
            "[17]\tvalidation_0-rmse:47.4835\tvalidation_1-rmse:53.9455\n",
            "[18]\tvalidation_0-rmse:45.0209\tvalidation_1-rmse:51.5261\n",
            "[19]\tvalidation_0-rmse:42.9503\tvalidation_1-rmse:49.5315\n",
            "[20]\tvalidation_0-rmse:41.232\tvalidation_1-rmse:47.8711\n",
            "[21]\tvalidation_0-rmse:39.7054\tvalidation_1-rmse:46.3694\n",
            "[22]\tvalidation_0-rmse:38.4217\tvalidation_1-rmse:45.082\n",
            "[23]\tvalidation_0-rmse:37.3468\tvalidation_1-rmse:44.0111\n",
            "[24]\tvalidation_0-rmse:36.4526\tvalidation_1-rmse:43.0848\n",
            "[25]\tvalidation_0-rmse:35.7064\tvalidation_1-rmse:42.332\n",
            "[26]\tvalidation_0-rmse:35.1044\tvalidation_1-rmse:41.6948\n",
            "[27]\tvalidation_0-rmse:34.5857\tvalidation_1-rmse:41.1503\n",
            "[28]\tvalidation_0-rmse:34.1643\tvalidation_1-rmse:40.6808\n",
            "[29]\tvalidation_0-rmse:33.8131\tvalidation_1-rmse:40.3029\n",
            "[30]\tvalidation_0-rmse:33.5253\tvalidation_1-rmse:39.9735\n",
            "[31]\tvalidation_0-rmse:33.2956\tvalidation_1-rmse:39.7094\n",
            "[32]\tvalidation_0-rmse:33.1016\tvalidation_1-rmse:39.4752\n",
            "[33]\tvalidation_0-rmse:32.951\tvalidation_1-rmse:39.2799\n",
            "[34]\tvalidation_0-rmse:32.821\tvalidation_1-rmse:39.1076\n",
            "[35]\tvalidation_0-rmse:32.715\tvalidation_1-rmse:38.9647\n",
            "[36]\tvalidation_0-rmse:32.6301\tvalidation_1-rmse:38.8482\n",
            "[37]\tvalidation_0-rmse:32.5587\tvalidation_1-rmse:38.7475\n",
            "[38]\tvalidation_0-rmse:32.5007\tvalidation_1-rmse:38.6555\n",
            "[39]\tvalidation_0-rmse:32.4537\tvalidation_1-rmse:38.579\n",
            "[40]\tvalidation_0-rmse:32.4152\tvalidation_1-rmse:38.5133\n",
            "[41]\tvalidation_0-rmse:32.3839\tvalidation_1-rmse:38.4592\n",
            "[42]\tvalidation_0-rmse:32.3584\tvalidation_1-rmse:38.409\n",
            "[43]\tvalidation_0-rmse:32.3377\tvalidation_1-rmse:38.3674\n",
            "[44]\tvalidation_0-rmse:32.3209\tvalidation_1-rmse:38.3315\n",
            "[45]\tvalidation_0-rmse:32.3071\tvalidation_1-rmse:38.2992\n",
            "[46]\tvalidation_0-rmse:32.296\tvalidation_1-rmse:38.2714\n",
            "[47]\tvalidation_0-rmse:32.2869\tvalidation_1-rmse:38.2487\n",
            "[48]\tvalidation_0-rmse:32.2795\tvalidation_1-rmse:38.2273\n",
            "[49]\tvalidation_0-rmse:32.2736\tvalidation_1-rmse:38.2103\n",
            "[50]\tvalidation_0-rmse:32.2671\tvalidation_1-rmse:38.2021\n",
            "[51]\tvalidation_0-rmse:32.2631\tvalidation_1-rmse:38.1888\n",
            "[52]\tvalidation_0-rmse:32.2598\tvalidation_1-rmse:38.1768\n",
            "[53]\tvalidation_0-rmse:32.2567\tvalidation_1-rmse:38.163\n",
            "[54]\tvalidation_0-rmse:32.2545\tvalidation_1-rmse:38.1536\n",
            "[55]\tvalidation_0-rmse:32.2523\tvalidation_1-rmse:38.1436\n",
            "[56]\tvalidation_0-rmse:32.2509\tvalidation_1-rmse:38.1359\n",
            "[57]\tvalidation_0-rmse:32.2493\tvalidation_1-rmse:38.1281\n",
            "[58]\tvalidation_0-rmse:32.2467\tvalidation_1-rmse:38.1274\n",
            "[59]\tvalidation_0-rmse:32.2454\tvalidation_1-rmse:38.1217\n",
            "[60]\tvalidation_0-rmse:32.2431\tvalidation_1-rmse:38.1226\n",
            "[61]\tvalidation_0-rmse:32.2421\tvalidation_1-rmse:38.115\n",
            "[62]\tvalidation_0-rmse:32.24\tvalidation_1-rmse:38.1167\n",
            "[63]\tvalidation_0-rmse:32.239\tvalidation_1-rmse:38.1102\n",
            "[64]\tvalidation_0-rmse:32.2373\tvalidation_1-rmse:38.1122\n",
            "[65]\tvalidation_0-rmse:32.2364\tvalidation_1-rmse:38.1068\n",
            "[66]\tvalidation_0-rmse:32.2349\tvalidation_1-rmse:38.1092\n",
            "[67]\tvalidation_0-rmse:32.2341\tvalidation_1-rmse:38.1034\n",
            "[68]\tvalidation_0-rmse:32.2329\tvalidation_1-rmse:38.105\n",
            "[69]\tvalidation_0-rmse:32.2322\tvalidation_1-rmse:38.1004\n",
            "[70]\tvalidation_0-rmse:32.231\tvalidation_1-rmse:38.1031\n",
            "[71]\tvalidation_0-rmse:32.2302\tvalidation_1-rmse:38.097\n",
            "[72]\tvalidation_0-rmse:32.2291\tvalidation_1-rmse:38.0998\n",
            "[73]\tvalidation_0-rmse:32.2285\tvalidation_1-rmse:38.0948\n",
            "[74]\tvalidation_0-rmse:32.2278\tvalidation_1-rmse:38.0907\n",
            "[75]\tvalidation_0-rmse:32.2268\tvalidation_1-rmse:38.0937\n",
            "[76]\tvalidation_0-rmse:32.2262\tvalidation_1-rmse:38.0898\n",
            "[77]\tvalidation_0-rmse:32.2253\tvalidation_1-rmse:38.0924\n",
            "[78]\tvalidation_0-rmse:32.2247\tvalidation_1-rmse:38.0873\n",
            "[79]\tvalidation_0-rmse:32.2237\tvalidation_1-rmse:38.0904\n",
            "[80]\tvalidation_0-rmse:32.2232\tvalidation_1-rmse:38.086\n",
            "[81]\tvalidation_0-rmse:32.2223\tvalidation_1-rmse:38.089\n",
            "[82]\tvalidation_0-rmse:32.2218\tvalidation_1-rmse:38.0848\n",
            "[83]\tvalidation_0-rmse:32.221\tvalidation_1-rmse:38.0874\n",
            "[84]\tvalidation_0-rmse:32.2203\tvalidation_1-rmse:38.0842\n",
            "[85]\tvalidation_0-rmse:32.2195\tvalidation_1-rmse:38.0876\n",
            "[86]\tvalidation_0-rmse:32.219\tvalidation_1-rmse:38.0841\n",
            "[87]\tvalidation_0-rmse:32.218\tvalidation_1-rmse:38.0867\n",
            "[88]\tvalidation_0-rmse:32.2174\tvalidation_1-rmse:38.0827\n",
            "[89]\tvalidation_0-rmse:32.2167\tvalidation_1-rmse:38.0858\n",
            "[90]\tvalidation_0-rmse:32.2162\tvalidation_1-rmse:38.0821\n",
            "[91]\tvalidation_0-rmse:32.2153\tvalidation_1-rmse:38.0847\n",
            "[92]\tvalidation_0-rmse:32.2147\tvalidation_1-rmse:38.0801\n",
            "[93]\tvalidation_0-rmse:32.2141\tvalidation_1-rmse:38.083\n",
            "[94]\tvalidation_0-rmse:32.2135\tvalidation_1-rmse:38.0792\n",
            "[95]\tvalidation_0-rmse:32.2127\tvalidation_1-rmse:38.0818\n",
            "[96]\tvalidation_0-rmse:32.2122\tvalidation_1-rmse:38.0778\n",
            "[97]\tvalidation_0-rmse:32.2114\tvalidation_1-rmse:38.0811\n",
            "[98]\tvalidation_0-rmse:32.2109\tvalidation_1-rmse:38.0792\n",
            "[99]\tvalidation_0-rmse:32.2102\tvalidation_1-rmse:38.0821\n",
            "[100]\tvalidation_0-rmse:32.2096\tvalidation_1-rmse:38.0777\n",
            "[101]\tvalidation_0-rmse:32.209\tvalidation_1-rmse:38.0749\n",
            "[102]\tvalidation_0-rmse:32.2082\tvalidation_1-rmse:38.0785\n",
            "[103]\tvalidation_0-rmse:32.2077\tvalidation_1-rmse:38.0748\n",
            "[104]\tvalidation_0-rmse:32.2071\tvalidation_1-rmse:38.078\n",
            "[105]\tvalidation_0-rmse:32.2065\tvalidation_1-rmse:38.074\n",
            "[106]\tvalidation_0-rmse:32.2058\tvalidation_1-rmse:38.0768\n",
            "[107]\tvalidation_0-rmse:32.2053\tvalidation_1-rmse:38.0733\n",
            "[108]\tvalidation_0-rmse:32.2046\tvalidation_1-rmse:38.0767\n",
            "[109]\tvalidation_0-rmse:32.2041\tvalidation_1-rmse:38.0731\n",
            "[110]\tvalidation_0-rmse:32.2035\tvalidation_1-rmse:38.076\n",
            "[111]\tvalidation_0-rmse:32.203\tvalidation_1-rmse:38.0718\n",
            "[112]\tvalidation_0-rmse:32.2024\tvalidation_1-rmse:38.0755\n",
            "[113]\tvalidation_0-rmse:32.2018\tvalidation_1-rmse:38.0724\n",
            "[114]\tvalidation_0-rmse:32.2011\tvalidation_1-rmse:38.0751\n",
            "[115]\tvalidation_0-rmse:32.2006\tvalidation_1-rmse:38.0715\n",
            "[116]\tvalidation_0-rmse:32.1999\tvalidation_1-rmse:38.0748\n",
            "[117]\tvalidation_0-rmse:32.1994\tvalidation_1-rmse:38.0714\n",
            "[118]\tvalidation_0-rmse:32.1989\tvalidation_1-rmse:38.0744\n",
            "[119]\tvalidation_0-rmse:32.1984\tvalidation_1-rmse:38.0705\n",
            "[120]\tvalidation_0-rmse:32.1978\tvalidation_1-rmse:38.0737\n",
            "[121]\tvalidation_0-rmse:32.1972\tvalidation_1-rmse:38.0697\n",
            "[122]\tvalidation_0-rmse:32.1967\tvalidation_1-rmse:38.0725\n",
            "[123]\tvalidation_0-rmse:32.1962\tvalidation_1-rmse:38.0689\n",
            "[124]\tvalidation_0-rmse:32.1956\tvalidation_1-rmse:38.0663\n",
            "[125]\tvalidation_0-rmse:32.1949\tvalidation_1-rmse:38.0696\n",
            "[126]\tvalidation_0-rmse:32.1945\tvalidation_1-rmse:38.0731\n",
            "[127]\tvalidation_0-rmse:32.1939\tvalidation_1-rmse:38.0698\n",
            "[128]\tvalidation_0-rmse:32.1934\tvalidation_1-rmse:38.0724\n",
            "[129]\tvalidation_0-rmse:32.1928\tvalidation_1-rmse:38.0686\n",
            "[130]\tvalidation_0-rmse:32.1923\tvalidation_1-rmse:38.0716\n",
            "[131]\tvalidation_0-rmse:32.1917\tvalidation_1-rmse:38.0677\n",
            "[132]\tvalidation_0-rmse:32.1912\tvalidation_1-rmse:38.0648\n",
            "[133]\tvalidation_0-rmse:32.1907\tvalidation_1-rmse:38.0682\n",
            "[134]\tvalidation_0-rmse:32.1902\tvalidation_1-rmse:38.0642\n",
            "[135]\tvalidation_0-rmse:32.1896\tvalidation_1-rmse:38.067\n",
            "[136]\tvalidation_0-rmse:32.1891\tvalidation_1-rmse:38.0656\n",
            "[137]\tvalidation_0-rmse:32.1886\tvalidation_1-rmse:38.0687\n",
            "[138]\tvalidation_0-rmse:32.1881\tvalidation_1-rmse:38.0653\n",
            "[139]\tvalidation_0-rmse:32.1876\tvalidation_1-rmse:38.0688\n",
            "[140]\tvalidation_0-rmse:32.1871\tvalidation_1-rmse:38.0656\n",
            "[141]\tvalidation_0-rmse:32.1866\tvalidation_1-rmse:38.0686\n",
            "[142]\tvalidation_0-rmse:32.1861\tvalidation_1-rmse:38.0652\n",
            "[143]\tvalidation_0-rmse:32.1856\tvalidation_1-rmse:38.0681\n",
            "[144]\tvalidation_0-rmse:32.1851\tvalidation_1-rmse:38.0642\n",
            "[145]\tvalidation_0-rmse:32.1846\tvalidation_1-rmse:38.0674\n",
            "[146]\tvalidation_0-rmse:32.1842\tvalidation_1-rmse:38.0658\n",
            "[147]\tvalidation_0-rmse:32.1837\tvalidation_1-rmse:38.0687\n",
            "[148]\tvalidation_0-rmse:32.1832\tvalidation_1-rmse:38.0658\n",
            "[149]\tvalidation_0-rmse:32.1827\tvalidation_1-rmse:38.0692\n",
            "[150]\tvalidation_0-rmse:32.1822\tvalidation_1-rmse:38.0666\n",
            "[151]\tvalidation_0-rmse:32.1817\tvalidation_1-rmse:38.0696\n",
            "[152]\tvalidation_0-rmse:32.1812\tvalidation_1-rmse:38.0658\n",
            "[153]\tvalidation_0-rmse:32.1807\tvalidation_1-rmse:38.0685\n",
            "[154]\tvalidation_0-rmse:32.1803\tvalidation_1-rmse:38.0654\n",
            "[155]\tvalidation_0-rmse:32.1798\tvalidation_1-rmse:38.0683\n",
            "[156]\tvalidation_0-rmse:32.1793\tvalidation_1-rmse:38.0651\n",
            "[157]\tvalidation_0-rmse:32.1789\tvalidation_1-rmse:38.0677\n",
            "[158]\tvalidation_0-rmse:32.1784\tvalidation_1-rmse:38.0646\n",
            "[159]\tvalidation_0-rmse:32.1779\tvalidation_1-rmse:38.0678\n",
            "[160]\tvalidation_0-rmse:32.1775\tvalidation_1-rmse:38.0663\n",
            "[161]\tvalidation_0-rmse:32.177\tvalidation_1-rmse:38.064\n",
            "[162]\tvalidation_0-rmse:32.1765\tvalidation_1-rmse:38.0672\n",
            "[163]\tvalidation_0-rmse:32.176\tvalidation_1-rmse:38.0635\n",
            "[164]\tvalidation_0-rmse:32.1756\tvalidation_1-rmse:38.0664\n",
            "[165]\tvalidation_0-rmse:32.1752\tvalidation_1-rmse:38.0634\n",
            "[166]\tvalidation_0-rmse:32.1747\tvalidation_1-rmse:38.0663\n",
            "[167]\tvalidation_0-rmse:32.1742\tvalidation_1-rmse:38.0628\n",
            "[168]\tvalidation_0-rmse:32.1738\tvalidation_1-rmse:38.0659\n",
            "[169]\tvalidation_0-rmse:32.1733\tvalidation_1-rmse:38.0632\n",
            "[170]\tvalidation_0-rmse:32.1729\tvalidation_1-rmse:38.066\n",
            "[171]\tvalidation_0-rmse:32.1724\tvalidation_1-rmse:38.0632\n",
            "[172]\tvalidation_0-rmse:32.172\tvalidation_1-rmse:38.0661\n",
            "[173]\tvalidation_0-rmse:32.1716\tvalidation_1-rmse:38.0629\n",
            "[174]\tvalidation_0-rmse:32.1712\tvalidation_1-rmse:38.0659\n",
            "[175]\tvalidation_0-rmse:32.1707\tvalidation_1-rmse:38.0631\n",
            "[176]\tvalidation_0-rmse:32.1703\tvalidation_1-rmse:38.0663\n",
            "[177]\tvalidation_0-rmse:32.1698\tvalidation_1-rmse:38.0649\n",
            "[178]\tvalidation_0-rmse:32.1695\tvalidation_1-rmse:38.0676\n",
            "[179]\tvalidation_0-rmse:32.169\tvalidation_1-rmse:38.064\n",
            "[180]\tvalidation_0-rmse:32.1686\tvalidation_1-rmse:38.0668\n",
            "[181]\tvalidation_0-rmse:32.1682\tvalidation_1-rmse:38.0636\n",
            "[182]\tvalidation_0-rmse:32.1677\tvalidation_1-rmse:38.0665\n",
            "[183]\tvalidation_0-rmse:32.1673\tvalidation_1-rmse:38.0642\n",
            "[184]\tvalidation_0-rmse:32.1669\tvalidation_1-rmse:38.0675\n",
            "[185]\tvalidation_0-rmse:32.1665\tvalidation_1-rmse:38.0643\n",
            "[186]\tvalidation_0-rmse:32.1661\tvalidation_1-rmse:38.067\n",
            "[187]\tvalidation_0-rmse:32.1657\tvalidation_1-rmse:38.064\n",
            "[188]\tvalidation_0-rmse:32.1653\tvalidation_1-rmse:38.0667\n",
            "[189]\tvalidation_0-rmse:32.1649\tvalidation_1-rmse:38.0629\n",
            "[190]\tvalidation_0-rmse:32.1644\tvalidation_1-rmse:38.0608\n",
            "[191]\tvalidation_0-rmse:32.164\tvalidation_1-rmse:38.0637\n",
            "[192]\tvalidation_0-rmse:32.1636\tvalidation_1-rmse:38.061\n",
            "[193]\tvalidation_0-rmse:32.1632\tvalidation_1-rmse:38.064\n",
            "[194]\tvalidation_0-rmse:32.1628\tvalidation_1-rmse:38.061\n",
            "[195]\tvalidation_0-rmse:32.1624\tvalidation_1-rmse:38.0642\n",
            "[196]\tvalidation_0-rmse:32.162\tvalidation_1-rmse:38.0629\n",
            "[197]\tvalidation_0-rmse:32.1616\tvalidation_1-rmse:38.0655\n",
            "[198]\tvalidation_0-rmse:32.1612\tvalidation_1-rmse:38.0619\n",
            "[199]\tvalidation_0-rmse:32.1608\tvalidation_1-rmse:38.0647\n",
            "[200]\tvalidation_0-rmse:32.1604\tvalidation_1-rmse:38.0624\n",
            "[201]\tvalidation_0-rmse:32.16\tvalidation_1-rmse:38.0649\n",
            "[202]\tvalidation_0-rmse:32.1596\tvalidation_1-rmse:38.0624\n",
            "[203]\tvalidation_0-rmse:32.1593\tvalidation_1-rmse:38.0645\n",
            "[204]\tvalidation_0-rmse:32.1589\tvalidation_1-rmse:38.0615\n",
            "[205]\tvalidation_0-rmse:32.1585\tvalidation_1-rmse:38.0645\n",
            "[206]\tvalidation_0-rmse:32.1581\tvalidation_1-rmse:38.0617\n",
            "[207]\tvalidation_0-rmse:32.1577\tvalidation_1-rmse:38.0642\n",
            "[208]\tvalidation_0-rmse:32.1574\tvalidation_1-rmse:38.061\n",
            "[209]\tvalidation_0-rmse:32.157\tvalidation_1-rmse:38.0636\n",
            "[210]\tvalidation_0-rmse:32.1566\tvalidation_1-rmse:38.0622\n",
            "[211]\tvalidation_0-rmse:32.1562\tvalidation_1-rmse:38.0642\n",
            "[212]\tvalidation_0-rmse:32.1559\tvalidation_1-rmse:38.0616\n",
            "[213]\tvalidation_0-rmse:32.1555\tvalidation_1-rmse:38.0643\n",
            "[214]\tvalidation_0-rmse:32.1552\tvalidation_1-rmse:38.0613\n",
            "[215]\tvalidation_0-rmse:32.1548\tvalidation_1-rmse:38.0641\n",
            "[216]\tvalidation_0-rmse:32.1544\tvalidation_1-rmse:38.0606\n",
            "[217]\tvalidation_0-rmse:32.1541\tvalidation_1-rmse:38.0634\n",
            "[218]\tvalidation_0-rmse:32.1536\tvalidation_1-rmse:38.0608\n",
            "[219]\tvalidation_0-rmse:32.1533\tvalidation_1-rmse:38.0628\n",
            "[220]\tvalidation_0-rmse:32.1529\tvalidation_1-rmse:38.0599\n",
            "[221]\tvalidation_0-rmse:32.1526\tvalidation_1-rmse:38.0627\n",
            "[222]\tvalidation_0-rmse:32.1522\tvalidation_1-rmse:38.0592\n",
            "[223]\tvalidation_0-rmse:32.1518\tvalidation_1-rmse:38.0615\n",
            "[224]\tvalidation_0-rmse:32.1515\tvalidation_1-rmse:38.0589\n",
            "[225]\tvalidation_0-rmse:32.1511\tvalidation_1-rmse:38.0572\n",
            "[226]\tvalidation_0-rmse:32.1507\tvalidation_1-rmse:38.0594\n",
            "[227]\tvalidation_0-rmse:32.1504\tvalidation_1-rmse:38.0622\n",
            "[228]\tvalidation_0-rmse:32.15\tvalidation_1-rmse:38.0594\n",
            "[229]\tvalidation_0-rmse:32.1497\tvalidation_1-rmse:38.0565\n",
            "[230]\tvalidation_0-rmse:32.1493\tvalidation_1-rmse:38.0592\n",
            "[231]\tvalidation_0-rmse:32.1489\tvalidation_1-rmse:38.0567\n",
            "[232]\tvalidation_0-rmse:32.1486\tvalidation_1-rmse:38.0591\n",
            "[233]\tvalidation_0-rmse:32.1483\tvalidation_1-rmse:38.0563\n",
            "[234]\tvalidation_0-rmse:32.1479\tvalidation_1-rmse:38.0588\n",
            "[235]\tvalidation_0-rmse:32.1476\tvalidation_1-rmse:38.0567\n",
            "[236]\tvalidation_0-rmse:32.1472\tvalidation_1-rmse:38.0594\n",
            "[237]\tvalidation_0-rmse:32.1469\tvalidation_1-rmse:38.0572\n",
            "[238]\tvalidation_0-rmse:32.1466\tvalidation_1-rmse:38.0591\n",
            "[239]\tvalidation_0-rmse:32.1462\tvalidation_1-rmse:38.058\n",
            "[240]\tvalidation_0-rmse:32.1459\tvalidation_1-rmse:38.0606\n",
            "[241]\tvalidation_0-rmse:32.1455\tvalidation_1-rmse:38.0577\n",
            "[242]\tvalidation_0-rmse:32.1452\tvalidation_1-rmse:38.0605\n",
            "[243]\tvalidation_0-rmse:32.1449\tvalidation_1-rmse:38.0581\n",
            "[244]\tvalidation_0-rmse:32.1446\tvalidation_1-rmse:38.0601\n",
            "[245]\tvalidation_0-rmse:32.1442\tvalidation_1-rmse:38.0573\n",
            "[246]\tvalidation_0-rmse:32.1439\tvalidation_1-rmse:38.0597\n",
            "[247]\tvalidation_0-rmse:32.1436\tvalidation_1-rmse:38.0566\n",
            "[248]\tvalidation_0-rmse:32.1431\tvalidation_1-rmse:38.0548\n",
            "[249]\tvalidation_0-rmse:32.1428\tvalidation_1-rmse:38.0575\n",
            "[250]\tvalidation_0-rmse:32.1425\tvalidation_1-rmse:38.0599\n",
            "[251]\tvalidation_0-rmse:32.1422\tvalidation_1-rmse:38.0573\n",
            "[252]\tvalidation_0-rmse:32.1418\tvalidation_1-rmse:38.0541\n",
            "[253]\tvalidation_0-rmse:32.1415\tvalidation_1-rmse:38.0566\n",
            "[254]\tvalidation_0-rmse:32.1412\tvalidation_1-rmse:38.054\n",
            "[255]\tvalidation_0-rmse:32.1408\tvalidation_1-rmse:38.0564\n",
            "[256]\tvalidation_0-rmse:32.1405\tvalidation_1-rmse:38.0542\n",
            "[257]\tvalidation_0-rmse:32.1401\tvalidation_1-rmse:38.0568\n",
            "[258]\tvalidation_0-rmse:32.1398\tvalidation_1-rmse:38.0546\n",
            "[259]\tvalidation_0-rmse:32.1395\tvalidation_1-rmse:38.0566\n",
            "[260]\tvalidation_0-rmse:32.1392\tvalidation_1-rmse:38.0541\n",
            "[261]\tvalidation_0-rmse:32.1389\tvalidation_1-rmse:38.0565\n",
            "[262]\tvalidation_0-rmse:32.1386\tvalidation_1-rmse:38.0538\n",
            "[263]\tvalidation_0-rmse:32.1382\tvalidation_1-rmse:38.0562\n",
            "[264]\tvalidation_0-rmse:32.1379\tvalidation_1-rmse:38.0533\n",
            "[265]\tvalidation_0-rmse:32.1376\tvalidation_1-rmse:38.0553\n",
            "[266]\tvalidation_0-rmse:32.1373\tvalidation_1-rmse:38.0539\n",
            "[267]\tvalidation_0-rmse:32.137\tvalidation_1-rmse:38.0567\n",
            "[268]\tvalidation_0-rmse:32.1366\tvalidation_1-rmse:38.054\n",
            "[269]\tvalidation_0-rmse:32.1363\tvalidation_1-rmse:38.0563\n",
            "[270]\tvalidation_0-rmse:32.136\tvalidation_1-rmse:38.054\n",
            "[271]\tvalidation_0-rmse:32.1357\tvalidation_1-rmse:38.0523\n",
            "[272]\tvalidation_0-rmse:32.1353\tvalidation_1-rmse:38.0549\n",
            "[273]\tvalidation_0-rmse:32.135\tvalidation_1-rmse:38.057\n",
            "[274]\tvalidation_0-rmse:32.1347\tvalidation_1-rmse:38.0544\n",
            "[275]\tvalidation_0-rmse:32.1344\tvalidation_1-rmse:38.0563\n",
            "[276]\tvalidation_0-rmse:32.1341\tvalidation_1-rmse:38.0538\n",
            "[277]\tvalidation_0-rmse:32.1337\tvalidation_1-rmse:38.052\n",
            "[278]\tvalidation_0-rmse:32.1334\tvalidation_1-rmse:38.0545\n",
            "[279]\tvalidation_0-rmse:32.1331\tvalidation_1-rmse:38.052\n",
            "[280]\tvalidation_0-rmse:32.1328\tvalidation_1-rmse:38.0544\n",
            "[281]\tvalidation_0-rmse:32.1325\tvalidation_1-rmse:38.0513\n",
            "[282]\tvalidation_0-rmse:32.1322\tvalidation_1-rmse:38.0545\n",
            "[283]\tvalidation_0-rmse:32.1319\tvalidation_1-rmse:38.0513\n",
            "[284]\tvalidation_0-rmse:32.1316\tvalidation_1-rmse:38.0538\n",
            "[285]\tvalidation_0-rmse:32.1313\tvalidation_1-rmse:38.0527\n",
            "[286]\tvalidation_0-rmse:32.131\tvalidation_1-rmse:38.0548\n",
            "[287]\tvalidation_0-rmse:32.1307\tvalidation_1-rmse:38.0525\n",
            "[288]\tvalidation_0-rmse:32.1304\tvalidation_1-rmse:38.0543\n",
            "[289]\tvalidation_0-rmse:32.1301\tvalidation_1-rmse:38.0522\n",
            "[290]\tvalidation_0-rmse:32.1298\tvalidation_1-rmse:38.0547\n",
            "[291]\tvalidation_0-rmse:32.1295\tvalidation_1-rmse:38.0522\n",
            "[292]\tvalidation_0-rmse:32.1292\tvalidation_1-rmse:38.0545\n",
            "[293]\tvalidation_0-rmse:32.1289\tvalidation_1-rmse:38.0521\n",
            "[294]\tvalidation_0-rmse:32.1286\tvalidation_1-rmse:38.0544\n",
            "[295]\tvalidation_0-rmse:32.1283\tvalidation_1-rmse:38.0519\n",
            "[296]\tvalidation_0-rmse:32.128\tvalidation_1-rmse:38.0538\n",
            "[297]\tvalidation_0-rmse:32.1277\tvalidation_1-rmse:38.0513\n",
            "[298]\tvalidation_0-rmse:32.1274\tvalidation_1-rmse:38.0536\n",
            "[299]\tvalidation_0-rmse:32.1272\tvalidation_1-rmse:38.051\n",
            "[300]\tvalidation_0-rmse:32.1268\tvalidation_1-rmse:38.0494\n",
            "[301]\tvalidation_0-rmse:32.1266\tvalidation_1-rmse:38.0513\n",
            "[302]\tvalidation_0-rmse:32.1263\tvalidation_1-rmse:38.0487\n",
            "[303]\tvalidation_0-rmse:32.1259\tvalidation_1-rmse:38.0518\n",
            "[304]\tvalidation_0-rmse:32.1257\tvalidation_1-rmse:38.0497\n",
            "[305]\tvalidation_0-rmse:32.1253\tvalidation_1-rmse:38.0521\n",
            "[306]\tvalidation_0-rmse:32.1251\tvalidation_1-rmse:38.0511\n",
            "[307]\tvalidation_0-rmse:32.1248\tvalidation_1-rmse:38.0534\n",
            "[308]\tvalidation_0-rmse:32.1245\tvalidation_1-rmse:38.051\n",
            "[309]\tvalidation_0-rmse:32.1242\tvalidation_1-rmse:38.0529\n",
            "[310]\tvalidation_0-rmse:32.1239\tvalidation_1-rmse:38.0509\n",
            "[311]\tvalidation_0-rmse:32.1236\tvalidation_1-rmse:38.0532\n",
            "[312]\tvalidation_0-rmse:32.1233\tvalidation_1-rmse:38.0508\n",
            "[313]\tvalidation_0-rmse:32.1231\tvalidation_1-rmse:38.0531\n",
            "[314]\tvalidation_0-rmse:32.1228\tvalidation_1-rmse:38.0511\n",
            "[315]\tvalidation_0-rmse:32.1225\tvalidation_1-rmse:38.0529\n",
            "[316]\tvalidation_0-rmse:32.1223\tvalidation_1-rmse:38.0499\n",
            "[317]\tvalidation_0-rmse:32.1219\tvalidation_1-rmse:38.0519\n",
            "[318]\tvalidation_0-rmse:32.1216\tvalidation_1-rmse:38.0496\n",
            "[319]\tvalidation_0-rmse:32.1214\tvalidation_1-rmse:38.0514\n",
            "[320]\tvalidation_0-rmse:32.1211\tvalidation_1-rmse:38.0489\n",
            "[321]\tvalidation_0-rmse:32.1208\tvalidation_1-rmse:38.0513\n",
            "[322]\tvalidation_0-rmse:32.1205\tvalidation_1-rmse:38.0486\n",
            "[323]\tvalidation_0-rmse:32.1202\tvalidation_1-rmse:38.0515\n",
            "[324]\tvalidation_0-rmse:32.12\tvalidation_1-rmse:38.0492\n",
            "[325]\tvalidation_0-rmse:32.1197\tvalidation_1-rmse:38.0516\n",
            "[326]\tvalidation_0-rmse:32.1194\tvalidation_1-rmse:38.0487\n",
            "[327]\tvalidation_0-rmse:32.1191\tvalidation_1-rmse:38.047\n",
            "[328]\tvalidation_0-rmse:32.1189\tvalidation_1-rmse:38.0492\n",
            "[329]\tvalidation_0-rmse:32.1186\tvalidation_1-rmse:38.0469\n",
            "[330]\tvalidation_0-rmse:32.1183\tvalidation_1-rmse:38.0489\n",
            "[331]\tvalidation_0-rmse:32.1181\tvalidation_1-rmse:38.0469\n",
            "[332]\tvalidation_0-rmse:32.1178\tvalidation_1-rmse:38.0492\n",
            "[333]\tvalidation_0-rmse:32.1175\tvalidation_1-rmse:38.0472\n",
            "[334]\tvalidation_0-rmse:32.1172\tvalidation_1-rmse:38.0502\n",
            "[335]\tvalidation_0-rmse:32.117\tvalidation_1-rmse:38.0479\n",
            "[336]\tvalidation_0-rmse:32.1167\tvalidation_1-rmse:38.0502\n",
            "[337]\tvalidation_0-rmse:32.1164\tvalidation_1-rmse:38.0492\n",
            "[338]\tvalidation_0-rmse:32.1162\tvalidation_1-rmse:38.0511\n",
            "[339]\tvalidation_0-rmse:32.1159\tvalidation_1-rmse:38.0489\n",
            "[340]\tvalidation_0-rmse:32.1157\tvalidation_1-rmse:38.0509\n",
            "[341]\tvalidation_0-rmse:32.1154\tvalidation_1-rmse:38.0482\n",
            "[342]\tvalidation_0-rmse:32.1152\tvalidation_1-rmse:38.0505\n",
            "[343]\tvalidation_0-rmse:32.1149\tvalidation_1-rmse:38.0481\n",
            "[344]\tvalidation_0-rmse:32.1146\tvalidation_1-rmse:38.0502\n",
            "[345]\tvalidation_0-rmse:32.1144\tvalidation_1-rmse:38.0482\n",
            "[346]\tvalidation_0-rmse:32.1141\tvalidation_1-rmse:38.05\n",
            "[347]\tvalidation_0-rmse:32.1138\tvalidation_1-rmse:38.048\n",
            "[348]\tvalidation_0-rmse:32.1136\tvalidation_1-rmse:38.0502\n",
            "[349]\tvalidation_0-rmse:32.1133\tvalidation_1-rmse:38.048\n",
            "[350]\tvalidation_0-rmse:32.1131\tvalidation_1-rmse:38.0504\n",
            "[351]\tvalidation_0-rmse:32.1128\tvalidation_1-rmse:38.048\n",
            "[352]\tvalidation_0-rmse:32.1125\tvalidation_1-rmse:38.0498\n",
            "[353]\tvalidation_0-rmse:32.1123\tvalidation_1-rmse:38.0477\n",
            "[354]\tvalidation_0-rmse:32.112\tvalidation_1-rmse:38.0461\n",
            "[355]\tvalidation_0-rmse:32.1118\tvalidation_1-rmse:38.0483\n",
            "[356]\tvalidation_0-rmse:32.1115\tvalidation_1-rmse:38.0462\n",
            "[357]\tvalidation_0-rmse:32.1113\tvalidation_1-rmse:38.048\n",
            "[358]\tvalidation_0-rmse:32.111\tvalidation_1-rmse:38.0453\n",
            "[359]\tvalidation_0-rmse:32.1108\tvalidation_1-rmse:38.0474\n",
            "[360]\tvalidation_0-rmse:32.1105\tvalidation_1-rmse:38.0454\n",
            "[361]\tvalidation_0-rmse:32.1103\tvalidation_1-rmse:38.0477\n",
            "[362]\tvalidation_0-rmse:32.11\tvalidation_1-rmse:38.0454\n",
            "[363]\tvalidation_0-rmse:32.1098\tvalidation_1-rmse:38.0471\n",
            "[364]\tvalidation_0-rmse:32.1096\tvalidation_1-rmse:38.0449\n",
            "[365]\tvalidation_0-rmse:32.1093\tvalidation_1-rmse:38.0472\n",
            "[366]\tvalidation_0-rmse:32.1091\tvalidation_1-rmse:38.0462\n",
            "[367]\tvalidation_0-rmse:32.1088\tvalidation_1-rmse:38.048\n",
            "[368]\tvalidation_0-rmse:32.1086\tvalidation_1-rmse:38.046\n",
            "[369]\tvalidation_0-rmse:32.1083\tvalidation_1-rmse:38.0488\n",
            "[370]\tvalidation_0-rmse:32.1081\tvalidation_1-rmse:38.046\n",
            "[371]\tvalidation_0-rmse:32.1078\tvalidation_1-rmse:38.0444\n",
            "[372]\tvalidation_0-rmse:32.1075\tvalidation_1-rmse:38.0467\n",
            "[373]\tvalidation_0-rmse:32.1073\tvalidation_1-rmse:38.0488\n",
            "[374]\tvalidation_0-rmse:32.1071\tvalidation_1-rmse:38.0464\n",
            "[375]\tvalidation_0-rmse:32.1068\tvalidation_1-rmse:38.0486\n",
            "[376]\tvalidation_0-rmse:32.1066\tvalidation_1-rmse:38.0465\n",
            "[377]\tvalidation_0-rmse:32.1063\tvalidation_1-rmse:38.0482\n",
            "[378]\tvalidation_0-rmse:32.1061\tvalidation_1-rmse:38.0454\n",
            "[379]\tvalidation_0-rmse:32.1058\tvalidation_1-rmse:38.0438\n",
            "[380]\tvalidation_0-rmse:32.1055\tvalidation_1-rmse:38.046\n",
            "[381]\tvalidation_0-rmse:32.1053\tvalidation_1-rmse:38.0435\n",
            "[382]\tvalidation_0-rmse:32.105\tvalidation_1-rmse:38.0453\n",
            "[383]\tvalidation_0-rmse:32.1048\tvalidation_1-rmse:38.0431\n",
            "[384]\tvalidation_0-rmse:32.1046\tvalidation_1-rmse:38.0453\n",
            "[385]\tvalidation_0-rmse:32.1043\tvalidation_1-rmse:38.0432\n",
            "[386]\tvalidation_0-rmse:32.1041\tvalidation_1-rmse:38.045\n",
            "[387]\tvalidation_0-rmse:32.1039\tvalidation_1-rmse:38.043\n",
            "[388]\tvalidation_0-rmse:32.1037\tvalidation_1-rmse:38.0453\n",
            "[389]\tvalidation_0-rmse:32.1034\tvalidation_1-rmse:38.0432\n",
            "[390]\tvalidation_0-rmse:32.1032\tvalidation_1-rmse:38.0452\n",
            "[391]\tvalidation_0-rmse:32.1029\tvalidation_1-rmse:38.0434\n",
            "[392]\tvalidation_0-rmse:32.1027\tvalidation_1-rmse:38.0451\n",
            "[393]\tvalidation_0-rmse:32.1024\tvalidation_1-rmse:38.0432\n",
            "[394]\tvalidation_0-rmse:32.1022\tvalidation_1-rmse:38.0454\n",
            "[395]\tvalidation_0-rmse:32.102\tvalidation_1-rmse:38.0432\n",
            "[396]\tvalidation_0-rmse:32.1018\tvalidation_1-rmse:38.0449\n",
            "[397]\tvalidation_0-rmse:32.1016\tvalidation_1-rmse:38.0426\n",
            "[398]\tvalidation_0-rmse:32.1014\tvalidation_1-rmse:38.0448\n",
            "[399]\tvalidation_0-rmse:32.1011\tvalidation_1-rmse:38.0425\n",
            "[400]\tvalidation_0-rmse:32.1009\tvalidation_1-rmse:38.045\n",
            "[401]\tvalidation_0-rmse:32.1006\tvalidation_1-rmse:38.0423\n",
            "[402]\tvalidation_0-rmse:32.1004\tvalidation_1-rmse:38.044\n",
            "[403]\tvalidation_0-rmse:32.1002\tvalidation_1-rmse:38.0422\n",
            "[404]\tvalidation_0-rmse:32.1\tvalidation_1-rmse:38.0444\n",
            "[405]\tvalidation_0-rmse:32.0997\tvalidation_1-rmse:38.0423\n",
            "[406]\tvalidation_0-rmse:32.0995\tvalidation_1-rmse:38.045\n",
            "[407]\tvalidation_0-rmse:32.0993\tvalidation_1-rmse:38.0423\n",
            "[408]\tvalidation_0-rmse:32.099\tvalidation_1-rmse:38.0408\n",
            "[409]\tvalidation_0-rmse:32.0988\tvalidation_1-rmse:38.0425\n",
            "[410]\tvalidation_0-rmse:32.0986\tvalidation_1-rmse:38.0407\n",
            "[411]\tvalidation_0-rmse:32.0983\tvalidation_1-rmse:38.0425\n",
            "[412]\tvalidation_0-rmse:32.0981\tvalidation_1-rmse:38.0405\n",
            "[413]\tvalidation_0-rmse:32.0979\tvalidation_1-rmse:38.0428\n",
            "[414]\tvalidation_0-rmse:32.0977\tvalidation_1-rmse:38.0418\n",
            "[415]\tvalidation_0-rmse:32.0975\tvalidation_1-rmse:38.0438\n",
            "[416]\tvalidation_0-rmse:32.0972\tvalidation_1-rmse:38.0419\n",
            "[417]\tvalidation_0-rmse:32.097\tvalidation_1-rmse:38.0441\n",
            "[418]\tvalidation_0-rmse:32.0968\tvalidation_1-rmse:38.0421\n",
            "[419]\tvalidation_0-rmse:32.0966\tvalidation_1-rmse:38.0438\n",
            "[420]\tvalidation_0-rmse:32.0964\tvalidation_1-rmse:38.0419\n",
            "[421]\tvalidation_0-rmse:32.0962\tvalidation_1-rmse:38.0437\n",
            "[422]\tvalidation_0-rmse:32.096\tvalidation_1-rmse:38.0411\n",
            "[423]\tvalidation_0-rmse:32.0957\tvalidation_1-rmse:38.0434\n",
            "[424]\tvalidation_0-rmse:32.0955\tvalidation_1-rmse:38.0418\n",
            "[425]\tvalidation_0-rmse:32.0953\tvalidation_1-rmse:38.0439\n",
            "[426]\tvalidation_0-rmse:32.0951\tvalidation_1-rmse:38.0417\n",
            "[427]\tvalidation_0-rmse:32.0949\tvalidation_1-rmse:38.0433\n",
            "[428]\tvalidation_0-rmse:32.0947\tvalidation_1-rmse:38.0407\n",
            "[429]\tvalidation_0-rmse:32.0944\tvalidation_1-rmse:38.0433\n",
            "[430]\tvalidation_0-rmse:32.0942\tvalidation_1-rmse:38.0413\n",
            "[431]\tvalidation_0-rmse:32.094\tvalidation_1-rmse:38.0435\n",
            "[432]\tvalidation_0-rmse:32.0938\tvalidation_1-rmse:38.0414\n",
            "[433]\tvalidation_0-rmse:32.0936\tvalidation_1-rmse:38.043\n",
            "[434]\tvalidation_0-rmse:32.0934\tvalidation_1-rmse:38.0411\n",
            "[435]\tvalidation_0-rmse:32.0932\tvalidation_1-rmse:38.0432\n",
            "[436]\tvalidation_0-rmse:32.093\tvalidation_1-rmse:38.041\n",
            "[437]\tvalidation_0-rmse:32.0928\tvalidation_1-rmse:38.0427\n",
            "[438]\tvalidation_0-rmse:32.0926\tvalidation_1-rmse:38.0406\n",
            "[439]\tvalidation_0-rmse:32.0924\tvalidation_1-rmse:38.0426\n",
            "[440]\tvalidation_0-rmse:32.0921\tvalidation_1-rmse:38.0402\n",
            "[441]\tvalidation_0-rmse:32.0919\tvalidation_1-rmse:38.0388\n",
            "[442]\tvalidation_0-rmse:32.0917\tvalidation_1-rmse:38.041\n",
            "[443]\tvalidation_0-rmse:32.0915\tvalidation_1-rmse:38.0431\n",
            "[444]\tvalidation_0-rmse:32.0913\tvalidation_1-rmse:38.0422\n",
            "[445]\tvalidation_0-rmse:32.091\tvalidation_1-rmse:38.0397\n",
            "[446]\tvalidation_0-rmse:32.0908\tvalidation_1-rmse:38.0419\n",
            "[447]\tvalidation_0-rmse:32.0906\tvalidation_1-rmse:38.0403\n",
            "[448]\tvalidation_0-rmse:32.0904\tvalidation_1-rmse:38.0419\n",
            "[449]\tvalidation_0-rmse:32.0902\tvalidation_1-rmse:38.0398\n",
            "[450]\tvalidation_0-rmse:32.09\tvalidation_1-rmse:38.0421\n",
            "[451]\tvalidation_0-rmse:32.0898\tvalidation_1-rmse:38.0403\n",
            "[452]\tvalidation_0-rmse:32.0896\tvalidation_1-rmse:38.042\n",
            "[453]\tvalidation_0-rmse:32.0894\tvalidation_1-rmse:38.0402\n",
            "[454]\tvalidation_0-rmse:32.0892\tvalidation_1-rmse:38.0418\n",
            "[455]\tvalidation_0-rmse:32.089\tvalidation_1-rmse:38.04\n",
            "[456]\tvalidation_0-rmse:32.0888\tvalidation_1-rmse:38.0417\n",
            "[457]\tvalidation_0-rmse:32.0886\tvalidation_1-rmse:38.0397\n",
            "[458]\tvalidation_0-rmse:32.0884\tvalidation_1-rmse:38.0418\n",
            "[459]\tvalidation_0-rmse:32.0882\tvalidation_1-rmse:38.0401\n",
            "[460]\tvalidation_0-rmse:32.088\tvalidation_1-rmse:38.0416\n",
            "[461]\tvalidation_0-rmse:32.0878\tvalidation_1-rmse:38.04\n",
            "[462]\tvalidation_0-rmse:32.0876\tvalidation_1-rmse:38.0421\n",
            "[463]\tvalidation_0-rmse:32.0874\tvalidation_1-rmse:38.0401\n",
            "[464]\tvalidation_0-rmse:32.0872\tvalidation_1-rmse:38.0387\n",
            "[465]\tvalidation_0-rmse:32.087\tvalidation_1-rmse:38.0408\n",
            "[466]\tvalidation_0-rmse:32.0868\tvalidation_1-rmse:38.0426\n",
            "[467]\tvalidation_0-rmse:32.0865\tvalidation_1-rmse:38.04\n",
            "[468]\tvalidation_0-rmse:32.0863\tvalidation_1-rmse:38.042\n",
            "[469]\tvalidation_0-rmse:32.0861\tvalidation_1-rmse:38.0394\n",
            "[470]\tvalidation_0-rmse:32.0859\tvalidation_1-rmse:38.0419\n",
            "[471]\tvalidation_0-rmse:32.0857\tvalidation_1-rmse:38.0399\n",
            "[472]\tvalidation_0-rmse:32.0855\tvalidation_1-rmse:38.0419\n",
            "[473]\tvalidation_0-rmse:32.0853\tvalidation_1-rmse:38.0401\n",
            "[474]\tvalidation_0-rmse:32.0851\tvalidation_1-rmse:38.0417\n",
            "[475]\tvalidation_0-rmse:32.0849\tvalidation_1-rmse:38.0394\n",
            "[476]\tvalidation_0-rmse:32.0847\tvalidation_1-rmse:38.0381\n",
            "[477]\tvalidation_0-rmse:32.0845\tvalidation_1-rmse:38.0395\n",
            "[478]\tvalidation_0-rmse:32.0843\tvalidation_1-rmse:38.0379\n",
            "[479]\tvalidation_0-rmse:32.0841\tvalidation_1-rmse:38.0397\n",
            "[480]\tvalidation_0-rmse:32.084\tvalidation_1-rmse:38.0377\n",
            "[481]\tvalidation_0-rmse:32.0837\tvalidation_1-rmse:38.0389\n",
            "[482]\tvalidation_0-rmse:32.0836\tvalidation_1-rmse:38.0381\n",
            "[483]\tvalidation_0-rmse:32.0834\tvalidation_1-rmse:38.0401\n",
            "[484]\tvalidation_0-rmse:32.0832\tvalidation_1-rmse:38.038\n",
            "[485]\tvalidation_0-rmse:32.083\tvalidation_1-rmse:38.0394\n",
            "[486]\tvalidation_0-rmse:32.0828\tvalidation_1-rmse:38.0375\n",
            "[487]\tvalidation_0-rmse:32.0827\tvalidation_1-rmse:38.0396\n",
            "[488]\tvalidation_0-rmse:32.0825\tvalidation_1-rmse:38.0378\n",
            "[489]\tvalidation_0-rmse:32.0823\tvalidation_1-rmse:38.0394\n",
            "[490]\tvalidation_0-rmse:32.0821\tvalidation_1-rmse:38.0376\n",
            "[491]\tvalidation_0-rmse:32.0819\tvalidation_1-rmse:38.0393\n",
            "[492]\tvalidation_0-rmse:32.0817\tvalidation_1-rmse:38.0375\n",
            "[493]\tvalidation_0-rmse:32.0815\tvalidation_1-rmse:38.0387\n",
            "[494]\tvalidation_0-rmse:32.0813\tvalidation_1-rmse:38.0367\n",
            "[495]\tvalidation_0-rmse:32.0811\tvalidation_1-rmse:38.0387\n",
            "[496]\tvalidation_0-rmse:32.0809\tvalidation_1-rmse:38.0363\n",
            "[497]\tvalidation_0-rmse:32.0807\tvalidation_1-rmse:38.0378\n",
            "[498]\tvalidation_0-rmse:32.0806\tvalidation_1-rmse:38.0359\n",
            "[499]\tvalidation_0-rmse:32.0804\tvalidation_1-rmse:38.038\n",
            "[500]\tvalidation_0-rmse:32.0802\tvalidation_1-rmse:38.0362\n",
            "[501]\tvalidation_0-rmse:32.08\tvalidation_1-rmse:38.0374\n",
            "[502]\tvalidation_0-rmse:32.0798\tvalidation_1-rmse:38.0364\n",
            "[503]\tvalidation_0-rmse:32.0797\tvalidation_1-rmse:38.038\n",
            "[504]\tvalidation_0-rmse:32.0795\tvalidation_1-rmse:38.0362\n",
            "[505]\tvalidation_0-rmse:32.0793\tvalidation_1-rmse:38.035\n",
            "[506]\tvalidation_0-rmse:32.0791\tvalidation_1-rmse:38.037\n",
            "[507]\tvalidation_0-rmse:32.0789\tvalidation_1-rmse:38.0394\n",
            "[508]\tvalidation_0-rmse:32.0787\tvalidation_1-rmse:38.037\n",
            "[509]\tvalidation_0-rmse:32.0785\tvalidation_1-rmse:38.0352\n",
            "[510]\tvalidation_0-rmse:32.0783\tvalidation_1-rmse:38.0367\n",
            "[511]\tvalidation_0-rmse:32.0782\tvalidation_1-rmse:38.0349\n",
            "[512]\tvalidation_0-rmse:32.078\tvalidation_1-rmse:38.0364\n",
            "[513]\tvalidation_0-rmse:32.0778\tvalidation_1-rmse:38.0341\n",
            "[514]\tvalidation_0-rmse:32.0776\tvalidation_1-rmse:38.0361\n",
            "[515]\tvalidation_0-rmse:32.0774\tvalidation_1-rmse:38.0346\n",
            "[516]\tvalidation_0-rmse:32.0772\tvalidation_1-rmse:38.0365\n",
            "[517]\tvalidation_0-rmse:32.077\tvalidation_1-rmse:38.0346\n",
            "[518]\tvalidation_0-rmse:32.0769\tvalidation_1-rmse:38.0359\n",
            "[519]\tvalidation_0-rmse:32.0767\tvalidation_1-rmse:38.0339\n",
            "[520]\tvalidation_0-rmse:32.0765\tvalidation_1-rmse:38.0357\n",
            "[521]\tvalidation_0-rmse:32.0763\tvalidation_1-rmse:38.034\n",
            "[522]\tvalidation_0-rmse:32.0762\tvalidation_1-rmse:38.0355\n",
            "[523]\tvalidation_0-rmse:32.076\tvalidation_1-rmse:38.0337\n",
            "[524]\tvalidation_0-rmse:32.0758\tvalidation_1-rmse:38.0356\n",
            "[525]\tvalidation_0-rmse:32.0756\tvalidation_1-rmse:38.0337\n",
            "[526]\tvalidation_0-rmse:32.0755\tvalidation_1-rmse:38.0352\n",
            "[527]\tvalidation_0-rmse:32.0753\tvalidation_1-rmse:38.0331\n",
            "[528]\tvalidation_0-rmse:32.0751\tvalidation_1-rmse:38.0355\n",
            "[529]\tvalidation_0-rmse:32.075\tvalidation_1-rmse:38.0346\n",
            "[530]\tvalidation_0-rmse:32.0748\tvalidation_1-rmse:38.0367\n",
            "[531]\tvalidation_0-rmse:32.0745\tvalidation_1-rmse:38.0354\n",
            "[532]\tvalidation_0-rmse:32.0744\tvalidation_1-rmse:38.0365\n",
            "[533]\tvalidation_0-rmse:32.0742\tvalidation_1-rmse:38.0347\n",
            "[534]\tvalidation_0-rmse:32.074\tvalidation_1-rmse:38.036\n",
            "[535]\tvalidation_0-rmse:32.0739\tvalidation_1-rmse:38.0341\n",
            "[536]\tvalidation_0-rmse:32.0737\tvalidation_1-rmse:38.0354\n",
            "[537]\tvalidation_0-rmse:32.0735\tvalidation_1-rmse:38.0331\n",
            "[538]\tvalidation_0-rmse:32.0734\tvalidation_1-rmse:38.0351\n",
            "[539]\tvalidation_0-rmse:32.0732\tvalidation_1-rmse:38.0334\n",
            "[540]\tvalidation_0-rmse:32.073\tvalidation_1-rmse:38.0351\n",
            "[541]\tvalidation_0-rmse:32.0728\tvalidation_1-rmse:38.0328\n",
            "[542]\tvalidation_0-rmse:32.0726\tvalidation_1-rmse:38.0316\n",
            "[543]\tvalidation_0-rmse:32.0725\tvalidation_1-rmse:38.0331\n",
            "[544]\tvalidation_0-rmse:32.0723\tvalidation_1-rmse:38.0315\n",
            "[545]\tvalidation_0-rmse:32.0721\tvalidation_1-rmse:38.0331\n",
            "[546]\tvalidation_0-rmse:32.0719\tvalidation_1-rmse:38.0313\n",
            "[547]\tvalidation_0-rmse:32.0718\tvalidation_1-rmse:38.0325\n",
            "[548]\tvalidation_0-rmse:32.0716\tvalidation_1-rmse:38.0309\n",
            "[549]\tvalidation_0-rmse:32.0715\tvalidation_1-rmse:38.0329\n",
            "[550]\tvalidation_0-rmse:32.0713\tvalidation_1-rmse:38.032\n",
            "[551]\tvalidation_0-rmse:32.0711\tvalidation_1-rmse:38.0333\n",
            "[552]\tvalidation_0-rmse:32.0709\tvalidation_1-rmse:38.0318\n",
            "[553]\tvalidation_0-rmse:32.0707\tvalidation_1-rmse:38.0335\n",
            "[554]\tvalidation_0-rmse:32.0706\tvalidation_1-rmse:38.0313\n",
            "[555]\tvalidation_0-rmse:32.0704\tvalidation_1-rmse:38.0329\n",
            "[556]\tvalidation_0-rmse:32.0703\tvalidation_1-rmse:38.031\n",
            "[557]\tvalidation_0-rmse:32.0701\tvalidation_1-rmse:38.0328\n",
            "[558]\tvalidation_0-rmse:32.0699\tvalidation_1-rmse:38.0312\n",
            "[559]\tvalidation_0-rmse:32.0698\tvalidation_1-rmse:38.0326\n",
            "[560]\tvalidation_0-rmse:32.0696\tvalidation_1-rmse:38.0308\n",
            "[561]\tvalidation_0-rmse:32.0695\tvalidation_1-rmse:38.0324\n",
            "[562]\tvalidation_0-rmse:32.0692\tvalidation_1-rmse:38.031\n",
            "[563]\tvalidation_0-rmse:32.069\tvalidation_1-rmse:38.0327\n",
            "[564]\tvalidation_0-rmse:32.0689\tvalidation_1-rmse:38.0311\n",
            "[565]\tvalidation_0-rmse:32.0687\tvalidation_1-rmse:38.0323\n",
            "[566]\tvalidation_0-rmse:32.0686\tvalidation_1-rmse:38.0303\n",
            "[567]\tvalidation_0-rmse:32.0684\tvalidation_1-rmse:38.0321\n",
            "[568]\tvalidation_0-rmse:32.0683\tvalidation_1-rmse:38.0302\n",
            "[569]\tvalidation_0-rmse:32.0681\tvalidation_1-rmse:38.0314\n",
            "[570]\tvalidation_0-rmse:32.0679\tvalidation_1-rmse:38.0294\n",
            "[571]\tvalidation_0-rmse:32.0677\tvalidation_1-rmse:38.0312\n",
            "[572]\tvalidation_0-rmse:32.0676\tvalidation_1-rmse:38.0303\n",
            "[573]\tvalidation_0-rmse:32.0674\tvalidation_1-rmse:38.0291\n",
            "[574]\tvalidation_0-rmse:32.0672\tvalidation_1-rmse:38.0313\n",
            "[575]\tvalidation_0-rmse:32.067\tvalidation_1-rmse:38.0299\n",
            "[576]\tvalidation_0-rmse:32.0669\tvalidation_1-rmse:38.0319\n",
            "[577]\tvalidation_0-rmse:32.0667\tvalidation_1-rmse:38.0301\n",
            "[578]\tvalidation_0-rmse:32.0666\tvalidation_1-rmse:38.0315\n",
            "[579]\tvalidation_0-rmse:32.0664\tvalidation_1-rmse:38.0295\n",
            "[580]\tvalidation_0-rmse:32.0662\tvalidation_1-rmse:38.0317\n",
            "[581]\tvalidation_0-rmse:32.066\tvalidation_1-rmse:38.0295\n",
            "[582]\tvalidation_0-rmse:32.0659\tvalidation_1-rmse:38.0307\n",
            "[583]\tvalidation_0-rmse:32.0657\tvalidation_1-rmse:38.029\n",
            "[584]\tvalidation_0-rmse:32.0656\tvalidation_1-rmse:38.0309\n",
            "[585]\tvalidation_0-rmse:32.0654\tvalidation_1-rmse:38.0293\n",
            "[586]\tvalidation_0-rmse:32.0652\tvalidation_1-rmse:38.0308\n",
            "[587]\tvalidation_0-rmse:32.0651\tvalidation_1-rmse:38.0291\n",
            "[588]\tvalidation_0-rmse:32.0649\tvalidation_1-rmse:38.0306\n",
            "[589]\tvalidation_0-rmse:32.0648\tvalidation_1-rmse:38.0292\n",
            "[590]\tvalidation_0-rmse:32.0646\tvalidation_1-rmse:38.0306\n",
            "[591]\tvalidation_0-rmse:32.0645\tvalidation_1-rmse:38.0291\n",
            "[592]\tvalidation_0-rmse:32.0643\tvalidation_1-rmse:38.0302\n",
            "[593]\tvalidation_0-rmse:32.0642\tvalidation_1-rmse:38.0294\n",
            "[594]\tvalidation_0-rmse:32.064\tvalidation_1-rmse:38.0312\n",
            "[595]\tvalidation_0-rmse:32.0639\tvalidation_1-rmse:38.0295\n",
            "[596]\tvalidation_0-rmse:32.0637\tvalidation_1-rmse:38.0308\n",
            "[597]\tvalidation_0-rmse:32.0635\tvalidation_1-rmse:38.0288\n",
            "[598]\tvalidation_0-rmse:32.0634\tvalidation_1-rmse:38.0308\n",
            "[599]\tvalidation_0-rmse:32.0631\tvalidation_1-rmse:38.0293\n",
            "[600]\tvalidation_0-rmse:32.063\tvalidation_1-rmse:38.0304\n",
            "[601]\tvalidation_0-rmse:32.0629\tvalidation_1-rmse:38.0287\n",
            "[602]\tvalidation_0-rmse:32.0627\tvalidation_1-rmse:38.0305\n",
            "[603]\tvalidation_0-rmse:32.0626\tvalidation_1-rmse:38.0287\n",
            "[604]\tvalidation_0-rmse:32.0624\tvalidation_1-rmse:38.0303\n",
            "[605]\tvalidation_0-rmse:32.0623\tvalidation_1-rmse:38.0285\n",
            "[606]\tvalidation_0-rmse:32.0621\tvalidation_1-rmse:38.0272\n",
            "[607]\tvalidation_0-rmse:32.0619\tvalidation_1-rmse:38.0286\n",
            "[608]\tvalidation_0-rmse:32.0618\tvalidation_1-rmse:38.0303\n",
            "[609]\tvalidation_0-rmse:32.0616\tvalidation_1-rmse:38.0281\n",
            "[610]\tvalidation_0-rmse:32.0614\tvalidation_1-rmse:38.0298\n",
            "[611]\tvalidation_0-rmse:32.0613\tvalidation_1-rmse:38.0277\n",
            "[612]\tvalidation_0-rmse:32.0611\tvalidation_1-rmse:38.0292\n",
            "[613]\tvalidation_0-rmse:32.061\tvalidation_1-rmse:38.0275\n",
            "[614]\tvalidation_0-rmse:32.0608\tvalidation_1-rmse:38.0289\n",
            "[615]\tvalidation_0-rmse:32.0607\tvalidation_1-rmse:38.027\n",
            "[616]\tvalidation_0-rmse:32.0605\tvalidation_1-rmse:38.0283\n",
            "[617]\tvalidation_0-rmse:32.0604\tvalidation_1-rmse:38.0266\n",
            "[618]\tvalidation_0-rmse:32.0602\tvalidation_1-rmse:38.0253\n",
            "[619]\tvalidation_0-rmse:32.06\tvalidation_1-rmse:38.0268\n",
            "[620]\tvalidation_0-rmse:32.0599\tvalidation_1-rmse:38.0249\n",
            "[621]\tvalidation_0-rmse:32.0597\tvalidation_1-rmse:38.0266\n",
            "[622]\tvalidation_0-rmse:32.0596\tvalidation_1-rmse:38.0252\n",
            "[623]\tvalidation_0-rmse:32.0594\tvalidation_1-rmse:38.0269\n",
            "[624]\tvalidation_0-rmse:32.0592\tvalidation_1-rmse:38.0257\n",
            "[625]\tvalidation_0-rmse:32.0591\tvalidation_1-rmse:38.0272\n",
            "[626]\tvalidation_0-rmse:32.0589\tvalidation_1-rmse:38.0256\n",
            "[627]\tvalidation_0-rmse:32.0588\tvalidation_1-rmse:38.0274\n",
            "[628]\tvalidation_0-rmse:32.0586\tvalidation_1-rmse:38.0257\n",
            "[629]\tvalidation_0-rmse:32.0585\tvalidation_1-rmse:38.0274\n",
            "[630]\tvalidation_0-rmse:32.0584\tvalidation_1-rmse:38.0267\n",
            "[631]\tvalidation_0-rmse:32.0582\tvalidation_1-rmse:38.028\n",
            "[632]\tvalidation_0-rmse:32.0581\tvalidation_1-rmse:38.0261\n",
            "[633]\tvalidation_0-rmse:32.0579\tvalidation_1-rmse:38.0282\n",
            "[634]\tvalidation_0-rmse:32.0577\tvalidation_1-rmse:38.0262\n",
            "[635]\tvalidation_0-rmse:32.0576\tvalidation_1-rmse:38.0279\n",
            "[636]\tvalidation_0-rmse:32.0574\tvalidation_1-rmse:38.0266\n",
            "[637]\tvalidation_0-rmse:32.0572\tvalidation_1-rmse:38.028\n",
            "[638]\tvalidation_0-rmse:32.0571\tvalidation_1-rmse:38.026\n",
            "[639]\tvalidation_0-rmse:32.057\tvalidation_1-rmse:38.0276\n",
            "[640]\tvalidation_0-rmse:32.0568\tvalidation_1-rmse:38.026\n",
            "[641]\tvalidation_0-rmse:32.0567\tvalidation_1-rmse:38.0273\n",
            "[642]\tvalidation_0-rmse:32.0565\tvalidation_1-rmse:38.0257\n",
            "[643]\tvalidation_0-rmse:32.0564\tvalidation_1-rmse:38.027\n",
            "[644]\tvalidation_0-rmse:32.0562\tvalidation_1-rmse:38.0253\n",
            "[645]\tvalidation_0-rmse:32.0561\tvalidation_1-rmse:38.0269\n",
            "[646]\tvalidation_0-rmse:32.0559\tvalidation_1-rmse:38.0253\n",
            "[647]\tvalidation_0-rmse:32.0558\tvalidation_1-rmse:38.0264\n",
            "[648]\tvalidation_0-rmse:32.0556\tvalidation_1-rmse:38.0248\n",
            "[649]\tvalidation_0-rmse:32.0555\tvalidation_1-rmse:38.0261\n",
            "[650]\tvalidation_0-rmse:32.0554\tvalidation_1-rmse:38.0246\n",
            "[651]\tvalidation_0-rmse:32.0552\tvalidation_1-rmse:38.0266\n",
            "[652]\tvalidation_0-rmse:32.0551\tvalidation_1-rmse:38.0248\n",
            "[653]\tvalidation_0-rmse:32.055\tvalidation_1-rmse:38.0264\n",
            "[654]\tvalidation_0-rmse:32.0548\tvalidation_1-rmse:38.0247\n",
            "[655]\tvalidation_0-rmse:32.0547\tvalidation_1-rmse:38.0258\n",
            "[656]\tvalidation_0-rmse:32.0545\tvalidation_1-rmse:38.0241\n",
            "[657]\tvalidation_0-rmse:32.0544\tvalidation_1-rmse:38.0253\n",
            "[658]\tvalidation_0-rmse:32.0542\tvalidation_1-rmse:38.0234\n",
            "[659]\tvalidation_0-rmse:32.0541\tvalidation_1-rmse:38.0251\n",
            "[660]\tvalidation_0-rmse:32.054\tvalidation_1-rmse:38.023\n",
            "[661]\tvalidation_0-rmse:32.0538\tvalidation_1-rmse:38.0218\n",
            "[662]\tvalidation_0-rmse:32.0536\tvalidation_1-rmse:38.024\n",
            "[663]\tvalidation_0-rmse:32.0535\tvalidation_1-rmse:38.0233\n",
            "[664]\tvalidation_0-rmse:32.0533\tvalidation_1-rmse:38.0247\n",
            "[665]\tvalidation_0-rmse:32.0532\tvalidation_1-rmse:38.0228\n",
            "[666]\tvalidation_0-rmse:32.053\tvalidation_1-rmse:38.0245\n",
            "[667]\tvalidation_0-rmse:32.0528\tvalidation_1-rmse:38.0231\n",
            "[668]\tvalidation_0-rmse:32.0527\tvalidation_1-rmse:38.0249\n",
            "[669]\tvalidation_0-rmse:32.0526\tvalidation_1-rmse:38.0232\n",
            "[670]\tvalidation_0-rmse:32.0524\tvalidation_1-rmse:38.025\n",
            "[671]\tvalidation_0-rmse:32.0523\tvalidation_1-rmse:38.0235\n",
            "[672]\tvalidation_0-rmse:32.0521\tvalidation_1-rmse:38.0249\n",
            "[673]\tvalidation_0-rmse:32.052\tvalidation_1-rmse:38.0235\n",
            "[674]\tvalidation_0-rmse:32.0519\tvalidation_1-rmse:38.0249\n",
            "[675]\tvalidation_0-rmse:32.0517\tvalidation_1-rmse:38.023\n",
            "[676]\tvalidation_0-rmse:32.0515\tvalidation_1-rmse:38.0244\n",
            "[677]\tvalidation_0-rmse:32.0514\tvalidation_1-rmse:38.0228\n",
            "[678]\tvalidation_0-rmse:32.0513\tvalidation_1-rmse:38.0239\n",
            "[679]\tvalidation_0-rmse:32.0511\tvalidation_1-rmse:38.0226\n",
            "[680]\tvalidation_0-rmse:32.0509\tvalidation_1-rmse:38.0241\n",
            "[681]\tvalidation_0-rmse:32.0508\tvalidation_1-rmse:38.0225\n",
            "[682]\tvalidation_0-rmse:32.0507\tvalidation_1-rmse:38.024\n",
            "[683]\tvalidation_0-rmse:32.0505\tvalidation_1-rmse:38.022\n",
            "[684]\tvalidation_0-rmse:32.0504\tvalidation_1-rmse:38.0237\n",
            "[685]\tvalidation_0-rmse:32.0502\tvalidation_1-rmse:38.022\n",
            "[686]\tvalidation_0-rmse:32.0501\tvalidation_1-rmse:38.0207\n",
            "[687]\tvalidation_0-rmse:32.0499\tvalidation_1-rmse:38.0224\n",
            "[688]\tvalidation_0-rmse:32.0498\tvalidation_1-rmse:38.0209\n",
            "[689]\tvalidation_0-rmse:32.0497\tvalidation_1-rmse:38.022\n",
            "[690]\tvalidation_0-rmse:32.0495\tvalidation_1-rmse:38.0214\n",
            "[691]\tvalidation_0-rmse:32.0494\tvalidation_1-rmse:38.0228\n",
            "[692]\tvalidation_0-rmse:32.0493\tvalidation_1-rmse:38.0214\n",
            "[693]\tvalidation_0-rmse:32.0491\tvalidation_1-rmse:38.0224\n",
            "[694]\tvalidation_0-rmse:32.049\tvalidation_1-rmse:38.0212\n",
            "[695]\tvalidation_0-rmse:32.0488\tvalidation_1-rmse:38.0232\n",
            "[696]\tvalidation_0-rmse:32.0487\tvalidation_1-rmse:38.0214\n",
            "[697]\tvalidation_0-rmse:32.0485\tvalidation_1-rmse:38.0228\n",
            "[698]\tvalidation_0-rmse:32.0484\tvalidation_1-rmse:38.0213\n",
            "[699]\tvalidation_0-rmse:32.0483\tvalidation_1-rmse:38.0231\n",
            "[700]\tvalidation_0-rmse:32.0482\tvalidation_1-rmse:38.0214\n",
            "[701]\tvalidation_0-rmse:32.048\tvalidation_1-rmse:38.0227\n",
            "[702]\tvalidation_0-rmse:32.0479\tvalidation_1-rmse:38.0213\n",
            "[703]\tvalidation_0-rmse:32.0477\tvalidation_1-rmse:38.023\n",
            "[704]\tvalidation_0-rmse:32.0476\tvalidation_1-rmse:38.0212\n",
            "[705]\tvalidation_0-rmse:32.0474\tvalidation_1-rmse:38.0226\n",
            "[706]\tvalidation_0-rmse:32.0473\tvalidation_1-rmse:38.0207\n",
            "[707]\tvalidation_0-rmse:32.0472\tvalidation_1-rmse:38.0228\n",
            "[708]\tvalidation_0-rmse:32.047\tvalidation_1-rmse:38.0212\n",
            "[709]\tvalidation_0-rmse:32.0469\tvalidation_1-rmse:38.0223\n",
            "[710]\tvalidation_0-rmse:32.0467\tvalidation_1-rmse:38.021\n",
            "[711]\tvalidation_0-rmse:32.0466\tvalidation_1-rmse:38.0227\n",
            "[712]\tvalidation_0-rmse:32.0465\tvalidation_1-rmse:38.0211\n",
            "[713]\tvalidation_0-rmse:32.0463\tvalidation_1-rmse:38.0228\n",
            "[714]\tvalidation_0-rmse:32.0462\tvalidation_1-rmse:38.0214\n",
            "[715]\tvalidation_0-rmse:32.0461\tvalidation_1-rmse:38.0227\n",
            "[716]\tvalidation_0-rmse:32.046\tvalidation_1-rmse:38.0207\n",
            "[717]\tvalidation_0-rmse:32.0458\tvalidation_1-rmse:38.0196\n",
            "[718]\tvalidation_0-rmse:32.0456\tvalidation_1-rmse:38.0215\n",
            "[719]\tvalidation_0-rmse:32.0455\tvalidation_1-rmse:38.0203\n",
            "[720]\tvalidation_0-rmse:32.0453\tvalidation_1-rmse:38.022\n",
            "[721]\tvalidation_0-rmse:32.0452\tvalidation_1-rmse:38.0203\n",
            "[722]\tvalidation_0-rmse:32.0451\tvalidation_1-rmse:38.0217\n",
            "[723]\tvalidation_0-rmse:32.0449\tvalidation_1-rmse:38.0199\n",
            "[724]\tvalidation_0-rmse:32.0448\tvalidation_1-rmse:38.0211\n",
            "[725]\tvalidation_0-rmse:32.0447\tvalidation_1-rmse:38.0195\n",
            "[726]\tvalidation_0-rmse:32.0445\tvalidation_1-rmse:38.0209\n",
            "[727]\tvalidation_0-rmse:32.0444\tvalidation_1-rmse:38.0195\n",
            "[728]\tvalidation_0-rmse:32.0443\tvalidation_1-rmse:38.0205\n",
            "[729]\tvalidation_0-rmse:32.0441\tvalidation_1-rmse:38.0193\n",
            "[730]\tvalidation_0-rmse:32.044\tvalidation_1-rmse:38.0209\n",
            "[731]\tvalidation_0-rmse:32.0439\tvalidation_1-rmse:38.0193\n",
            "[732]\tvalidation_0-rmse:32.0437\tvalidation_1-rmse:38.0208\n",
            "[733]\tvalidation_0-rmse:32.0436\tvalidation_1-rmse:38.019\n",
            "[734]\tvalidation_0-rmse:32.0435\tvalidation_1-rmse:38.0204\n",
            "[735]\tvalidation_0-rmse:32.0434\tvalidation_1-rmse:38.0188\n",
            "[736]\tvalidation_0-rmse:32.0432\tvalidation_1-rmse:38.0203\n",
            "[737]\tvalidation_0-rmse:32.0431\tvalidation_1-rmse:38.0189\n",
            "[738]\tvalidation_0-rmse:32.0429\tvalidation_1-rmse:38.021\n",
            "[739]\tvalidation_0-rmse:32.0428\tvalidation_1-rmse:38.0192\n",
            "[740]\tvalidation_0-rmse:32.0427\tvalidation_1-rmse:38.0205\n",
            "[741]\tvalidation_0-rmse:32.0425\tvalidation_1-rmse:38.0198\n",
            "[742]\tvalidation_0-rmse:32.0424\tvalidation_1-rmse:38.0213\n",
            "[743]\tvalidation_0-rmse:32.0423\tvalidation_1-rmse:38.0197\n",
            "[744]\tvalidation_0-rmse:32.0422\tvalidation_1-rmse:38.0213\n",
            "[745]\tvalidation_0-rmse:32.042\tvalidation_1-rmse:38.0197\n",
            "[746]\tvalidation_0-rmse:32.0419\tvalidation_1-rmse:38.0208\n",
            "[747]\tvalidation_0-rmse:32.0418\tvalidation_1-rmse:38.0197\n",
            "[748]\tvalidation_0-rmse:32.0416\tvalidation_1-rmse:38.021\n",
            "[749]\tvalidation_0-rmse:32.0415\tvalidation_1-rmse:38.0195\n",
            "[750]\tvalidation_0-rmse:32.0414\tvalidation_1-rmse:38.0205\n",
            "[751]\tvalidation_0-rmse:32.0413\tvalidation_1-rmse:38.019\n",
            "[752]\tvalidation_0-rmse:32.0411\tvalidation_1-rmse:38.018\n",
            "[753]\tvalidation_0-rmse:32.041\tvalidation_1-rmse:38.0195\n",
            "[754]\tvalidation_0-rmse:32.0408\tvalidation_1-rmse:38.0182\n",
            "[755]\tvalidation_0-rmse:32.0407\tvalidation_1-rmse:38.0196\n",
            "[756]\tvalidation_0-rmse:32.0405\tvalidation_1-rmse:38.0179\n",
            "[757]\tvalidation_0-rmse:32.0404\tvalidation_1-rmse:38.0199\n",
            "[758]\tvalidation_0-rmse:32.0403\tvalidation_1-rmse:38.018\n",
            "[759]\tvalidation_0-rmse:32.0402\tvalidation_1-rmse:38.0197\n",
            "[760]\tvalidation_0-rmse:32.04\tvalidation_1-rmse:38.0182\n",
            "[761]\tvalidation_0-rmse:32.0399\tvalidation_1-rmse:38.02\n",
            "[762]\tvalidation_0-rmse:32.0398\tvalidation_1-rmse:38.0182\n",
            "[763]\tvalidation_0-rmse:32.0397\tvalidation_1-rmse:38.0199\n",
            "[764]\tvalidation_0-rmse:32.0395\tvalidation_1-rmse:38.0185\n",
            "[765]\tvalidation_0-rmse:32.0394\tvalidation_1-rmse:38.0198\n",
            "[766]\tvalidation_0-rmse:32.0393\tvalidation_1-rmse:38.0181\n",
            "[767]\tvalidation_0-rmse:32.0392\tvalidation_1-rmse:38.0195\n",
            "[768]\tvalidation_0-rmse:32.039\tvalidation_1-rmse:38.0182\n",
            "[769]\tvalidation_0-rmse:32.0389\tvalidation_1-rmse:38.0193\n",
            "[770]\tvalidation_0-rmse:32.0388\tvalidation_1-rmse:38.0178\n",
            "[771]\tvalidation_0-rmse:32.0387\tvalidation_1-rmse:38.0189\n",
            "[772]\tvalidation_0-rmse:32.0386\tvalidation_1-rmse:38.0176\n",
            "[773]\tvalidation_0-rmse:32.0384\tvalidation_1-rmse:38.0191\n",
            "[774]\tvalidation_0-rmse:32.0383\tvalidation_1-rmse:38.018\n",
            "[775]\tvalidation_0-rmse:32.0382\tvalidation_1-rmse:38.0197\n",
            "[776]\tvalidation_0-rmse:32.0381\tvalidation_1-rmse:38.0182\n",
            "[777]\tvalidation_0-rmse:32.0379\tvalidation_1-rmse:38.0197\n",
            "[778]\tvalidation_0-rmse:32.0378\tvalidation_1-rmse:38.0184\n",
            "[779]\tvalidation_0-rmse:32.0377\tvalidation_1-rmse:38.0198\n",
            "[780]\tvalidation_0-rmse:32.0375\tvalidation_1-rmse:38.018\n",
            "[781]\tvalidation_0-rmse:32.0374\tvalidation_1-rmse:38.02\n",
            "[782]\tvalidation_0-rmse:32.0373\tvalidation_1-rmse:38.0193\n",
            "[783]\tvalidation_0-rmse:32.0371\tvalidation_1-rmse:38.0203\n",
            "[784]\tvalidation_0-rmse:32.037\tvalidation_1-rmse:38.0185\n",
            "[785]\tvalidation_0-rmse:32.0369\tvalidation_1-rmse:38.0174\n",
            "[786]\tvalidation_0-rmse:32.0367\tvalidation_1-rmse:38.0189\n",
            "[787]\tvalidation_0-rmse:32.0366\tvalidation_1-rmse:38.0175\n",
            "[788]\tvalidation_0-rmse:32.0365\tvalidation_1-rmse:38.0191\n",
            "[789]\tvalidation_0-rmse:32.0364\tvalidation_1-rmse:38.0176\n",
            "[790]\tvalidation_0-rmse:32.0363\tvalidation_1-rmse:38.0187\n",
            "[791]\tvalidation_0-rmse:32.0361\tvalidation_1-rmse:38.0176\n",
            "[792]\tvalidation_0-rmse:32.036\tvalidation_1-rmse:38.0189\n",
            "[793]\tvalidation_0-rmse:32.0359\tvalidation_1-rmse:38.0174\n",
            "[794]\tvalidation_0-rmse:32.0358\tvalidation_1-rmse:38.0187\n",
            "[795]\tvalidation_0-rmse:32.0356\tvalidation_1-rmse:38.0174\n",
            "[796]\tvalidation_0-rmse:32.0355\tvalidation_1-rmse:38.0189\n",
            "[797]\tvalidation_0-rmse:32.0354\tvalidation_1-rmse:38.0173\n",
            "[798]\tvalidation_0-rmse:32.0353\tvalidation_1-rmse:38.019\n",
            "[799]\tvalidation_0-rmse:32.0351\tvalidation_1-rmse:38.0172\n",
            "[800]\tvalidation_0-rmse:32.035\tvalidation_1-rmse:38.0186\n",
            "[801]\tvalidation_0-rmse:32.0349\tvalidation_1-rmse:38.0173\n",
            "[802]\tvalidation_0-rmse:32.0348\tvalidation_1-rmse:38.0189\n",
            "[803]\tvalidation_0-rmse:32.0346\tvalidation_1-rmse:38.0179\n",
            "[804]\tvalidation_0-rmse:32.0345\tvalidation_1-rmse:38.0191\n",
            "[805]\tvalidation_0-rmse:32.0344\tvalidation_1-rmse:38.0176\n",
            "[806]\tvalidation_0-rmse:32.0343\tvalidation_1-rmse:38.0189\n",
            "[807]\tvalidation_0-rmse:32.0342\tvalidation_1-rmse:38.0173\n",
            "[808]\tvalidation_0-rmse:32.0341\tvalidation_1-rmse:38.0187\n",
            "[809]\tvalidation_0-rmse:32.034\tvalidation_1-rmse:38.0172\n",
            "[810]\tvalidation_0-rmse:32.0339\tvalidation_1-rmse:38.0183\n",
            "[811]\tvalidation_0-rmse:32.0337\tvalidation_1-rmse:38.0171\n",
            "[812]\tvalidation_0-rmse:32.0336\tvalidation_1-rmse:38.0184\n",
            "[813]\tvalidation_0-rmse:32.0335\tvalidation_1-rmse:38.0177\n",
            "[814]\tvalidation_0-rmse:32.0334\tvalidation_1-rmse:38.0166\n",
            "[815]\tvalidation_0-rmse:32.0332\tvalidation_1-rmse:38.0177\n",
            "[816]\tvalidation_0-rmse:32.0331\tvalidation_1-rmse:38.0191\n",
            "[817]\tvalidation_0-rmse:32.033\tvalidation_1-rmse:38.0173\n",
            "[818]\tvalidation_0-rmse:32.0328\tvalidation_1-rmse:38.0187\n",
            "[819]\tvalidation_0-rmse:32.0327\tvalidation_1-rmse:38.0168\n",
            "[820]\tvalidation_0-rmse:32.0326\tvalidation_1-rmse:38.0187\n",
            "[821]\tvalidation_0-rmse:32.0325\tvalidation_1-rmse:38.0172\n",
            "[822]\tvalidation_0-rmse:32.0323\tvalidation_1-rmse:38.0161\n",
            "[823]\tvalidation_0-rmse:32.0322\tvalidation_1-rmse:38.0179\n",
            "[824]\tvalidation_0-rmse:32.0321\tvalidation_1-rmse:38.0162\n",
            "[825]\tvalidation_0-rmse:32.032\tvalidation_1-rmse:38.0175\n",
            "[826]\tvalidation_0-rmse:32.0318\tvalidation_1-rmse:38.0162\n",
            "[827]\tvalidation_0-rmse:32.0318\tvalidation_1-rmse:38.0178\n",
            "[828]\tvalidation_0-rmse:32.0316\tvalidation_1-rmse:38.0163\n",
            "[829]\tvalidation_0-rmse:32.0315\tvalidation_1-rmse:38.0174\n",
            "[830]\tvalidation_0-rmse:32.0314\tvalidation_1-rmse:38.0163\n",
            "[831]\tvalidation_0-rmse:32.0313\tvalidation_1-rmse:38.0175\n",
            "[832]\tvalidation_0-rmse:32.0312\tvalidation_1-rmse:38.0162\n",
            "[833]\tvalidation_0-rmse:32.0311\tvalidation_1-rmse:38.0175\n",
            "[834]\tvalidation_0-rmse:32.0309\tvalidation_1-rmse:38.016\n",
            "[835]\tvalidation_0-rmse:32.0308\tvalidation_1-rmse:38.0175\n",
            "[836]\tvalidation_0-rmse:32.0307\tvalidation_1-rmse:38.0162\n",
            "[837]\tvalidation_0-rmse:32.0306\tvalidation_1-rmse:38.0175\n",
            "[838]\tvalidation_0-rmse:32.0304\tvalidation_1-rmse:38.0157\n",
            "[839]\tvalidation_0-rmse:32.0303\tvalidation_1-rmse:38.0168\n",
            "[840]\tvalidation_0-rmse:32.0302\tvalidation_1-rmse:38.0158\n",
            "[841]\tvalidation_0-rmse:32.0301\tvalidation_1-rmse:38.0172\n",
            "[842]\tvalidation_0-rmse:32.03\tvalidation_1-rmse:38.0157\n",
            "[843]\tvalidation_0-rmse:32.0299\tvalidation_1-rmse:38.0167\n",
            "[844]\tvalidation_0-rmse:32.0298\tvalidation_1-rmse:38.0153\n",
            "[845]\tvalidation_0-rmse:32.0297\tvalidation_1-rmse:38.0165\n",
            "[846]\tvalidation_0-rmse:32.0295\tvalidation_1-rmse:38.0148\n",
            "[847]\tvalidation_0-rmse:32.0294\tvalidation_1-rmse:38.0167\n",
            "[848]\tvalidation_0-rmse:32.0293\tvalidation_1-rmse:38.0154\n",
            "[849]\tvalidation_0-rmse:32.0292\tvalidation_1-rmse:38.0166\n",
            "[850]\tvalidation_0-rmse:32.029\tvalidation_1-rmse:38.0153\n",
            "[851]\tvalidation_0-rmse:32.0289\tvalidation_1-rmse:38.017\n",
            "[852]\tvalidation_0-rmse:32.0288\tvalidation_1-rmse:38.0152\n",
            "[853]\tvalidation_0-rmse:32.0287\tvalidation_1-rmse:38.0164\n",
            "[854]\tvalidation_0-rmse:32.0286\tvalidation_1-rmse:38.0153\n",
            "[855]\tvalidation_0-rmse:32.0285\tvalidation_1-rmse:38.0163\n",
            "[856]\tvalidation_0-rmse:32.0284\tvalidation_1-rmse:38.0149\n",
            "[857]\tvalidation_0-rmse:32.0283\tvalidation_1-rmse:38.0163\n",
            "[858]\tvalidation_0-rmse:32.0281\tvalidation_1-rmse:38.0148\n",
            "[859]\tvalidation_0-rmse:32.028\tvalidation_1-rmse:38.0138\n",
            "[860]\tvalidation_0-rmse:32.0279\tvalidation_1-rmse:38.0156\n",
            "[861]\tvalidation_0-rmse:32.0278\tvalidation_1-rmse:38.017\n",
            "[862]\tvalidation_0-rmse:32.0276\tvalidation_1-rmse:38.0152\n",
            "[863]\tvalidation_0-rmse:32.0275\tvalidation_1-rmse:38.0168\n",
            "[864]\tvalidation_0-rmse:32.0274\tvalidation_1-rmse:38.0152\n",
            "[865]\tvalidation_0-rmse:32.0273\tvalidation_1-rmse:38.0141\n",
            "[866]\tvalidation_0-rmse:32.0272\tvalidation_1-rmse:38.0156\n",
            "[867]\tvalidation_0-rmse:32.027\tvalidation_1-rmse:38.0145\n",
            "[868]\tvalidation_0-rmse:32.0269\tvalidation_1-rmse:38.016\n",
            "[869]\tvalidation_0-rmse:32.0268\tvalidation_1-rmse:38.015\n",
            "[870]\tvalidation_0-rmse:32.0267\tvalidation_1-rmse:38.0161\n",
            "[871]\tvalidation_0-rmse:32.0266\tvalidation_1-rmse:38.0154\n",
            "[872]\tvalidation_0-rmse:32.0265\tvalidation_1-rmse:38.0166\n",
            "[873]\tvalidation_0-rmse:32.0264\tvalidation_1-rmse:38.0153\n",
            "[874]\tvalidation_0-rmse:32.0262\tvalidation_1-rmse:38.0163\n",
            "[875]\tvalidation_0-rmse:32.0261\tvalidation_1-rmse:38.0149\n",
            "[876]\tvalidation_0-rmse:32.0261\tvalidation_1-rmse:38.0161\n",
            "[877]\tvalidation_0-rmse:32.0259\tvalidation_1-rmse:38.0144\n",
            "[878]\tvalidation_0-rmse:32.0258\tvalidation_1-rmse:38.016\n",
            "[879]\tvalidation_0-rmse:32.0257\tvalidation_1-rmse:38.0148\n",
            "[880]\tvalidation_0-rmse:32.0256\tvalidation_1-rmse:38.0159\n",
            "[881]\tvalidation_0-rmse:32.0255\tvalidation_1-rmse:38.0144\n",
            "[882]\tvalidation_0-rmse:32.0254\tvalidation_1-rmse:38.0159\n",
            "[883]\tvalidation_0-rmse:32.0253\tvalidation_1-rmse:38.0146\n",
            "[884]\tvalidation_0-rmse:32.0251\tvalidation_1-rmse:38.016\n",
            "[885]\tvalidation_0-rmse:32.025\tvalidation_1-rmse:38.0149\n",
            "[886]\tvalidation_0-rmse:32.0249\tvalidation_1-rmse:38.0163\n",
            "[887]\tvalidation_0-rmse:32.0248\tvalidation_1-rmse:38.0147\n",
            "[888]\tvalidation_0-rmse:32.0247\tvalidation_1-rmse:38.0166\n",
            "[889]\tvalidation_0-rmse:32.0246\tvalidation_1-rmse:38.0149\n",
            "[890]\tvalidation_0-rmse:32.0245\tvalidation_1-rmse:38.0161\n",
            "[891]\tvalidation_0-rmse:32.0244\tvalidation_1-rmse:38.0146\n",
            "[892]\tvalidation_0-rmse:32.0243\tvalidation_1-rmse:38.016\n",
            "[893]\tvalidation_0-rmse:32.0242\tvalidation_1-rmse:38.015\n",
            "[894]\tvalidation_0-rmse:32.0241\tvalidation_1-rmse:38.016\n",
            "[895]\tvalidation_0-rmse:32.024\tvalidation_1-rmse:38.0145\n",
            "[896]\tvalidation_0-rmse:32.0239\tvalidation_1-rmse:38.0162\n",
            "[897]\tvalidation_0-rmse:32.0238\tvalidation_1-rmse:38.0149\n",
            "[898]\tvalidation_0-rmse:32.0236\tvalidation_1-rmse:38.0139\n",
            "[899]\tvalidation_0-rmse:32.0235\tvalidation_1-rmse:38.0154\n",
            "Stopping. Best iteration:\n",
            "[859]\tvalidation_0-rmse:32.028\tvalidation_1-rmse:38.0138\n",
            "\n"
          ],
          "name": "stdout"
        },
        {
          "output_type": "execute_result",
          "data": {
            "text/plain": [
              "XGBRegressor(base_score=0.5, booster='gbtree', colsample_bylevel=1,\n",
              "             colsample_bynode=1, colsample_bytree=0.9, eta=0.5, gamma=0,\n",
              "             importance_type='gain', learning_rate=0.1, max_delta_step=0,\n",
              "             max_depth=8, min_child_weight=500, missing=None,\n",
              "             n_estimators=10000, n_jobs=1, nthread=None, objective='reg:linear',\n",
              "             random_state=0, reg_alpha=0, reg_lambda=1, scale_pos_weight=1,\n",
              "             seed=201, silent=None, subsample=1.0, verbosity=1)"
            ]
          },
          "metadata": {
            "tags": []
          },
          "execution_count": 7
        }
      ]
    },
    {
      "cell_type": "code",
      "metadata": {
        "id": "1CXh_G1LqpWk",
        "colab_type": "code",
        "outputId": "05b6e801-9f16-49e9-f49b-0b4272b92df8",
        "colab": {
          "base_uri": "https://localhost:8080/",
          "height": 33
        }
      },
      "source": [
        "reg.score(xgx_test,xgy_test)"
      ],
      "execution_count": 0,
      "outputs": [
        {
          "output_type": "execute_result",
          "data": {
            "text/plain": [
              "0.9056234721973333"
            ]
          },
          "metadata": {
            "tags": []
          },
          "execution_count": 8
        }
      ]
    },
    {
      "cell_type": "markdown",
      "metadata": {
        "id": "xLefuUF0bgDH",
        "colab_type": "text"
      },
      "source": [
        "# comparing actual value(blue line) to the predicted values(red line)\n"
      ]
    },
    {
      "cell_type": "code",
      "metadata": {
        "id": "9m8fHLhjrdgY",
        "colab_type": "code",
        "outputId": "d5d32566-5153-4c48-bdc9-42d0fd53b27f",
        "colab": {
          "base_uri": "https://localhost:8080/",
          "height": 281
        }
      },
      "source": [
        "plt.plot(reg.predict(xgx_test[-40:]),color='red')\n",
        "plt.plot(xgy_test[-40:],color='blue')"
      ],
      "execution_count": 0,
      "outputs": [
        {
          "output_type": "execute_result",
          "data": {
            "text/plain": [
              "[<matplotlib.lines.Line2D at 0x7f3af9f1f9e8>]"
            ]
          },
          "metadata": {
            "tags": []
          },
          "execution_count": 9
        },
        {
          "output_type": "display_data",
          "data": {
            "image/png": "[encoded data removed]",
            "text/plain": [
              "<Figure size 432x288 with 1 Axes>"
            ]
          },
          "metadata": {
            "tags": [],
            "needs_background": "light"
          }
        }
      ]
    },
    {
      "cell_type": "markdown",
      "metadata": {
        "id": "z6s3PElibv7E",
        "colab_type": "text"
      },
      "source": [
        "XGBOOST is a considerable improvement over LSTM but further data and testing will be required to ensure no overfitting"
      ]
    }
  ]
}