{
  "nbformat": 4,
  "nbformat_minor": 0,
  "metadata": {
    "colab": {
      "name": "Untitled0.ipynb",
      "version": "0.3.2",
      "provenance": [],
      "collapsed_sections": []
    },
    "kernelspec": {
      "name": "python3",
      "display_name": "Python 3"
    },
    "accelerator": "GPU"
  },
  "cells": [
    {
      "metadata": {
        "id": "UloTGHGdstw3",
        "colab_type": "text"
      },
      "cell_type": "markdown",
      "source": [
        "# lOGISTIC REGRESSION APPLICATION\n",
        "IDENTIFICATION OF HAND WRITTEN DATA:\n",
        "\n"
      ]
    },
    {
      "metadata": {
        "id": "YTzqwQa1wEnN",
        "colab_type": "text"
      },
      "cell_type": "markdown",
      "source": [
        "import all the important libraties such as: \n",
        "\n",
        "\n",
        "1.   pandas\n",
        "2.   numpy\n",
        "3.  matplotlib\n",
        "4.  sklearn.linear_model\n",
        "\n"
      ]
    },
    {
      "metadata": {
        "id": "8IOmul46wpdV",
        "colab_type": "text"
      },
      "cell_type": "markdown",
      "source": [
        "the dataset is provided by sklearn's dataset bundle and contains 1637 images of hand written numbers\n"
      ]
    },
    {
      "metadata": {
        "id": "4z-tUxM-L2wF",
        "colab_type": "code",
        "outputId": "1a9c3a57-5155-40ce-e31a-78e02da5155b",
        "colab": {
          "base_uri": "https://localhost:8080/",
          "height": 428
        }
      },
      "cell_type": "code",
      "source": [
        "import pandas as pd\n",
        "import numpy as np\n",
        "from sklearn.linear_model import LogisticRegression\n",
        "from sklearn.datasets import load_digits\n",
        "import matplotlib.pyplot as plt\n",
        "digits=load_digits()\n",
        "\n",
        "print (digits.images[0])\n",
        "print(digits.images[0].shape)\n",
        "\n",
        "plt.matshow(digits.images[0])\n",
        "plt.show()"
      ],
      "execution_count": 1,
      "outputs": [
        {
          "output_type": "stream",
          "text": [
            "[[ 0.  0.  5. 13.  9.  1.  0.  0.]\n",
            " [ 0.  0. 13. 15. 10. 15.  5.  0.]\n",
            " [ 0.  3. 15.  2.  0. 11.  8.  0.]\n",
            " [ 0.  4. 12.  0.  0.  8.  8.  0.]\n",
            " [ 0.  5.  8.  0.  0.  9.  8.  0.]\n",
            " [ 0.  4. 11.  0.  1. 12.  7.  0.]\n",
            " [ 0.  2. 14.  5. 10. 12.  0.  0.]\n",
            " [ 0.  0.  6. 13. 10.  0.  0.  0.]]\n",
            "(8, 8)\n"
          ],
          "name": "stdout"
        },
        {
          "output_type": "display_data",
          "data": {
            "image/png": "[encoded data removed]",
            "text/plain": [
              "<Figure size 288x288 with 1 Axes>"
            ]
          },
          "metadata": {
            "tags": []
          }
        }
      ]
    },
    {
      "metadata": {
        "id": "IGXUc551w_i7",
        "colab_type": "text"
      },
      "cell_type": "markdown",
      "source": [
        "a typical number is represented by a matrix of 8,8 dimension\n"
      ]
    },
    {
      "metadata": {
        "id": "tP8_t7P1xL48",
        "colab_type": "text"
      },
      "cell_type": "markdown",
      "source": [
        "we split our entire dataset into 2 parts:one for testing(20%) and other for training(80%)"
      ]
    },
    {
      "metadata": {
        "id": "gnns1W5mW7r5",
        "colab_type": "code",
        "outputId": "72a8fc80-1989-454b-ad8d-e70cbb1e7a78",
        "colab": {
          "base_uri": "https://localhost:8080/",
          "height": 51
        }
      },
      "cell_type": "code",
      "source": [
        "from sklearn.model_selection import train_test_split\n",
        "X_train, X_test, y_train, y_test = train_test_split(digits.images,digits.target,test_size=0.2)\n",
        "print(X_test.shape)\n",
        "nsamples, nx, ny = X_train.shape\n",
        "d2_xtrain_dataset = X_train.reshape((nsamples,nx*ny))\n",
        "print(d2_xtrain_dataset.shape)"
      ],
      "execution_count": 26,
      "outputs": [
        {
          "output_type": "stream",
          "text": [
            "(360, 8, 8)\n",
            "(1437, 64)\n"
          ],
          "name": "stdout"
        }
      ]
    },
    {
      "metadata": {
        "id": "_p-pfAjjxlgL",
        "colab_type": "text"
      },
      "cell_type": "markdown",
      "source": [
        "the data is flattened into a 2d matrix as a 3d matrix is unacceptable in the model"
      ]
    },
    {
      "metadata": {
        "id": "6XGPAaPwg2CS",
        "colab_type": "code",
        "colab": {}
      },
      "cell_type": "code",
      "source": [
        "model=LogisticRegression(random_state=0, solver='lbfgs',multi_class='multinomial')\n",
        "model.fit(d2_xtrain_dataset,y_train)"
      ],
      "execution_count": 0,
      "outputs": []
    },
    {
      "metadata": {
        "id": "EJUQFuuMfX8C",
        "colab_type": "text"
      },
      "cell_type": "markdown",
      "source": [
        "multiclass logistic regression model is created "
      ]
    },
    {
      "metadata": {
        "id": "pEx-nQKzMNS7",
        "colab_type": "code",
        "outputId": "6c22b09b-b346-44c7-dc2f-1cb80bb96d9e",
        "colab": {
          "base_uri": "https://localhost:8080/",
          "height": 34
        }
      },
      "cell_type": "code",
      "source": [
        "model.score(X_test.reshape((len(X_test),nx*ny)),y_test)*100"
      ],
      "execution_count": 4,
      "outputs": [
        {
          "output_type": "execute_result",
          "data": {
            "text/plain": [
              "95.83333333333334"
            ]
          },
          "metadata": {
            "tags": []
          },
          "execution_count": 4
        }
      ]
    },
    {
      "metadata": {
        "id": "w2RbAcnuySj4",
        "colab_type": "text"
      },
      "cell_type": "markdown",
      "source": [
        " # our model has 95% accuracy"
      ]
    },
    {
      "metadata": {
        "id": "TJ-z-XbM0YV_",
        "colab_type": "text"
      },
      "cell_type": "markdown",
      "source": [
        "# lets test our model"
      ]
    },
    {
      "metadata": {
        "id": "z3bEmBBJm8sf",
        "colab_type": "code",
        "outputId": "790d29f5-2f95-4c90-b3b4-68914412b751",
        "colab": {
          "base_uri": "https://localhost:8080/",
          "height": 1392
        }
      },
      "cell_type": "code",
      "source": [
        "for i in range(60,65):\n",
        "    plt.matshow(digits.images[i])\n",
        "\n",
        "for i in range(60,65):\n",
        "    print(\"predicted value={}\".format(model.predict([digits.images[i].reshape(64,)])),end=\"        \")\n",
        "    print(\"true value={}\".format(digits.target[i]))"
      ],
      "execution_count": 41,
      "outputs": [
        {
          "output_type": "stream",
          "text": [
            "predicted value=[3]        true value=3\n",
            "predicted value=[7]        true value=7\n",
            "predicted value=[3]        true value=3\n",
            "predicted value=[3]        true value=3\n",
            "predicted value=[4]        true value=4\n"
          ],
          "name": "stdout"
        },
        {
          "output_type": "display_data",
          "data": {
            "image/png": "[encoded data removed]",
            "text/plain": [
              "<Figure size 288x288 with 1 Axes>"
            ]
          },
          "metadata": {
            "tags": []
          }
        },
        {
          "output_type": "display_data",
          "data": {
            "image/png": "[encoded data removed]",
            "text/plain": [
              "<Figure size 288x288 with 1 Axes>"
            ]
          },
          "metadata": {
            "tags": []
          }
        },
        {
          "output_type": "display_data",
          "data": {
            "image/png": "[encoded data removed]",
            "text/plain": [
              "<Figure size 288x288 with 1 Axes>"
            ]
          },
          "metadata": {
            "tags": []
          }
        },
        {
          "output_type": "display_data",
          "data": {
            "image/png": "[encoded data removed]",
            "text/plain": [
              "<Figure size 288x288 with 1 Axes>"
            ]
          },
          "metadata": {
            "tags": []
          }
        },
        {
          "output_type": "display_data",
          "data": {
            "image/png": "[encoded data removed]",
            "text/plain": [
              "<Figure size 288x288 with 1 Axes>"
            ]
          },
          "metadata": {
            "tags": []
          }
        }
      ]
    },
    {
      "metadata": {
        "id": "gKiNgA4E0x7M",
        "colab_type": "text"
      },
      "cell_type": "markdown",
      "source": [
        "**lets print a confusion matrix \n",
        "it's a great way to visualize where your model made errors in the testing data **"
      ]
    },
    {
      "metadata": {
        "id": "HyukA3RVqEwF",
        "colab_type": "code",
        "outputId": "ea865b73-da71-49da-ab99-4c08c6b37771",
        "colab": {
          "base_uri": "https://localhost:8080/",
          "height": 445
        }
      },
      "cell_type": "code",
      "source": [
        "predicted=model.predict(X_test.reshape(len(X_test),64))\n",
        "true=y_test\n",
        "from sklearn.metrics import confusion_matrix\n",
        "import matplotlib\n",
        "\n",
        "\n",
        "\n",
        "matplotlib.pyplot.matshow(confusion_matrix(true,predicted),cmap=plt.cm.Blues)\n",
        "print(np.array(confusion_matrix(true,predicted)))\n",
        "\n"
      ],
      "execution_count": 23,
      "outputs": [
        {
          "output_type": "stream",
          "text": [
            "[[35  0  0  0  0  0  0  0  0  0]\n",
            " [ 0 41  0  0  0  0  0  0  0  0]\n",
            " [ 0  1 37  1  0  0  0  0  0  0]\n",
            " [ 0  0  0 33  0  2  0  0  0  0]\n",
            " [ 1  0  0  0 32  0  0  0  0  0]\n",
            " [ 0  0  0  1  0 36  1  1  0  0]\n",
            " [ 0  0  0  0  0  1 32  0  0  0]\n",
            " [ 0  0  0  1  0  0  0 31  0  1]\n",
            " [ 0  0  0  1  0  1  0  0 31  0]\n",
            " [ 0  0  0  0  0  0  0  0  2 37]]\n"
          ],
          "name": "stdout"
        },
        {
          "output_type": "display_data",
          "data": {
            "image/png": "[encoded data removed]",
            "text/plain": [
              "<Figure size 288x288 with 1 Axes>"
            ]
          },
          "metadata": {
            "tags": []
          }
        }
      ]
    },
    {
      "metadata": {
        "id": "KrhsztOR1LNR",
        "colab_type": "text"
      },
      "cell_type": "markdown",
      "source": [
        ""
      ]
    }
  ]
}