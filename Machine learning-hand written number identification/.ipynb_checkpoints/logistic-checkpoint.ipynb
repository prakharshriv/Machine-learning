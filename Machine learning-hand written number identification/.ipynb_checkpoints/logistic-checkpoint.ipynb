{
 "cells": [
  {
   "cell_type": "markdown",
   "metadata": {
    "colab_type": "text",
    "id": "UloTGHGdstw3"
   },
   "source": [
    "# lOGISTIC REGRESSION APPLICATION\n",
    "IDENTIFICATION OF HAND WRITTEN DATA:\n",
    "\n"
   ]
  },
  {
   "cell_type": "markdown",
   "metadata": {
    "colab_type": "text",
    "id": "YTzqwQa1wEnN"
   },
   "source": [
    "import all the important libraties such as: \n",
    "\n",
    "\n",
    "1.   pandas\n",
    "2.   numpy\n",
    "3.  matplotlib\n",
    "4.  sklearn.linear_model\n",
    "\n"
   ]
  },
  {
   "cell_type": "markdown",
   "metadata": {
    "colab_type": "text",
    "id": "8IOmul46wpdV"
   },
   "source": [
    "the dataset is provided by sklearn's dataset bundle and contains 1637 images of hand written numbers\n"
   ]
  },
  {
   "cell_type": "code",
   "execution_count": 2,
   "metadata": {
    "colab": {
     "base_uri": "https://localhost:8080/",
     "height": 428
    },
    "colab_type": "code",
    "id": "4z-tUxM-L2wF",
    "outputId": "1a9c3a57-5155-40ce-e31a-78e02da5155b"
   },
   "outputs": [
    {
     "name": "stdout",
     "output_type": "stream",
     "text": [
      "[[ 0.  0.  5. 13.  9.  1.  0.  0.]\n",
      " [ 0.  0. 13. 15. 10. 15.  5.  0.]\n",
      " [ 0.  3. 15.  2.  0. 11.  8.  0.]\n",
      " [ 0.  4. 12.  0.  0.  8.  8.  0.]\n",
      " [ 0.  5.  8.  0.  0.  9.  8.  0.]\n",
      " [ 0.  4. 11.  0.  1. 12.  7.  0.]\n",
      " [ 0.  2. 14.  5. 10. 12.  0.  0.]\n",
      " [ 0.  0.  6. 13. 10.  0.  0.  0.]]\n",
      "(8, 8)\n"
     ]
    },
    {
     "data": {
      "text/plain": [
       "<Figure size 480x480 with 1 Axes>"
      ]
     },
     "metadata": {},
     "output_type": "display_data"
    }
   ],
   "source": [
    "import pandas as pd\n",
    "import numpy as np\n",
    "from sklearn.linear_model import LogisticRegression\n",
    "from sklearn.datasets import load_digits\n",
    "import matplotlib.pyplot as plt\n",
    "digits=load_digits()\n",
    "\n",
    "print (digits.images[0])\n",
    "print(digits.images[0].shape)\n",
    "\n",
    "plt.matshow(digits.images[0])\n",
    "plt.show()"
   ]
  },
  {
   "cell_type": "markdown",
   "metadata": {
    "colab_type": "text",
    "id": "IGXUc551w_i7"
   },
   "source": [
    "a typical number is represented by a matrix of 8,8 dimension\n"
   ]
  },
  {
   "cell_type": "markdown",
   "metadata": {
    "colab_type": "text",
    "id": "tP8_t7P1xL48"
   },
   "source": [
    "we split our entire dataset into 2 parts:one for testing(20%) and other for training(80%)"
   ]
  },
  {
   "cell_type": "code",
   "execution_count": 59,
   "metadata": {
    "colab": {
     "base_uri": "https://localhost:8080/",
     "height": 51
    },
    "colab_type": "code",
    "id": "gnns1W5mW7r5",
    "outputId": "72a8fc80-1989-454b-ad8d-e70cbb1e7a78"
   },
   "outputs": [
    {
     "name": "stdout",
     "output_type": "stream",
     "text": [
      "(360, 8, 8)\n",
      "(1437, 64)\n"
     ]
    }
   ],
   "source": [
    "from sklearn.model_selection import train_test_split\n",
    "X_train, X_test, y_train, y_test = train_test_split(digits.images,digits.target,test_size=0.2)\n",
    "print(X_test.shape)\n",
    "nsamples, nx, ny = X_train.shape\n",
    "d2_xtrain_dataset = X_train.reshape((nsamples,nx*ny))\n",
    "print(d2_xtrain_dataset.shape)\n",
    "d2_xtest_dataset = X_test.reshape((360,nx*ny))"
   ]
  },
  {
   "cell_type": "code",
   "execution_count": 58,
   "metadata": {},
   "outputs": [
    {
     "data": {
      "text/plain": [
       "(360, 8, 8)"
      ]
     },
     "execution_count": 58,
     "metadata": {},
     "output_type": "execute_result"
    }
   ],
   "source": [
    "X_test.shape\n"
   ]
  },
  {
   "cell_type": "markdown",
   "metadata": {
    "colab_type": "text",
    "id": "_p-pfAjjxlgL"
   },
   "source": [
    "the data is flattened into a 2d matrix as a 3d matrix is unacceptable in the model"
   ]
  },
  {
   "cell_type": "code",
   "execution_count": 4,
   "metadata": {
    "colab": {},
    "colab_type": "code",
    "id": "6XGPAaPwg2CS"
   },
   "outputs": [
    {
     "name": "stderr",
     "output_type": "stream",
     "text": [
      "C:\\Users\\prakh\\Anaconda3\\lib\\site-packages\\sklearn\\linear_model\\logistic.py:947: ConvergenceWarning: lbfgs failed to converge. Increase the number of iterations.\n",
      "  \"of iterations.\", ConvergenceWarning)\n"
     ]
    },
    {
     "data": {
      "text/plain": [
       "LogisticRegression(C=1.0, class_weight=None, dual=False, fit_intercept=True,\n",
       "                   intercept_scaling=1, l1_ratio=None, max_iter=100,\n",
       "                   multi_class='multinomial', n_jobs=None, penalty='l2',\n",
       "                   random_state=0, solver='lbfgs', tol=0.0001, verbose=0,\n",
       "                   warm_start=False)"
      ]
     },
     "execution_count": 4,
     "metadata": {},
     "output_type": "execute_result"
    }
   ],
   "source": [
    "model=LogisticRegression(random_state=0, solver='lbfgs',multi_class='multinomial')\n",
    "model.fit(d2_xtrain_dataset,y_train)"
   ]
  },
  {
   "cell_type": "markdown",
   "metadata": {
    "colab_type": "text",
    "id": "EJUQFuuMfX8C"
   },
   "source": [
    "multiclass logistic regression model is created "
   ]
  },
  {
   "cell_type": "code",
   "execution_count": 5,
   "metadata": {
    "colab": {
     "base_uri": "https://localhost:8080/",
     "height": 34
    },
    "colab_type": "code",
    "id": "pEx-nQKzMNS7",
    "outputId": "6c22b09b-b346-44c7-dc2f-1cb80bb96d9e"
   },
   "outputs": [
    {
     "data": {
      "text/plain": [
       "95.83333333333334"
      ]
     },
     "execution_count": 5,
     "metadata": {},
     "output_type": "execute_result"
    }
   ],
   "source": [
    "model.score(X_test.reshape((len(X_test),nx*ny)),y_test)*100"
   ]
  },
  {
   "cell_type": "markdown",
   "metadata": {
    "colab_type": "text",
    "id": "w2RbAcnuySj4"
   },
   "source": [
    " # our model has 95% accuracy"
   ]
  },
  {
   "cell_type": "markdown",
   "metadata": {
    "colab_type": "text",
    "id": "TJ-z-XbM0YV_"
   },
   "source": [
    "# lets test our model"
   ]
  },
  {
   "cell_type": "code",
   "execution_count": 6,
   "metadata": {
    "colab": {
     "base_uri": "https://localhost:8080/",
     "height": 1392
    },
    "colab_type": "code",
    "id": "z3bEmBBJm8sf",
    "outputId": "790d29f5-2f95-4c90-b3b4-68914412b751"
   },
   "outputs": [
    {
     "name": "stdout",
     "output_type": "stream",
     "text": [
      "predicted value=[3]        true value=3\n",
      "predicted value=[7]        true value=7\n",
      "predicted value=[3]        true value=3\n",
      "predicted value=[3]        true value=3\n",
      "predicted value=[4]        true value=4\n"
     ]
    },
    {
     "data": {
      "image/png": "[encoded data removed]",
      "text/plain": [
       "<Figure size 288x288 with 1 Axes>"
      ]
     },
     "metadata": {
      "needs_background": "light"
     },
     "output_type": "display_data"
    },
    {
     "data": {
      "image/png": "[encoded data removed]",
      "text/plain": [
       "<Figure size 288x288 with 1 Axes>"
      ]
     },
     "metadata": {
      "needs_background": "light"
     },
     "output_type": "display_data"
    },
    {
     "data": {
      "image/png": "[encoded data removed]",
      "text/plain": [
       "<Figure size 288x288 with 1 Axes>"
      ]
     },
     "metadata": {
      "needs_background": "light"
     },
     "output_type": "display_data"
    },
    {
     "data": {
      "image/png": "[encoded data removed]",
      "text/plain": [
       "<Figure size 288x288 with 1 Axes>"
      ]
     },
     "metadata": {
      "needs_background": "light"
     },
     "output_type": "display_data"
    },
    {
     "data": {
      "image/png": "[encoded data removed]",
      "text/plain": [
       "<Figure size 288x288 with 1 Axes>"
      ]
     },
     "metadata": {
      "needs_background": "light"
     },
     "output_type": "display_data"
    }
   ],
   "source": [
    "for i in range(60,65):\n",
    "    plt.matshow(digits.images[i])\n",
    "\n",
    "for i in range(60,65):\n",
    "    print(\"predicted value={}\".format(model.predict([digits.images[i].reshape(64,)])),end=\"        \")\n",
    "    print(\"true value={}\".format(digits.target[i]))"
   ]
  },
  {
   "cell_type": "markdown",
   "metadata": {
    "colab_type": "text",
    "id": "gKiNgA4E0x7M"
   },
   "source": [
    "**lets print a confusion matrix \n",
    "it's a great way to visualize where your model made errors in the testing data **"
   ]
  },
  {
   "cell_type": "code",
   "execution_count": 7,
   "metadata": {
    "colab": {
     "base_uri": "https://localhost:8080/",
     "height": 445
    },
    "colab_type": "code",
    "id": "HyukA3RVqEwF",
    "outputId": "ea865b73-da71-49da-ab99-4c08c6b37771"
   },
   "outputs": [
    {
     "name": "stdout",
     "output_type": "stream",
     "text": [
      "[[33  0  0  0  0  0  0  0  0  0]\n",
      " [ 0 36  0  0  0  0  0  0  0  0]\n",
      " [ 0  2 37  0  0  0  0  0  0  0]\n",
      " [ 0  0  0 39  0  0  0  0  0  0]\n",
      " [ 0  0  0  0 36  0  0  1  1  0]\n",
      " [ 0  0  0  0  0 26  0  0  0  1]\n",
      " [ 0  1  0  0  0  0 41  0  0  0]\n",
      " [ 0  0  0  0  1  0  0 28  0  2]\n",
      " [ 0  2  0  0  0  1  0  0 26  1]\n",
      " [ 0  0  0  0  0  1  0  0  1 43]]\n"
     ]
    },
    {
     "data": {
      "image/png": "[encoded data removed]",
      "text/plain": [
       "<Figure size 288x288 with 1 Axes>"
      ]
     },
     "metadata": {
      "needs_background": "light"
     },
     "output_type": "display_data"
    }
   ],
   "source": [
    "predicted=model.predict(X_test.reshape(len(X_test),64))\n",
    "true=y_test\n",
    "from sklearn.metrics import confusion_matrix\n",
    "import matplotlib\n",
    "\n",
    "\n",
    "\n",
    "matplotlib.pyplot.matshow(confusion_matrix(true,predicted),cmap=plt.cm.Blues)\n",
    "print(np.array(confusion_matrix(true,predicted)))\n",
    "\n"
   ]
  },
  {
   "cell_type": "markdown",
   "metadata": {
    "colab_type": "text",
    "id": "KrhsztOR1LNR"
   },
   "source": []
  },
  {
   "cell_type": "code",
   "execution_count": 1,
   "metadata": {},
   "outputs": [
    {
     "name": "stderr",
     "output_type": "stream",
     "text": [
      "Using TensorFlow backend.\n"
     ]
    }
   ],
   "source": [
    "from keras.models import Sequential\n",
    "from keras.layers import Dense\n",
    "from keras.layers import LSTM\n",
    "from keras.layers import Dropout\n",
    "from sklearn.model_selection import train_test_split"
   ]
  },
  {
   "cell_type": "code",
   "execution_count": 77,
   "metadata": {},
   "outputs": [],
   "source": [
    "mlp_model = Sequential()\n",
    "mlp_model.add(Dense(64,input_dim=64, activation='relu'))\n",
    "mlp_model.add(Dropout(0.2))\n",
    "mlp_model.add(Dense(32, kernel_initializer='glorot_normal', activation='relu'))\n",
    "mlp_model.add(Dense(y_train1.shape[1],activation='softmax'))"
   ]
  },
  {
   "cell_type": "code",
   "execution_count": 36,
   "metadata": {},
   "outputs": [],
   "source": [
    "from keras.utils import np_utils\n",
    "y_train1 = np_utils.to_categorical(y_train)"
   ]
  },
  {
   "cell_type": "code",
   "execution_count": 68,
   "metadata": {},
   "outputs": [
    {
     "data": {
      "text/plain": [
       "(1437, 64)"
      ]
     },
     "execution_count": 68,
     "metadata": {},
     "output_type": "execute_result"
    }
   ],
   "source": [
    "d2_xtrain_dataset.shape"
   ]
  },
  {
   "cell_type": "code",
   "execution_count": 86,
   "metadata": {},
   "outputs": [],
   "source": [
    "mlp_model.compile(loss='categorical_crossentropy', metrics=['accuracy'], optimizer='adam')"
   ]
  },
  {
   "cell_type": "code",
   "execution_count": 88,
   "metadata": {},
   "outputs": [
    {
     "name": "stdout",
     "output_type": "stream",
     "text": [
      "Epoch 1/500\n",
      "1437/1437 [==============================] - 0s 122us/step - loss: 1.0962 - accuracy: 0.6207\n",
      "Epoch 2/500\n",
      "1437/1437 [==============================] - 0s 119us/step - loss: 1.0682 - accuracy: 0.6305\n",
      "Epoch 3/500\n",
      "1437/1437 [==============================] - 0s 121us/step - loss: 1.1017 - accuracy: 0.6124\n",
      "Epoch 4/500\n",
      "1437/1437 [==============================] - 0s 115us/step - loss: 1.0858 - accuracy: 0.6145\n",
      "Epoch 5/500\n",
      "1437/1437 [==============================] - 0s 153us/step - loss: 1.0813 - accuracy: 0.6193\n",
      "Epoch 6/500\n",
      "1437/1437 [==============================] - 0s 188us/step - loss: 1.1118 - accuracy: 0.6124\n",
      "Epoch 7/500\n",
      "1437/1437 [==============================] - 0s 172us/step - loss: 1.1084 - accuracy: 0.6166\n",
      "Epoch 8/500\n",
      "1437/1437 [==============================] - 0s 137us/step - loss: 1.0691 - accuracy: 0.6235\n",
      "Epoch 9/500\n",
      "1437/1437 [==============================] - 0s 118us/step - loss: 1.0839 - accuracy: 0.6479\n",
      "Epoch 10/500\n",
      "1437/1437 [==============================] - 0s 117us/step - loss: 1.0908 - accuracy: 0.6145\n",
      "Epoch 11/500\n",
      "1437/1437 [==============================] - 0s 126us/step - loss: 1.0992 - accuracy: 0.6089\n",
      "Epoch 12/500\n",
      "1437/1437 [==============================] - 0s 121us/step - loss: 1.1018 - accuracy: 0.6221\n",
      "Epoch 13/500\n",
      "1437/1437 [==============================] - 0s 120us/step - loss: 1.0546 - accuracy: 0.62070s - loss: 1.0785 - accuracy: \n",
      "Epoch 14/500\n",
      "1437/1437 [==============================] - 0s 142us/step - loss: 1.1028 - accuracy: 0.6186\n",
      "Epoch 15/500\n",
      "1437/1437 [==============================] - 0s 165us/step - loss: 1.0754 - accuracy: 0.6159\n",
      "Epoch 16/500\n",
      "1437/1437 [==============================] - 0s 145us/step - loss: 1.0929 - accuracy: 0.6312\n",
      "Epoch 17/500\n",
      "1437/1437 [==============================] - 0s 143us/step - loss: 1.0599 - accuracy: 0.6333\n",
      "Epoch 18/500\n",
      "1437/1437 [==============================] - 0s 144us/step - loss: 1.0771 - accuracy: 0.6214\n",
      "Epoch 19/500\n",
      "1437/1437 [==============================] - 0s 137us/step - loss: 1.0582 - accuracy: 0.6235\n",
      "Epoch 20/500\n",
      "1437/1437 [==============================] - 0s 137us/step - loss: 1.0578 - accuracy: 0.6333\n",
      "Epoch 21/500\n",
      "1437/1437 [==============================] - 0s 128us/step - loss: 1.1322 - accuracy: 0.6207\n",
      "Epoch 22/500\n",
      "1437/1437 [==============================] - 0s 130us/step - loss: 1.0453 - accuracy: 0.6367\n",
      "Epoch 23/500\n",
      "1437/1437 [==============================] - 0s 169us/step - loss: 1.0167 - accuracy: 0.6430\n",
      "Epoch 24/500\n",
      "1437/1437 [==============================] - 0s 147us/step - loss: 1.0580 - accuracy: 0.6360\n",
      "Epoch 25/500\n",
      "1437/1437 [==============================] - 0s 121us/step - loss: 1.0190 - accuracy: 0.6437\n",
      "Epoch 26/500\n",
      "1437/1437 [==============================] - 0s 122us/step - loss: 1.0017 - accuracy: 0.6597\n",
      "Epoch 27/500\n",
      "1437/1437 [==============================] - 0s 119us/step - loss: 1.0763 - accuracy: 0.6110\n",
      "Epoch 28/500\n",
      "1437/1437 [==============================] - 0s 112us/step - loss: 1.0938 - accuracy: 0.6235\n",
      "Epoch 29/500\n",
      "1437/1437 [==============================] - 0s 112us/step - loss: 1.0561 - accuracy: 0.6186\n",
      "Epoch 30/500\n",
      "1437/1437 [==============================] - 0s 115us/step - loss: 0.9946 - accuracy: 0.6555\n",
      "Epoch 31/500\n",
      "1437/1437 [==============================] - 0s 115us/step - loss: 1.0218 - accuracy: 0.6395\n",
      "Epoch 32/500\n",
      "1437/1437 [==============================] - 0s 112us/step - loss: 1.0232 - accuracy: 0.6409\n",
      "Epoch 33/500\n",
      "1437/1437 [==============================] - 0s 176us/step - loss: 1.0411 - accuracy: 0.6521\n",
      "Epoch 34/500\n",
      "1437/1437 [==============================] - 0s 136us/step - loss: 1.0113 - accuracy: 0.6367\n",
      "Epoch 35/500\n",
      "1437/1437 [==============================] - 0s 120us/step - loss: 1.0664 - accuracy: 0.6291\n",
      "Epoch 36/500\n",
      "1437/1437 [==============================] - 0s 122us/step - loss: 1.0748 - accuracy: 0.6333\n",
      "Epoch 37/500\n",
      "1437/1437 [==============================] - 0s 113us/step - loss: 1.0751 - accuracy: 0.6277\n",
      "Epoch 38/500\n",
      "1437/1437 [==============================] - 0s 112us/step - loss: 1.0965 - accuracy: 0.6193\n",
      "Epoch 39/500\n",
      "1437/1437 [==============================] - 0s 113us/step - loss: 1.0286 - accuracy: 0.6500\n",
      "Epoch 40/500\n",
      "1437/1437 [==============================] - 0s 117us/step - loss: 1.0359 - accuracy: 0.6416\n",
      "Epoch 41/500\n",
      "1437/1437 [==============================] - 0s 177us/step - loss: 1.0058 - accuracy: 0.6541\n",
      "Epoch 42/500\n",
      "1437/1437 [==============================] - 0s 136us/step - loss: 1.0914 - accuracy: 0.6214\n",
      "Epoch 43/500\n",
      "1437/1437 [==============================] - 0s 124us/step - loss: 1.0820 - accuracy: 0.6256\n",
      "Epoch 44/500\n",
      "1437/1437 [==============================] - 0s 147us/step - loss: 1.0651 - accuracy: 0.6298\n",
      "Epoch 45/500\n",
      "1437/1437 [==============================] - 0s 154us/step - loss: 1.0291 - accuracy: 0.6486\n",
      "Epoch 46/500\n",
      "1437/1437 [==============================] - 0s 124us/step - loss: 1.0385 - accuracy: 0.6493\n",
      "Epoch 47/500\n",
      "1437/1437 [==============================] - 0s 169us/step - loss: 1.0495 - accuracy: 0.63600s - loss: 1.0532 - accuracy\n",
      "Epoch 48/500\n",
      "1437/1437 [==============================] - 0s 158us/step - loss: 1.0165 - accuracy: 0.6388\n",
      "Epoch 49/500\n",
      "1437/1437 [==============================] - 0s 123us/step - loss: 1.0670 - accuracy: 0.6180\n",
      "Epoch 50/500\n",
      "1437/1437 [==============================] - 0s 126us/step - loss: 0.9896 - accuracy: 0.6604\n",
      "Epoch 51/500\n",
      "1437/1437 [==============================] - 0s 119us/step - loss: 1.0756 - accuracy: 0.6395\n",
      "Epoch 52/500\n",
      "1437/1437 [==============================] - 0s 170us/step - loss: 1.0163 - accuracy: 0.6534\n",
      "Epoch 53/500\n",
      "1437/1437 [==============================] - 0s 127us/step - loss: 1.0479 - accuracy: 0.6305\n",
      "Epoch 54/500\n",
      "1437/1437 [==============================] - 0s 112us/step - loss: 1.0399 - accuracy: 0.6423\n",
      "Epoch 55/500\n",
      "1437/1437 [==============================] - 0s 117us/step - loss: 1.0491 - accuracy: 0.6430\n",
      "Epoch 56/500\n",
      "1437/1437 [==============================] - 0s 111us/step - loss: 1.0481 - accuracy: 0.6451\n",
      "Epoch 57/500\n",
      "1437/1437 [==============================] - 0s 113us/step - loss: 1.0355 - accuracy: 0.6486\n",
      "Epoch 58/500\n",
      "1437/1437 [==============================] - 0s 167us/step - loss: 0.9805 - accuracy: 0.6611\n",
      "Epoch 59/500\n",
      "1437/1437 [==============================] - 0s 146us/step - loss: 1.0151 - accuracy: 0.6548\n",
      "Epoch 60/500\n",
      "1437/1437 [==============================] - 0s 117us/step - loss: 1.0222 - accuracy: 0.6416\n",
      "Epoch 61/500\n",
      "1437/1437 [==============================] - 0s 117us/step - loss: 0.9960 - accuracy: 0.6618\n",
      "Epoch 62/500\n",
      "1437/1437 [==============================] - 0s 125us/step - loss: 1.0091 - accuracy: 0.6298\n",
      "Epoch 63/500\n",
      "1437/1437 [==============================] - 0s 117us/step - loss: 1.0372 - accuracy: 0.6374\n",
      "Epoch 64/500\n",
      "1437/1437 [==============================] - 0s 122us/step - loss: 1.0283 - accuracy: 0.6277\n",
      "Epoch 65/500\n",
      "1437/1437 [==============================] - 0s 185us/step - loss: 1.0405 - accuracy: 0.6514\n",
      "Epoch 66/500\n",
      "1437/1437 [==============================] - 0s 130us/step - loss: 1.0433 - accuracy: 0.6479\n",
      "Epoch 67/500\n",
      "1437/1437 [==============================] - 0s 133us/step - loss: 0.9967 - accuracy: 0.6604\n",
      "Epoch 68/500\n",
      "1437/1437 [==============================] - 0s 135us/step - loss: 1.0285 - accuracy: 0.6555\n",
      "Epoch 69/500\n",
      "1437/1437 [==============================] - 0s 169us/step - loss: 1.0433 - accuracy: 0.6430\n",
      "Epoch 70/500\n",
      "1437/1437 [==============================] - 0s 165us/step - loss: 0.9888 - accuracy: 0.6465\n",
      "Epoch 71/500\n",
      "1437/1437 [==============================] - 0s 168us/step - loss: 0.9589 - accuracy: 0.6611\n",
      "Epoch 72/500\n",
      "1437/1437 [==============================] - 0s 162us/step - loss: 1.0360 - accuracy: 0.6395\n",
      "Epoch 73/500\n",
      "1437/1437 [==============================] - 0s 167us/step - loss: 0.9960 - accuracy: 0.6514\n",
      "Epoch 74/500\n",
      "1437/1437 [==============================] - 0s 182us/step - loss: 1.0229 - accuracy: 0.6583\n",
      "Epoch 75/500\n",
      "1437/1437 [==============================] - 0s 128us/step - loss: 1.0702 - accuracy: 0.6214\n",
      "Epoch 76/500\n",
      "1437/1437 [==============================] - 0s 126us/step - loss: 1.0264 - accuracy: 0.6458\n",
      "Epoch 77/500\n"
     ]
    },
    {
     "name": "stdout",
     "output_type": "stream",
     "text": [
      "1437/1437 [==============================] - 0s 123us/step - loss: 1.0158 - accuracy: 0.6326\n",
      "Epoch 78/500\n",
      "1437/1437 [==============================] - 0s 162us/step - loss: 1.0164 - accuracy: 0.6604\n",
      "Epoch 79/500\n",
      "1437/1437 [==============================] - 0s 173us/step - loss: 0.9815 - accuracy: 0.6576\n",
      "Epoch 80/500\n",
      "1437/1437 [==============================] - 0s 115us/step - loss: 1.0594 - accuracy: 0.6277\n",
      "Epoch 81/500\n",
      "1437/1437 [==============================] - 0s 119us/step - loss: 1.0108 - accuracy: 0.6625\n",
      "Epoch 82/500\n",
      "1437/1437 [==============================] - 0s 115us/step - loss: 1.0047 - accuracy: 0.6625\n",
      "Epoch 83/500\n",
      "1437/1437 [==============================] - 0s 137us/step - loss: 1.0163 - accuracy: 0.6541\n",
      "Epoch 84/500\n",
      "1437/1437 [==============================] - 0s 158us/step - loss: 0.9817 - accuracy: 0.6653\n",
      "Epoch 85/500\n",
      "1437/1437 [==============================] - 0s 158us/step - loss: 1.0638 - accuracy: 0.6521\n",
      "Epoch 86/500\n",
      "1437/1437 [==============================] - 0s 155us/step - loss: 1.0287 - accuracy: 0.6423\n",
      "Epoch 87/500\n",
      "1437/1437 [==============================] - 0s 163us/step - loss: 1.0337 - accuracy: 0.6423\n",
      "Epoch 88/500\n",
      "1437/1437 [==============================] - 0s 157us/step - loss: 1.0626 - accuracy: 0.6416\n",
      "Epoch 89/500\n",
      "1437/1437 [==============================] - 0s 158us/step - loss: 1.0025 - accuracy: 0.6527\n",
      "Epoch 90/500\n",
      "1437/1437 [==============================] - 0s 121us/step - loss: 1.0086 - accuracy: 0.6576\n",
      "Epoch 91/500\n",
      "1437/1437 [==============================] - 0s 115us/step - loss: 1.0092 - accuracy: 0.6541\n",
      "Epoch 92/500\n",
      "1437/1437 [==============================] - 0s 117us/step - loss: 0.9862 - accuracy: 0.6604\n",
      "Epoch 93/500\n",
      "1437/1437 [==============================] - 0s 115us/step - loss: 1.0151 - accuracy: 0.6569\n",
      "Epoch 94/500\n",
      "1437/1437 [==============================] - 0s 128us/step - loss: 1.0332 - accuracy: 0.6416\n",
      "Epoch 95/500\n",
      "1437/1437 [==============================] - 0s 162us/step - loss: 1.0153 - accuracy: 0.6597\n",
      "Epoch 96/500\n",
      "1437/1437 [==============================] - 0s 153us/step - loss: 1.0040 - accuracy: 0.6493\n",
      "Epoch 97/500\n",
      "1437/1437 [==============================] - 0s 141us/step - loss: 1.0094 - accuracy: 0.6430\n",
      "Epoch 98/500\n",
      "1437/1437 [==============================] - 0s 140us/step - loss: 1.0013 - accuracy: 0.6472\n",
      "Epoch 99/500\n",
      "1437/1437 [==============================] - 0s 140us/step - loss: 0.9886 - accuracy: 0.6521\n",
      "Epoch 100/500\n",
      "1437/1437 [==============================] - 0s 134us/step - loss: 0.9865 - accuracy: 0.6541\n",
      "Epoch 101/500\n",
      "1437/1437 [==============================] - 0s 122us/step - loss: 0.9631 - accuracy: 0.6576\n",
      "Epoch 102/500\n",
      "1437/1437 [==============================] - 0s 131us/step - loss: 1.0115 - accuracy: 0.6493\n",
      "Epoch 103/500\n",
      "1437/1437 [==============================] - 0s 119us/step - loss: 0.9743 - accuracy: 0.6729\n",
      "Epoch 104/500\n",
      "1437/1437 [==============================] - 0s 112us/step - loss: 1.0192 - accuracy: 0.6555\n",
      "Epoch 105/500\n",
      "1437/1437 [==============================] - 0s 142us/step - loss: 0.9989 - accuracy: 0.6500\n",
      "Epoch 106/500\n",
      "1437/1437 [==============================] - 0s 162us/step - loss: 0.9714 - accuracy: 0.6618\n",
      "Epoch 107/500\n",
      "1437/1437 [==============================] - 0s 167us/step - loss: 0.9935 - accuracy: 0.6576\n",
      "Epoch 108/500\n",
      "1437/1437 [==============================] - 0s 162us/step - loss: 0.9707 - accuracy: 0.6681\n",
      "Epoch 109/500\n",
      "1437/1437 [==============================] - 0s 152us/step - loss: 1.0167 - accuracy: 0.6660\n",
      "Epoch 110/500\n",
      "1437/1437 [==============================] - 0s 157us/step - loss: 1.0076 - accuracy: 0.6618\n",
      "Epoch 111/500\n",
      "1437/1437 [==============================] - 0s 155us/step - loss: 1.0119 - accuracy: 0.6555\n",
      "Epoch 112/500\n",
      "1437/1437 [==============================] - 0s 156us/step - loss: 0.9505 - accuracy: 0.6785\n",
      "Epoch 113/500\n",
      "1437/1437 [==============================] - 0s 160us/step - loss: 0.9926 - accuracy: 0.6660\n",
      "Epoch 114/500\n",
      "1437/1437 [==============================] - 0s 125us/step - loss: 1.0418 - accuracy: 0.6388\n",
      "Epoch 115/500\n",
      "1437/1437 [==============================] - 0s 120us/step - loss: 0.9943 - accuracy: 0.6597\n",
      "Epoch 116/500\n",
      "1437/1437 [==============================] - 0s 115us/step - loss: 0.9956 - accuracy: 0.6646\n",
      "Epoch 117/500\n",
      "1437/1437 [==============================] - 0s 111us/step - loss: 1.0363 - accuracy: 0.6409\n",
      "Epoch 118/500\n",
      "1437/1437 [==============================] - 0s 112us/step - loss: 1.0107 - accuracy: 0.6569\n",
      "Epoch 119/500\n",
      "1437/1437 [==============================] - 0s 112us/step - loss: 0.9615 - accuracy: 0.6834\n",
      "Epoch 120/500\n",
      "1437/1437 [==============================] - ETA: 0s - loss: 1.0032 - accuracy: 0.66 - 0s 115us/step - loss: 1.0110 - accuracy: 0.6555\n",
      "Epoch 121/500\n",
      "1437/1437 [==============================] - 0s 123us/step - loss: 1.0071 - accuracy: 0.6569\n",
      "Epoch 122/500\n",
      "1437/1437 [==============================] - 0s 116us/step - loss: 1.0116 - accuracy: 0.6611\n",
      "Epoch 123/500\n",
      "1437/1437 [==============================] - 0s 143us/step - loss: 0.9909 - accuracy: 0.6660\n",
      "Epoch 124/500\n",
      "1437/1437 [==============================] - 0s 135us/step - loss: 0.9298 - accuracy: 0.6827\n",
      "Epoch 125/500\n",
      "1437/1437 [==============================] - 0s 140us/step - loss: 0.9574 - accuracy: 0.6715\n",
      "Epoch 126/500\n",
      "1437/1437 [==============================] - 0s 122us/step - loss: 1.0688 - accuracy: 0.6326\n",
      "Epoch 127/500\n",
      "1437/1437 [==============================] - 0s 135us/step - loss: 1.0011 - accuracy: 0.6347\n",
      "Epoch 128/500\n",
      "1437/1437 [==============================] - 0s 119us/step - loss: 0.9642 - accuracy: 0.6722\n",
      "Epoch 129/500\n",
      "1437/1437 [==============================] - 0s 128us/step - loss: 1.0027 - accuracy: 0.6667\n",
      "Epoch 130/500\n",
      "1437/1437 [==============================] - 0s 138us/step - loss: 0.9912 - accuracy: 0.6562\n",
      "Epoch 131/500\n",
      "1437/1437 [==============================] - 0s 130us/step - loss: 0.9620 - accuracy: 0.6688\n",
      "Epoch 132/500\n",
      "1437/1437 [==============================] - 0s 137us/step - loss: 0.9520 - accuracy: 0.6646\n",
      "Epoch 133/500\n",
      "1437/1437 [==============================] - 0s 128us/step - loss: 0.9796 - accuracy: 0.6451\n",
      "Epoch 134/500\n",
      "1437/1437 [==============================] - 0s 178us/step - loss: 0.9823 - accuracy: 0.6541\n",
      "Epoch 135/500\n",
      "1437/1437 [==============================] - 0s 159us/step - loss: 1.0148 - accuracy: 0.6660\n",
      "Epoch 136/500\n",
      "1437/1437 [==============================] - 0s 154us/step - loss: 0.9367 - accuracy: 0.6875\n",
      "Epoch 137/500\n",
      "1437/1437 [==============================] - 0s 139us/step - loss: 0.9637 - accuracy: 0.6681\n",
      "Epoch 138/500\n",
      "1437/1437 [==============================] - 0s 125us/step - loss: 0.9941 - accuracy: 0.6785\n",
      "Epoch 139/500\n",
      "1437/1437 [==============================] - 0s 131us/step - loss: 1.0085 - accuracy: 0.6660\n",
      "Epoch 140/500\n",
      "1437/1437 [==============================] - 0s 142us/step - loss: 0.9662 - accuracy: 0.6750\n",
      "Epoch 141/500\n",
      "1437/1437 [==============================] - 0s 129us/step - loss: 0.9233 - accuracy: 0.6813\n",
      "Epoch 142/500\n",
      "1437/1437 [==============================] - 0s 132us/step - loss: 1.0013 - accuracy: 0.6521\n",
      "Epoch 143/500\n",
      "1437/1437 [==============================] - 0s 134us/step - loss: 0.9548 - accuracy: 0.6736\n",
      "Epoch 144/500\n",
      "1437/1437 [==============================] - 0s 128us/step - loss: 1.0369 - accuracy: 0.6500\n",
      "Epoch 145/500\n",
      "1437/1437 [==============================] - 0s 128us/step - loss: 1.0140 - accuracy: 0.6576\n",
      "Epoch 146/500\n",
      "1437/1437 [==============================] - 0s 131us/step - loss: 1.0079 - accuracy: 0.6548\n",
      "Epoch 147/500\n",
      "1437/1437 [==============================] - 0s 122us/step - loss: 0.9521 - accuracy: 0.6764\n",
      "Epoch 148/500\n",
      "1437/1437 [==============================] - 0s 132us/step - loss: 0.9669 - accuracy: 0.6834\n",
      "Epoch 149/500\n",
      "1437/1437 [==============================] - 0s 194us/step - loss: 0.9911 - accuracy: 0.6639\n",
      "Epoch 150/500\n",
      "1437/1437 [==============================] - 0s 128us/step - loss: 1.0225 - accuracy: 0.6569\n",
      "Epoch 151/500\n",
      "1437/1437 [==============================] - 0s 174us/step - loss: 0.9764 - accuracy: 0.6534\n",
      "Epoch 152/500\n",
      "1437/1437 [==============================] - 0s 153us/step - loss: 0.9302 - accuracy: 0.6855\n",
      "Epoch 153/500\n"
     ]
    },
    {
     "name": "stdout",
     "output_type": "stream",
     "text": [
      "1437/1437 [==============================] - 0s 120us/step - loss: 0.9425 - accuracy: 0.6820\n",
      "Epoch 154/500\n",
      "1437/1437 [==============================] - 0s 118us/step - loss: 0.9345 - accuracy: 0.6799\n",
      "Epoch 155/500\n",
      "1437/1437 [==============================] - 0s 108us/step - loss: 0.9485 - accuracy: 0.6681\n",
      "Epoch 156/500\n",
      "1437/1437 [==============================] - 0s 107us/step - loss: 0.9371 - accuracy: 0.6813\n",
      "Epoch 157/500\n",
      "1437/1437 [==============================] - 0s 107us/step - loss: 0.9978 - accuracy: 0.6611\n",
      "Epoch 158/500\n",
      "1437/1437 [==============================] - 0s 114us/step - loss: 1.0076 - accuracy: 0.6604\n",
      "Epoch 159/500\n",
      "1437/1437 [==============================] - 0s 111us/step - loss: 0.9494 - accuracy: 0.6799\n",
      "Epoch 160/500\n",
      "1437/1437 [==============================] - 0s 115us/step - loss: 0.9489 - accuracy: 0.6868\n",
      "Epoch 161/500\n",
      "1437/1437 [==============================] - 0s 119us/step - loss: 0.9949 - accuracy: 0.6625\n",
      "Epoch 162/500\n",
      "1437/1437 [==============================] - 0s 132us/step - loss: 0.9030 - accuracy: 0.6966\n",
      "Epoch 163/500\n",
      "1437/1437 [==============================] - 0s 130us/step - loss: 0.9202 - accuracy: 0.6855\n",
      "Epoch 164/500\n",
      "1437/1437 [==============================] - 0s 126us/step - loss: 0.9822 - accuracy: 0.6681\n",
      "Epoch 165/500\n",
      "1437/1437 [==============================] - 0s 115us/step - loss: 0.9559 - accuracy: 0.6827\n",
      "Epoch 166/500\n",
      "1437/1437 [==============================] - 0s 124us/step - loss: 0.9496 - accuracy: 0.6903\n",
      "Epoch 167/500\n",
      "1437/1437 [==============================] - 0s 115us/step - loss: 0.9947 - accuracy: 0.6743\n",
      "Epoch 168/500\n",
      "1437/1437 [==============================] - 0s 115us/step - loss: 0.9453 - accuracy: 0.6820\n",
      "Epoch 169/500\n",
      "1437/1437 [==============================] - 0s 115us/step - loss: 0.9501 - accuracy: 0.6778\n",
      "Epoch 170/500\n",
      "1437/1437 [==============================] - 0s 114us/step - loss: 0.9547 - accuracy: 0.6674\n",
      "Epoch 171/500\n",
      "1437/1437 [==============================] - 0s 112us/step - loss: 1.0075 - accuracy: 0.6639\n",
      "Epoch 172/500\n",
      "1437/1437 [==============================] - 0s 121us/step - loss: 0.9469 - accuracy: 0.6688\n",
      "Epoch 173/500\n",
      "1437/1437 [==============================] - 0s 124us/step - loss: 0.9230 - accuracy: 0.6771\n",
      "Epoch 174/500\n",
      "1437/1437 [==============================] - 0s 123us/step - loss: 0.9314 - accuracy: 0.6660\n",
      "Epoch 175/500\n",
      "1437/1437 [==============================] - 0s 130us/step - loss: 0.9864 - accuracy: 0.6736\n",
      "Epoch 176/500\n",
      "1437/1437 [==============================] - 0s 134us/step - loss: 0.9584 - accuracy: 0.6695\n",
      "Epoch 177/500\n",
      "1437/1437 [==============================] - 0s 151us/step - loss: 0.9410 - accuracy: 0.6736\n",
      "Epoch 178/500\n",
      "1437/1437 [==============================] - 0s 174us/step - loss: 1.0249 - accuracy: 0.6548\n",
      "Epoch 179/500\n",
      "1437/1437 [==============================] - 0s 150us/step - loss: 0.9456 - accuracy: 0.6771\n",
      "Epoch 180/500\n",
      "1437/1437 [==============================] - 0s 156us/step - loss: 0.9152 - accuracy: 0.7029\n",
      "Epoch 181/500\n",
      "1437/1437 [==============================] - 0s 154us/step - loss: 1.0087 - accuracy: 0.6493\n",
      "Epoch 182/500\n",
      "1437/1437 [==============================] - 0s 137us/step - loss: 0.9584 - accuracy: 0.6813\n",
      "Epoch 183/500\n",
      "1437/1437 [==============================] - 0s 160us/step - loss: 0.8979 - accuracy: 0.6945\n",
      "Epoch 184/500\n",
      "1437/1437 [==============================] - 0s 167us/step - loss: 0.9534 - accuracy: 0.6681\n",
      "Epoch 185/500\n",
      "1437/1437 [==============================] - 0s 162us/step - loss: 0.9580 - accuracy: 0.6674\n",
      "Epoch 186/500\n",
      "1437/1437 [==============================] - 0s 149us/step - loss: 0.9434 - accuracy: 0.6952\n",
      "Epoch 187/500\n",
      "1437/1437 [==============================] - 0s 130us/step - loss: 0.9326 - accuracy: 0.6841\n",
      "Epoch 188/500\n",
      "1437/1437 [==============================] - 0s 118us/step - loss: 0.9903 - accuracy: 0.6778\n",
      "Epoch 189/500\n",
      "1437/1437 [==============================] - 0s 115us/step - loss: 0.9162 - accuracy: 0.6736\n",
      "Epoch 190/500\n",
      "1437/1437 [==============================] - 0s 106us/step - loss: 0.9511 - accuracy: 0.6750\n",
      "Epoch 191/500\n",
      "1437/1437 [==============================] - 0s 110us/step - loss: 0.8931 - accuracy: 0.6917\n",
      "Epoch 192/500\n",
      "1437/1437 [==============================] - 0s 107us/step - loss: 0.9169 - accuracy: 0.7022\n",
      "Epoch 193/500\n",
      "1437/1437 [==============================] - 0s 110us/step - loss: 1.0208 - accuracy: 0.6632\n",
      "Epoch 194/500\n",
      "1437/1437 [==============================] - 0s 114us/step - loss: 0.9940 - accuracy: 0.6688\n",
      "Epoch 195/500\n",
      "1437/1437 [==============================] - 0s 112us/step - loss: 0.9361 - accuracy: 0.6785\n",
      "Epoch 196/500\n",
      "1437/1437 [==============================] - 0s 120us/step - loss: 0.9390 - accuracy: 0.6715\n",
      "Epoch 197/500\n",
      "1437/1437 [==============================] - 0s 115us/step - loss: 0.9614 - accuracy: 0.6848\n",
      "Epoch 198/500\n",
      "1437/1437 [==============================] - 0s 115us/step - loss: 0.9127 - accuracy: 0.6848\n",
      "Epoch 199/500\n",
      "1437/1437 [==============================] - 0s 136us/step - loss: 0.9413 - accuracy: 0.6813\n",
      "Epoch 200/500\n",
      "1437/1437 [==============================] - 0s 116us/step - loss: 0.8974 - accuracy: 0.6875\n",
      "Epoch 201/500\n",
      "1437/1437 [==============================] - ETA: 0s - loss: 0.9622 - accuracy: 0.66 - 0s 118us/step - loss: 0.9656 - accuracy: 0.6674\n",
      "Epoch 202/500\n",
      "1437/1437 [==============================] - 0s 126us/step - loss: 0.9214 - accuracy: 0.6792\n",
      "Epoch 203/500\n",
      "1437/1437 [==============================] - 0s 125us/step - loss: 0.9674 - accuracy: 0.6896\n",
      "Epoch 204/500\n",
      "1437/1437 [==============================] - 0s 117us/step - loss: 0.9482 - accuracy: 0.6639\n",
      "Epoch 205/500\n",
      "1437/1437 [==============================] - 0s 124us/step - loss: 0.9587 - accuracy: 0.6695\n",
      "Epoch 206/500\n",
      "1437/1437 [==============================] - 0s 116us/step - loss: 0.9259 - accuracy: 0.6806\n",
      "Epoch 207/500\n",
      "1437/1437 [==============================] - 0s 112us/step - loss: 0.9301 - accuracy: 0.6917\n",
      "Epoch 208/500\n",
      "1437/1437 [==============================] - 0s 112us/step - loss: 1.0346 - accuracy: 0.6479\n",
      "Epoch 209/500\n",
      "1437/1437 [==============================] - 0s 108us/step - loss: 0.9607 - accuracy: 0.6785\n",
      "Epoch 210/500\n",
      "1437/1437 [==============================] - 0s 111us/step - loss: 0.9202 - accuracy: 0.6799\n",
      "Epoch 211/500\n",
      "1437/1437 [==============================] - 0s 119us/step - loss: 0.9520 - accuracy: 0.6555\n",
      "Epoch 212/500\n",
      "1437/1437 [==============================] - 0s 110us/step - loss: 0.9713 - accuracy: 0.6660\n",
      "Epoch 213/500\n",
      "1437/1437 [==============================] - 0s 113us/step - loss: 0.8873 - accuracy: 0.6994\n",
      "Epoch 214/500\n",
      "1437/1437 [==============================] - 0s 111us/step - loss: 0.8947 - accuracy: 0.6966\n",
      "Epoch 215/500\n",
      "1437/1437 [==============================] - 0s 107us/step - loss: 0.9522 - accuracy: 0.6743\n",
      "Epoch 216/500\n",
      "1437/1437 [==============================] - 0s 110us/step - loss: 0.9352 - accuracy: 0.6875\n",
      "Epoch 217/500\n",
      "1437/1437 [==============================] - 0s 117us/step - loss: 0.9147 - accuracy: 0.6862\n",
      "Epoch 218/500\n",
      "1437/1437 [==============================] - 0s 112us/step - loss: 0.9561 - accuracy: 0.6799\n",
      "Epoch 219/500\n",
      "1437/1437 [==============================] - 0s 110us/step - loss: 0.9180 - accuracy: 0.6695\n",
      "Epoch 220/500\n",
      "1437/1437 [==============================] - 0s 115us/step - loss: 0.9537 - accuracy: 0.6813\n",
      "Epoch 221/500\n",
      "1437/1437 [==============================] - 0s 115us/step - loss: 0.9725 - accuracy: 0.6688\n",
      "Epoch 222/500\n",
      "1437/1437 [==============================] - 0s 120us/step - loss: 0.9442 - accuracy: 0.6889\n",
      "Epoch 223/500\n",
      "1437/1437 [==============================] - ETA: 0s - loss: 0.9062 - accuracy: 0.69 - 0s 128us/step - loss: 0.9117 - accuracy: 0.6855\n",
      "Epoch 224/500\n",
      "1437/1437 [==============================] - 0s 120us/step - loss: 0.9968 - accuracy: 0.6555\n",
      "Epoch 225/500\n",
      "1437/1437 [==============================] - 0s 154us/step - loss: 0.9604 - accuracy: 0.6722\n",
      "Epoch 226/500\n",
      "1437/1437 [==============================] - 0s 125us/step - loss: 0.9797 - accuracy: 0.6674\n",
      "Epoch 227/500\n",
      "1437/1437 [==============================] - 0s 126us/step - loss: 0.9518 - accuracy: 0.6695\n",
      "Epoch 228/500\n"
     ]
    },
    {
     "name": "stdout",
     "output_type": "stream",
     "text": [
      "1437/1437 [==============================] - 0s 130us/step - loss: 0.9084 - accuracy: 0.6980\n",
      "Epoch 229/500\n",
      "1437/1437 [==============================] - 0s 198us/step - loss: 0.9452 - accuracy: 0.6875\n",
      "Epoch 230/500\n",
      "1437/1437 [==============================] - 0s 168us/step - loss: 1.0126 - accuracy: 0.66950s - loss: 0.9430 - accuracy\n",
      "Epoch 231/500\n",
      "1437/1437 [==============================] - 0s 167us/step - loss: 0.9258 - accuracy: 0.7001\n",
      "Epoch 232/500\n",
      "1437/1437 [==============================] - 0s 179us/step - loss: 0.9260 - accuracy: 0.6994\n",
      "Epoch 233/500\n",
      "1437/1437 [==============================] - 0s 158us/step - loss: 0.9157 - accuracy: 0.6924\n",
      "Epoch 234/500\n",
      "1437/1437 [==============================] - 0s 156us/step - loss: 0.9311 - accuracy: 0.6778\n",
      "Epoch 235/500\n",
      "1437/1437 [==============================] - 0s 158us/step - loss: 0.9213 - accuracy: 0.6987\n",
      "Epoch 236/500\n",
      "1437/1437 [==============================] - 0s 249us/step - loss: 0.9397 - accuracy: 0.6959\n",
      "Epoch 237/500\n",
      "1437/1437 [==============================] - 0s 242us/step - loss: 0.9413 - accuracy: 0.6848\n",
      "Epoch 238/500\n",
      "1437/1437 [==============================] - 0s 192us/step - loss: 0.8950 - accuracy: 0.6966\n",
      "Epoch 239/500\n",
      "1437/1437 [==============================] - 0s 195us/step - loss: 0.9637 - accuracy: 0.6820\n",
      "Epoch 240/500\n",
      "1437/1437 [==============================] - 0s 199us/step - loss: 0.9504 - accuracy: 0.6827\n",
      "Epoch 241/500\n",
      "1437/1437 [==============================] - 0s 162us/step - loss: 0.9086 - accuracy: 0.6959\n",
      "Epoch 242/500\n",
      "1437/1437 [==============================] - 0s 162us/step - loss: 0.9880 - accuracy: 0.6681\n",
      "Epoch 243/500\n",
      "1437/1437 [==============================] - 0s 168us/step - loss: 0.9682 - accuracy: 0.6959\n",
      "Epoch 244/500\n",
      "1437/1437 [==============================] - 0s 155us/step - loss: 0.9263 - accuracy: 0.6889\n",
      "Epoch 245/500\n",
      "1437/1437 [==============================] - 0s 173us/step - loss: 0.8910 - accuracy: 0.7015\n",
      "Epoch 246/500\n",
      "1437/1437 [==============================] - 0s 160us/step - loss: 0.8715 - accuracy: 0.7119\n",
      "Epoch 247/500\n",
      "1437/1437 [==============================] - 0s 142us/step - loss: 0.9552 - accuracy: 0.6896\n",
      "Epoch 248/500\n",
      "1437/1437 [==============================] - 0s 140us/step - loss: 0.9154 - accuracy: 0.6910\n",
      "Epoch 249/500\n",
      "1437/1437 [==============================] - 0s 119us/step - loss: 0.9137 - accuracy: 0.7049\n",
      "Epoch 250/500\n",
      "1437/1437 [==============================] - 0s 119us/step - loss: 0.9333 - accuracy: 0.6959\n",
      "Epoch 251/500\n",
      "1437/1437 [==============================] - 0s 117us/step - loss: 0.9552 - accuracy: 0.6848\n",
      "Epoch 252/500\n",
      "1437/1437 [==============================] - 0s 115us/step - loss: 0.9347 - accuracy: 0.6952\n",
      "Epoch 253/500\n",
      "1437/1437 [==============================] - 0s 123us/step - loss: 0.9060 - accuracy: 0.6889\n",
      "Epoch 254/500\n",
      "1437/1437 [==============================] - 0s 115us/step - loss: 0.9263 - accuracy: 0.6868\n",
      "Epoch 255/500\n",
      "1437/1437 [==============================] - 0s 111us/step - loss: 0.8860 - accuracy: 0.6938\n",
      "Epoch 256/500\n",
      "1437/1437 [==============================] - 0s 113us/step - loss: 0.9529 - accuracy: 0.6771\n",
      "Epoch 257/500\n",
      "1437/1437 [==============================] - 0s 119us/step - loss: 0.8768 - accuracy: 0.7161\n",
      "Epoch 258/500\n",
      "1437/1437 [==============================] - 0s 176us/step - loss: 0.8926 - accuracy: 0.7049\n",
      "Epoch 259/500\n",
      "1437/1437 [==============================] - 0s 171us/step - loss: 0.9336 - accuracy: 0.6827\n",
      "Epoch 260/500\n",
      "1437/1437 [==============================] - 0s 147us/step - loss: 0.8792 - accuracy: 0.7015\n",
      "Epoch 261/500\n",
      "1437/1437 [==============================] - 0s 146us/step - loss: 0.9091 - accuracy: 0.6931\n",
      "Epoch 262/500\n",
      "1437/1437 [==============================] - 0s 142us/step - loss: 0.9453 - accuracy: 0.6868\n",
      "Epoch 263/500\n",
      "1437/1437 [==============================] - 0s 158us/step - loss: 0.9368 - accuracy: 0.6771\n",
      "Epoch 264/500\n",
      "1437/1437 [==============================] - 0s 128us/step - loss: 0.9499 - accuracy: 0.6757\n",
      "Epoch 265/500\n",
      "1437/1437 [==============================] - 0s 178us/step - loss: 0.8543 - accuracy: 0.7070\n",
      "Epoch 266/500\n",
      "1437/1437 [==============================] - 0s 162us/step - loss: 0.9722 - accuracy: 0.6841\n",
      "Epoch 267/500\n",
      "1437/1437 [==============================] - 0s 178us/step - loss: 0.9432 - accuracy: 0.6917\n",
      "Epoch 268/500\n",
      "1437/1437 [==============================] - 0s 150us/step - loss: 0.8947 - accuracy: 0.7119\n",
      "Epoch 269/500\n",
      "1437/1437 [==============================] - 0s 162us/step - loss: 0.9122 - accuracy: 0.6868\n",
      "Epoch 270/500\n",
      "1437/1437 [==============================] - 0s 170us/step - loss: 0.9028 - accuracy: 0.7001\n",
      "Epoch 271/500\n",
      "1437/1437 [==============================] - 0s 162us/step - loss: 0.9144 - accuracy: 0.6820\n",
      "Epoch 272/500\n",
      "1437/1437 [==============================] - 0s 178us/step - loss: 0.8981 - accuracy: 0.6917\n",
      "Epoch 273/500\n",
      "1437/1437 [==============================] - 0s 159us/step - loss: 0.8760 - accuracy: 0.7001\n",
      "Epoch 274/500\n",
      "1437/1437 [==============================] - 0s 153us/step - loss: 0.9271 - accuracy: 0.6778\n",
      "Epoch 275/500\n",
      "1437/1437 [==============================] - 0s 116us/step - loss: 0.9288 - accuracy: 0.6785\n",
      "Epoch 276/500\n",
      "1437/1437 [==============================] - 0s 120us/step - loss: 0.9226 - accuracy: 0.6945\n",
      "Epoch 277/500\n",
      "1437/1437 [==============================] - 0s 112us/step - loss: 0.8755 - accuracy: 0.7035\n",
      "Epoch 278/500\n",
      "1437/1437 [==============================] - 0s 118us/step - loss: 0.9274 - accuracy: 0.6931\n",
      "Epoch 279/500\n",
      "1437/1437 [==============================] - 0s 110us/step - loss: 0.8592 - accuracy: 0.7049\n",
      "Epoch 280/500\n",
      "1437/1437 [==============================] - 0s 111us/step - loss: 0.9056 - accuracy: 0.6910\n",
      "Epoch 281/500\n",
      "1437/1437 [==============================] - 0s 118us/step - loss: 0.8969 - accuracy: 0.6994\n",
      "Epoch 282/500\n",
      "1437/1437 [==============================] - 0s 128us/step - loss: 0.9120 - accuracy: 0.6896\n",
      "Epoch 283/500\n",
      "1437/1437 [==============================] - 0s 115us/step - loss: 0.9335 - accuracy: 0.6952\n",
      "Epoch 284/500\n",
      "1437/1437 [==============================] - 0s 115us/step - loss: 0.9006 - accuracy: 0.6987\n",
      "Epoch 285/500\n",
      "1437/1437 [==============================] - 0s 115us/step - loss: 0.8398 - accuracy: 0.7209\n",
      "Epoch 286/500\n",
      "1437/1437 [==============================] - 0s 115us/step - loss: 0.9025 - accuracy: 0.6938\n",
      "Epoch 287/500\n",
      "1437/1437 [==============================] - 0s 116us/step - loss: 0.9234 - accuracy: 0.6973\n",
      "Epoch 288/500\n",
      "1437/1437 [==============================] - 0s 124us/step - loss: 0.9018 - accuracy: 0.7042\n",
      "Epoch 289/500\n",
      "1437/1437 [==============================] - 0s 116us/step - loss: 0.9154 - accuracy: 0.6924\n",
      "Epoch 290/500\n",
      "1437/1437 [==============================] - 0s 116us/step - loss: 0.9388 - accuracy: 0.6813\n",
      "Epoch 291/500\n",
      "1437/1437 [==============================] - 0s 112us/step - loss: 0.9124 - accuracy: 0.6896\n",
      "Epoch 292/500\n",
      "1437/1437 [==============================] - 0s 115us/step - loss: 0.8892 - accuracy: 0.7056\n",
      "Epoch 293/500\n",
      "1437/1437 [==============================] - 0s 116us/step - loss: 0.9216 - accuracy: 0.6889\n",
      "Epoch 294/500\n",
      "1437/1437 [==============================] - 0s 121us/step - loss: 0.8937 - accuracy: 0.6987\n",
      "Epoch 295/500\n",
      "1437/1437 [==============================] - 0s 113us/step - loss: 0.8513 - accuracy: 0.7147\n",
      "Epoch 296/500\n",
      "1437/1437 [==============================] - 0s 117us/step - loss: 0.9197 - accuracy: 0.6910\n",
      "Epoch 297/500\n",
      "1437/1437 [==============================] - 0s 113us/step - loss: 0.9027 - accuracy: 0.6959\n",
      "Epoch 298/500\n",
      "1437/1437 [==============================] - 0s 114us/step - loss: 0.8641 - accuracy: 0.7126\n",
      "Epoch 299/500\n",
      "1437/1437 [==============================] - 0s 118us/step - loss: 0.9024 - accuracy: 0.7098\n",
      "Epoch 300/500\n",
      "1437/1437 [==============================] - 0s 121us/step - loss: 0.9257 - accuracy: 0.6806\n",
      "Epoch 301/500\n",
      "1437/1437 [==============================] - 0s 115us/step - loss: 0.9779 - accuracy: 0.6590\n",
      "Epoch 302/500\n",
      "1437/1437 [==============================] - 0s 115us/step - loss: 0.9367 - accuracy: 0.6875\n",
      "Epoch 303/500\n",
      "1437/1437 [==============================] - 0s 115us/step - loss: 0.9010 - accuracy: 0.6994\n",
      "Epoch 304/500\n"
     ]
    },
    {
     "name": "stdout",
     "output_type": "stream",
     "text": [
      "1437/1437 [==============================] - 0s 114us/step - loss: 0.9607 - accuracy: 0.6618\n",
      "Epoch 305/500\n",
      "1437/1437 [==============================] - 0s 108us/step - loss: 0.8965 - accuracy: 0.7001\n",
      "Epoch 306/500\n",
      "1437/1437 [==============================] - 0s 116us/step - loss: 0.9232 - accuracy: 0.6855\n",
      "Epoch 307/500\n",
      "1437/1437 [==============================] - 0s 111us/step - loss: 0.9479 - accuracy: 0.6834\n",
      "Epoch 308/500\n",
      "1437/1437 [==============================] - 0s 109us/step - loss: 0.9065 - accuracy: 0.7056\n",
      "Epoch 309/500\n",
      "1437/1437 [==============================] - 0s 107us/step - loss: 0.8894 - accuracy: 0.6987\n",
      "Epoch 310/500\n",
      "1437/1437 [==============================] - 0s 105us/step - loss: 0.9400 - accuracy: 0.6889\n",
      "Epoch 311/500\n",
      "1437/1437 [==============================] - 0s 108us/step - loss: 0.8611 - accuracy: 0.7203\n",
      "Epoch 312/500\n",
      "1437/1437 [==============================] - 0s 115us/step - loss: 0.9243 - accuracy: 0.6945\n",
      "Epoch 313/500\n",
      "1437/1437 [==============================] - 0s 105us/step - loss: 0.9001 - accuracy: 0.6903\n",
      "Epoch 314/500\n",
      "1437/1437 [==============================] - 0s 109us/step - loss: 0.9783 - accuracy: 0.6674\n",
      "Epoch 315/500\n",
      "1437/1437 [==============================] - 0s 107us/step - loss: 0.8927 - accuracy: 0.6994\n",
      "Epoch 316/500\n",
      "1437/1437 [==============================] - 0s 106us/step - loss: 0.9334 - accuracy: 0.6952\n",
      "Epoch 317/500\n",
      "1437/1437 [==============================] - 0s 110us/step - loss: 0.9081 - accuracy: 0.7008\n",
      "Epoch 318/500\n",
      "1437/1437 [==============================] - 0s 115us/step - loss: 0.9160 - accuracy: 0.6848\n",
      "Epoch 319/500\n",
      "1437/1437 [==============================] - 0s 111us/step - loss: 0.9593 - accuracy: 0.6875\n",
      "Epoch 320/500\n",
      "1437/1437 [==============================] - 0s 117us/step - loss: 0.9163 - accuracy: 0.7001\n",
      "Epoch 321/500\n",
      "1437/1437 [==============================] - 0s 112us/step - loss: 0.8872 - accuracy: 0.6980\n",
      "Epoch 322/500\n",
      "1437/1437 [==============================] - 0s 105us/step - loss: 0.9285 - accuracy: 0.6917\n",
      "Epoch 323/500\n",
      "1437/1437 [==============================] - 0s 114us/step - loss: 0.8930 - accuracy: 0.6966\n",
      "Epoch 324/500\n",
      "1437/1437 [==============================] - 0s 106us/step - loss: 0.9243 - accuracy: 0.6813\n",
      "Epoch 325/500\n",
      "1437/1437 [==============================] - 0s 118us/step - loss: 0.9507 - accuracy: 0.6799\n",
      "Epoch 326/500\n",
      "1437/1437 [==============================] - 0s 108us/step - loss: 0.9115 - accuracy: 0.6841\n",
      "Epoch 327/500\n",
      "1437/1437 [==============================] - 0s 110us/step - loss: 0.9056 - accuracy: 0.7063\n",
      "Epoch 328/500\n",
      "1437/1437 [==============================] - 0s 107us/step - loss: 0.9033 - accuracy: 0.6959\n",
      "Epoch 329/500\n",
      "1437/1437 [==============================] - 0s 108us/step - loss: 0.8830 - accuracy: 0.6994\n",
      "Epoch 330/500\n",
      "1437/1437 [==============================] - 0s 107us/step - loss: 0.8730 - accuracy: 0.6980\n",
      "Epoch 331/500\n",
      "1437/1437 [==============================] - 0s 117us/step - loss: 0.8945 - accuracy: 0.7001\n",
      "Epoch 332/500\n",
      "1437/1437 [==============================] - 0s 107us/step - loss: 0.9047 - accuracy: 0.6924\n",
      "Epoch 333/500\n",
      "1437/1437 [==============================] - 0s 112us/step - loss: 0.9420 - accuracy: 0.6896\n",
      "Epoch 334/500\n",
      "1437/1437 [==============================] - 0s 109us/step - loss: 0.9218 - accuracy: 0.6771\n",
      "Epoch 335/500\n",
      "1437/1437 [==============================] - 0s 106us/step - loss: 0.8552 - accuracy: 0.7119\n",
      "Epoch 336/500\n",
      "1437/1437 [==============================] - 0s 106us/step - loss: 0.8709 - accuracy: 0.7154\n",
      "Epoch 337/500\n",
      "1437/1437 [==============================] - 0s 119us/step - loss: 0.9472 - accuracy: 0.6806\n",
      "Epoch 338/500\n",
      "1437/1437 [==============================] - 0s 108us/step - loss: 0.8689 - accuracy: 0.7084\n",
      "Epoch 339/500\n",
      "1437/1437 [==============================] - 0s 115us/step - loss: 0.8142 - accuracy: 0.7356\n",
      "Epoch 340/500\n",
      "1437/1437 [==============================] - 0s 111us/step - loss: 0.9262 - accuracy: 0.6903\n",
      "Epoch 341/500\n",
      "1437/1437 [==============================] - 0s 105us/step - loss: 0.9729 - accuracy: 0.6667\n",
      "Epoch 342/500\n",
      "1437/1437 [==============================] - 0s 109us/step - loss: 0.8843 - accuracy: 0.6924\n",
      "Epoch 343/500\n",
      "1437/1437 [==============================] - 0s 113us/step - loss: 0.8947 - accuracy: 0.6945\n",
      "Epoch 344/500\n",
      "1437/1437 [==============================] - 0s 111us/step - loss: 0.9321 - accuracy: 0.6994\n",
      "Epoch 345/500\n",
      "1437/1437 [==============================] - 0s 111us/step - loss: 0.8643 - accuracy: 0.7098\n",
      "Epoch 346/500\n",
      "1437/1437 [==============================] - 0s 122us/step - loss: 0.9334 - accuracy: 0.6875\n",
      "Epoch 347/500\n",
      "1437/1437 [==============================] - 0s 192us/step - loss: 0.9279 - accuracy: 0.6848\n",
      "Epoch 348/500\n",
      "1437/1437 [==============================] - 0s 259us/step - loss: 0.9146 - accuracy: 0.7098\n",
      "Epoch 349/500\n",
      "1437/1437 [==============================] - 0s 230us/step - loss: 0.8519 - accuracy: 0.7126\n",
      "Epoch 350/500\n",
      "1437/1437 [==============================] - 0s 199us/step - loss: 0.8792 - accuracy: 0.6980\n",
      "Epoch 351/500\n",
      "1437/1437 [==============================] - 0s 244us/step - loss: 0.8798 - accuracy: 0.6945\n",
      "Epoch 352/500\n",
      "1437/1437 [==============================] - 0s 201us/step - loss: 0.9258 - accuracy: 0.6834\n",
      "Epoch 353/500\n",
      "1437/1437 [==============================] - 0s 193us/step - loss: 0.9185 - accuracy: 0.6875\n",
      "Epoch 354/500\n",
      "1437/1437 [==============================] - 0s 171us/step - loss: 0.9136 - accuracy: 0.6848\n",
      "Epoch 355/500\n",
      "1437/1437 [==============================] - 0s 167us/step - loss: 0.9182 - accuracy: 0.6973\n",
      "Epoch 356/500\n",
      "1437/1437 [==============================] - 0s 155us/step - loss: 0.8766 - accuracy: 0.7022\n",
      "Epoch 357/500\n",
      "1437/1437 [==============================] - 0s 158us/step - loss: 0.8542 - accuracy: 0.7070\n",
      "Epoch 358/500\n",
      "1437/1437 [==============================] - 0s 163us/step - loss: 0.9430 - accuracy: 0.6750\n",
      "Epoch 359/500\n",
      "1437/1437 [==============================] - 0s 169us/step - loss: 0.8406 - accuracy: 0.7112\n",
      "Epoch 360/500\n",
      "1437/1437 [==============================] - 0s 117us/step - loss: 0.8673 - accuracy: 0.7063\n",
      "Epoch 361/500\n",
      "1437/1437 [==============================] - 0s 113us/step - loss: 0.9046 - accuracy: 0.7022\n",
      "Epoch 362/500\n",
      "1437/1437 [==============================] - 0s 115us/step - loss: 0.8908 - accuracy: 0.7042\n",
      "Epoch 363/500\n",
      "1437/1437 [==============================] - 0s 124us/step - loss: 0.8470 - accuracy: 0.7063\n",
      "Epoch 364/500\n",
      "1437/1437 [==============================] - 0s 162us/step - loss: 0.9002 - accuracy: 0.6896\n",
      "Epoch 365/500\n",
      "1437/1437 [==============================] - 0s 167us/step - loss: 0.8500 - accuracy: 0.7230\n",
      "Epoch 366/500\n",
      "1437/1437 [==============================] - 0s 119us/step - loss: 0.8785 - accuracy: 0.7029\n",
      "Epoch 367/500\n",
      "1437/1437 [==============================] - 0s 120us/step - loss: 0.9491 - accuracy: 0.6806\n",
      "Epoch 368/500\n",
      "1437/1437 [==============================] - 0s 186us/step - loss: 0.9174 - accuracy: 0.7015\n",
      "Epoch 369/500\n",
      "1437/1437 [==============================] - 0s 176us/step - loss: 0.9107 - accuracy: 0.6848\n",
      "Epoch 370/500\n",
      "1437/1437 [==============================] - 0s 155us/step - loss: 0.8997 - accuracy: 0.7070\n",
      "Epoch 371/500\n",
      "1437/1437 [==============================] - 0s 180us/step - loss: 0.9667 - accuracy: 0.6834\n",
      "Epoch 372/500\n",
      "1437/1437 [==============================] - 0s 156us/step - loss: 0.8965 - accuracy: 0.6924\n",
      "Epoch 373/500\n",
      "1437/1437 [==============================] - 0s 183us/step - loss: 0.8640 - accuracy: 0.7133\n",
      "Epoch 374/500\n",
      "1437/1437 [==============================] - 0s 153us/step - loss: 0.9018 - accuracy: 0.7008\n",
      "Epoch 375/500\n",
      "1437/1437 [==============================] - 0s 158us/step - loss: 0.9305 - accuracy: 0.6994\n",
      "Epoch 376/500\n",
      "1437/1437 [==============================] - 0s 192us/step - loss: 0.9004 - accuracy: 0.6980\n",
      "Epoch 377/500\n",
      "1437/1437 [==============================] - 0s 165us/step - loss: 0.8690 - accuracy: 0.7126\n",
      "Epoch 378/500\n",
      "1437/1437 [==============================] - 0s 149us/step - loss: 0.9051 - accuracy: 0.6910\n",
      "Epoch 379/500\n",
      "1437/1437 [==============================] - 0s 117us/step - loss: 0.8443 - accuracy: 0.7091\n",
      "Epoch 380/500\n"
     ]
    },
    {
     "name": "stdout",
     "output_type": "stream",
     "text": [
      "1437/1437 [==============================] - 0s 112us/step - loss: 0.9220 - accuracy: 0.6827\n",
      "Epoch 381/500\n",
      "1437/1437 [==============================] - 0s 108us/step - loss: 0.8999 - accuracy: 0.7022\n",
      "Epoch 382/500\n",
      "1437/1437 [==============================] - 0s 115us/step - loss: 0.9020 - accuracy: 0.6896\n",
      "Epoch 383/500\n",
      "1437/1437 [==============================] - 0s 112us/step - loss: 0.8528 - accuracy: 0.7035\n",
      "Epoch 384/500\n",
      "1437/1437 [==============================] - 0s 109us/step - loss: 0.9353 - accuracy: 0.6813\n",
      "Epoch 385/500\n",
      "1437/1437 [==============================] - 0s 107us/step - loss: 0.8843 - accuracy: 0.7015\n",
      "Epoch 386/500\n",
      "1437/1437 [==============================] - 0s 111us/step - loss: 0.9224 - accuracy: 0.7001\n",
      "Epoch 387/500\n",
      "1437/1437 [==============================] - 0s 162us/step - loss: 0.8858 - accuracy: 0.7084\n",
      "Epoch 388/500\n",
      "1437/1437 [==============================] - 0s 138us/step - loss: 0.8773 - accuracy: 0.7112\n",
      "Epoch 389/500\n",
      "1437/1437 [==============================] - 0s 123us/step - loss: 0.8836 - accuracy: 0.6868\n",
      "Epoch 390/500\n",
      "1437/1437 [==============================] - 0s 133us/step - loss: 0.9064 - accuracy: 0.6952\n",
      "Epoch 391/500\n",
      "1437/1437 [==============================] - 0s 166us/step - loss: 0.8608 - accuracy: 0.7098\n",
      "Epoch 392/500\n",
      "1437/1437 [==============================] - 0s 156us/step - loss: 0.8458 - accuracy: 0.7189\n",
      "Epoch 393/500\n",
      "1437/1437 [==============================] - 0s 171us/step - loss: 0.8894 - accuracy: 0.7077\n",
      "Epoch 394/500\n",
      "1437/1437 [==============================] - 0s 171us/step - loss: 0.8830 - accuracy: 0.7077\n",
      "Epoch 395/500\n",
      "1437/1437 [==============================] - 0s 161us/step - loss: 0.9211 - accuracy: 0.6973\n",
      "Epoch 396/500\n",
      "1437/1437 [==============================] - 0s 160us/step - loss: 0.8750 - accuracy: 0.6959\n",
      "Epoch 397/500\n",
      "1437/1437 [==============================] - 0s 166us/step - loss: 0.8445 - accuracy: 0.7042\n",
      "Epoch 398/500\n",
      "1437/1437 [==============================] - 0s 151us/step - loss: 0.9217 - accuracy: 0.6931\n",
      "Epoch 399/500\n",
      "1437/1437 [==============================] - 0s 154us/step - loss: 0.8569 - accuracy: 0.7140\n",
      "Epoch 400/500\n",
      "1437/1437 [==============================] - 0s 153us/step - loss: 0.8781 - accuracy: 0.7223\n",
      "Epoch 401/500\n",
      "1437/1437 [==============================] - 0s 163us/step - loss: 0.9276 - accuracy: 0.7015\n",
      "Epoch 402/500\n",
      "1437/1437 [==============================] - 0s 160us/step - loss: 0.9164 - accuracy: 0.6841\n",
      "Epoch 403/500\n",
      "1437/1437 [==============================] - 0s 164us/step - loss: 0.8657 - accuracy: 0.7196\n",
      "Epoch 404/500\n",
      "1437/1437 [==============================] - 0s 137us/step - loss: 0.7900 - accuracy: 0.7314\n",
      "Epoch 405/500\n",
      "1437/1437 [==============================] - 0s 121us/step - loss: 0.8709 - accuracy: 0.7161\n",
      "Epoch 406/500\n",
      "1437/1437 [==============================] - 0s 130us/step - loss: 0.8818 - accuracy: 0.7029\n",
      "Epoch 407/500\n",
      "1437/1437 [==============================] - 0s 121us/step - loss: 0.8796 - accuracy: 0.6987\n",
      "Epoch 408/500\n",
      "1437/1437 [==============================] - 0s 118us/step - loss: 0.8867 - accuracy: 0.6882\n",
      "Epoch 409/500\n",
      "1437/1437 [==============================] - 0s 120us/step - loss: 0.8586 - accuracy: 0.7098\n",
      "Epoch 410/500\n",
      "1437/1437 [==============================] - 0s 162us/step - loss: 0.8541 - accuracy: 0.7015\n",
      "Epoch 411/500\n",
      "1437/1437 [==============================] - 0s 180us/step - loss: 0.8490 - accuracy: 0.7049\n",
      "Epoch 412/500\n",
      "1437/1437 [==============================] - 0s 154us/step - loss: 0.8752 - accuracy: 0.7022\n",
      "Epoch 413/500\n",
      "1437/1437 [==============================] - 0s 156us/step - loss: 0.8748 - accuracy: 0.7154\n",
      "Epoch 414/500\n",
      "1437/1437 [==============================] - 0s 164us/step - loss: 0.8499 - accuracy: 0.7203\n",
      "Epoch 415/500\n",
      "1437/1437 [==============================] - 0s 132us/step - loss: 0.8920 - accuracy: 0.7015\n",
      "Epoch 416/500\n",
      "1437/1437 [==============================] - 0s 121us/step - loss: 0.8875 - accuracy: 0.7203\n",
      "Epoch 417/500\n",
      "1437/1437 [==============================] - 0s 121us/step - loss: 0.8792 - accuracy: 0.6994\n",
      "Epoch 418/500\n",
      "1437/1437 [==============================] - 0s 112us/step - loss: 0.8393 - accuracy: 0.7216\n",
      "Epoch 419/500\n",
      "1437/1437 [==============================] - 0s 130us/step - loss: 0.9021 - accuracy: 0.6994\n",
      "Epoch 420/500\n",
      "1437/1437 [==============================] - 0s 169us/step - loss: 0.9280 - accuracy: 0.6987\n",
      "Epoch 421/500\n",
      "1437/1437 [==============================] - 0s 179us/step - loss: 0.8372 - accuracy: 0.7154\n",
      "Epoch 422/500\n",
      "1437/1437 [==============================] - 0s 201us/step - loss: 0.8896 - accuracy: 0.7056\n",
      "Epoch 423/500\n",
      "1437/1437 [==============================] - 0s 196us/step - loss: 0.7986 - accuracy: 0.7279\n",
      "Epoch 424/500\n",
      "1437/1437 [==============================] - 0s 212us/step - loss: 0.8356 - accuracy: 0.7175\n",
      "Epoch 425/500\n",
      "1437/1437 [==============================] - 0s 187us/step - loss: 0.8780 - accuracy: 0.7112\n",
      "Epoch 426/500\n",
      "1437/1437 [==============================] - 0s 171us/step - loss: 0.9136 - accuracy: 0.7042\n",
      "Epoch 427/500\n",
      "1437/1437 [==============================] - 0s 175us/step - loss: 0.9064 - accuracy: 0.6945\n",
      "Epoch 428/500\n",
      "1437/1437 [==============================] - 0s 134us/step - loss: 0.8751 - accuracy: 0.7077\n",
      "Epoch 429/500\n",
      "1437/1437 [==============================] - 0s 119us/step - loss: 0.8551 - accuracy: 0.7049\n",
      "Epoch 430/500\n",
      "1437/1437 [==============================] - 0s 115us/step - loss: 0.8263 - accuracy: 0.7244\n",
      "Epoch 431/500\n",
      "1437/1437 [==============================] - 0s 114us/step - loss: 0.8154 - accuracy: 0.7286\n",
      "Epoch 432/500\n",
      "1437/1437 [==============================] - 0s 118us/step - loss: 0.8671 - accuracy: 0.7147\n",
      "Epoch 433/500\n",
      "1437/1437 [==============================] - 0s 112us/step - loss: 0.9257 - accuracy: 0.6966\n",
      "Epoch 434/500\n",
      "1437/1437 [==============================] - 0s 124us/step - loss: 0.8657 - accuracy: 0.7161\n",
      "Epoch 435/500\n",
      "1437/1437 [==============================] - 0s 115us/step - loss: 0.8477 - accuracy: 0.7091\n",
      "Epoch 436/500\n",
      "1437/1437 [==============================] - 0s 113us/step - loss: 0.8828 - accuracy: 0.6980\n",
      "Epoch 437/500\n",
      "1437/1437 [==============================] - 0s 115us/step - loss: 0.8713 - accuracy: 0.6987\n",
      "Epoch 438/500\n",
      "1437/1437 [==============================] - 0s 115us/step - loss: 0.9025 - accuracy: 0.7098\n",
      "Epoch 439/500\n",
      "1437/1437 [==============================] - 0s 115us/step - loss: 0.8992 - accuracy: 0.7049\n",
      "Epoch 440/500\n",
      "1437/1437 [==============================] - 0s 136us/step - loss: 0.8518 - accuracy: 0.7084\n",
      "Epoch 441/500\n",
      "1437/1437 [==============================] - 0s 115us/step - loss: 0.8348 - accuracy: 0.7175\n",
      "Epoch 442/500\n",
      "1437/1437 [==============================] - 0s 114us/step - loss: 0.8672 - accuracy: 0.6952\n",
      "Epoch 443/500\n",
      "1437/1437 [==============================] - 0s 113us/step - loss: 0.8946 - accuracy: 0.6973\n",
      "Epoch 444/500\n",
      "1437/1437 [==============================] - 0s 115us/step - loss: 0.8628 - accuracy: 0.7070\n",
      "Epoch 445/500\n",
      "1437/1437 [==============================] - 0s 123us/step - loss: 0.8923 - accuracy: 0.6980\n",
      "Epoch 446/500\n",
      "1437/1437 [==============================] - 0s 179us/step - loss: 0.9360 - accuracy: 0.6987\n",
      "Epoch 447/500\n",
      "1437/1437 [==============================] - 0s 130us/step - loss: 0.8008 - accuracy: 0.7328\n",
      "Epoch 448/500\n",
      "1437/1437 [==============================] - 0s 122us/step - loss: 0.8308 - accuracy: 0.7258\n",
      "Epoch 449/500\n",
      "1437/1437 [==============================] - 0s 137us/step - loss: 0.9112 - accuracy: 0.6750\n",
      "Epoch 450/500\n",
      "1437/1437 [==============================] - 0s 177us/step - loss: 0.8987 - accuracy: 0.6987\n",
      "Epoch 451/500\n",
      "1437/1437 [==============================] - 0s 170us/step - loss: 0.8923 - accuracy: 0.7029\n",
      "Epoch 452/500\n",
      "1437/1437 [==============================] - 0s 158us/step - loss: 0.8709 - accuracy: 0.7077\n",
      "Epoch 453/500\n",
      "1437/1437 [==============================] - 0s 169us/step - loss: 0.8526 - accuracy: 0.7133\n",
      "Epoch 454/500\n",
      "1437/1437 [==============================] - 0s 178us/step - loss: 0.8674 - accuracy: 0.7182\n",
      "Epoch 455/500\n",
      "1437/1437 [==============================] - 0s 168us/step - loss: 0.8885 - accuracy: 0.6952\n",
      "Epoch 456/500\n"
     ]
    },
    {
     "name": "stdout",
     "output_type": "stream",
     "text": [
      "1437/1437 [==============================] - 0s 143us/step - loss: 0.8722 - accuracy: 0.7140\n",
      "Epoch 457/500\n",
      "1437/1437 [==============================] - 0s 128us/step - loss: 0.8598 - accuracy: 0.7161\n",
      "Epoch 458/500\n",
      "1437/1437 [==============================] - 0s 121us/step - loss: 0.8513 - accuracy: 0.7175\n",
      "Epoch 459/500\n",
      "1437/1437 [==============================] - 0s 133us/step - loss: 0.8794 - accuracy: 0.7015\n",
      "Epoch 460/500\n",
      "1437/1437 [==============================] - 0s 120us/step - loss: 0.8457 - accuracy: 0.7133\n",
      "Epoch 461/500\n",
      "1437/1437 [==============================] - 0s 187us/step - loss: 0.9005 - accuracy: 0.6994\n",
      "Epoch 462/500\n",
      "1437/1437 [==============================] - 0s 164us/step - loss: 0.9195 - accuracy: 0.6924\n",
      "Epoch 463/500\n",
      "1437/1437 [==============================] - 0s 135us/step - loss: 0.8910 - accuracy: 0.7022\n",
      "Epoch 464/500\n",
      "1437/1437 [==============================] - 0s 178us/step - loss: 0.8727 - accuracy: 0.7070\n",
      "Epoch 465/500\n",
      "1437/1437 [==============================] - 0s 176us/step - loss: 0.8717 - accuracy: 0.7147\n",
      "Epoch 466/500\n",
      "1437/1437 [==============================] - 0s 143us/step - loss: 0.8905 - accuracy: 0.7084\n",
      "Epoch 467/500\n",
      "1437/1437 [==============================] - 0s 161us/step - loss: 0.8730 - accuracy: 0.7015\n",
      "Epoch 468/500\n",
      "1437/1437 [==============================] - 0s 135us/step - loss: 0.8504 - accuracy: 0.7189\n",
      "Epoch 469/500\n",
      "1437/1437 [==============================] - 0s 115us/step - loss: 0.8393 - accuracy: 0.7209\n",
      "Epoch 470/500\n",
      "1437/1437 [==============================] - 0s 156us/step - loss: 0.8907 - accuracy: 0.7070\n",
      "Epoch 471/500\n",
      "1437/1437 [==============================] - 0s 137us/step - loss: 0.8740 - accuracy: 0.7175\n",
      "Epoch 472/500\n",
      "1437/1437 [==============================] - 0s 119us/step - loss: 0.8523 - accuracy: 0.7133\n",
      "Epoch 473/500\n",
      "1437/1437 [==============================] - 0s 153us/step - loss: 0.8815 - accuracy: 0.7049\n",
      "Epoch 474/500\n",
      "1437/1437 [==============================] - 0s 114us/step - loss: 0.8031 - accuracy: 0.7265\n",
      "Epoch 475/500\n",
      "1437/1437 [==============================] - 0s 119us/step - loss: 0.8168 - accuracy: 0.7189\n",
      "Epoch 476/500\n",
      "1437/1437 [==============================] - 0s 115us/step - loss: 0.8849 - accuracy: 0.7056\n",
      "Epoch 477/500\n",
      "1437/1437 [==============================] - 0s 113us/step - loss: 0.8431 - accuracy: 0.7203\n",
      "Epoch 478/500\n",
      "1437/1437 [==============================] - 0s 116us/step - loss: 0.8808 - accuracy: 0.7126\n",
      "Epoch 479/500\n",
      "1437/1437 [==============================] - 0s 118us/step - loss: 0.8423 - accuracy: 0.7112\n",
      "Epoch 480/500\n",
      "1437/1437 [==============================] - 0s 108us/step - loss: 0.8488 - accuracy: 0.7189\n",
      "Epoch 481/500\n",
      "1437/1437 [==============================] - 0s 107us/step - loss: 0.8560 - accuracy: 0.7063\n",
      "Epoch 482/500\n",
      "1437/1437 [==============================] - 0s 106us/step - loss: 0.8599 - accuracy: 0.7126\n",
      "Epoch 483/500\n",
      "1437/1437 [==============================] - 0s 117us/step - loss: 0.8439 - accuracy: 0.7112\n",
      "Epoch 484/500\n",
      "1437/1437 [==============================] - 0s 115us/step - loss: 0.8590 - accuracy: 0.7056\n",
      "Epoch 485/500\n",
      "1437/1437 [==============================] - 0s 123us/step - loss: 0.8832 - accuracy: 0.7112\n",
      "Epoch 486/500\n",
      "1437/1437 [==============================] - 0s 117us/step - loss: 0.9107 - accuracy: 0.7182\n",
      "Epoch 487/500\n",
      "1437/1437 [==============================] - 0s 114us/step - loss: 0.8914 - accuracy: 0.6980\n",
      "Epoch 488/500\n",
      "1437/1437 [==============================] - 0s 108us/step - loss: 0.8534 - accuracy: 0.7147\n",
      "Epoch 489/500\n",
      "1437/1437 [==============================] - 0s 106us/step - loss: 0.8780 - accuracy: 0.6938\n",
      "Epoch 490/500\n",
      "1437/1437 [==============================] - 0s 108us/step - loss: 0.8030 - accuracy: 0.7481\n",
      "Epoch 491/500\n",
      "1437/1437 [==============================] - 0s 117us/step - loss: 0.8423 - accuracy: 0.7182\n",
      "Epoch 492/500\n",
      "1437/1437 [==============================] - 0s 108us/step - loss: 0.9219 - accuracy: 0.6924\n",
      "Epoch 493/500\n",
      "1437/1437 [==============================] - 0s 105us/step - loss: 0.8754 - accuracy: 0.7098\n",
      "Epoch 494/500\n",
      "1437/1437 [==============================] - 0s 118us/step - loss: 0.8638 - accuracy: 0.7098\n",
      "Epoch 495/500\n",
      "1437/1437 [==============================] - 0s 121us/step - loss: 0.8386 - accuracy: 0.7091\n",
      "Epoch 496/500\n",
      "1437/1437 [==============================] - 0s 115us/step - loss: 0.8508 - accuracy: 0.7015\n",
      "Epoch 497/500\n",
      "1437/1437 [==============================] - 0s 126us/step - loss: 0.8537 - accuracy: 0.7363\n",
      "Epoch 498/500\n",
      "1437/1437 [==============================] - 0s 119us/step - loss: 0.7798 - accuracy: 0.7342\n",
      "Epoch 499/500\n",
      "1437/1437 [==============================] - 0s 110us/step - loss: 0.9361 - accuracy: 0.7029\n",
      "Epoch 500/500\n",
      "1437/1437 [==============================] - 0s 110us/step - loss: 0.8541 - accuracy: 0.7098\n"
     ]
    },
    {
     "data": {
      "text/plain": [
       "<keras.callbacks.callbacks.History at 0x249155bdc88>"
      ]
     },
     "execution_count": 88,
     "metadata": {},
     "output_type": "execute_result"
    }
   ],
   "source": [
    "mlp_model.fit(d2_xtrain_dataset,y_train1, epochs=500, batch_size=10)"
   ]
  },
  {
   "cell_type": "code",
   "execution_count": 80,
   "metadata": {},
   "outputs": [
    {
     "data": {
      "text/plain": [
       "array([[0.09629445, 0.13522218, 0.11437755, ..., 0.04580802, 0.14617205,\n",
       "        0.10174347],\n",
       "       [0.10130541, 0.10583724, 0.09249938, ..., 0.10359322, 0.1066836 ,\n",
       "        0.10552894],\n",
       "       [0.1016686 , 0.09945229, 0.09022734, ..., 0.10228313, 0.09867005,\n",
       "        0.09744079],\n",
       "       ...,\n",
       "       [0.11377404, 0.11406509, 0.07941192, ..., 0.07950884, 0.10246175,\n",
       "        0.08778971],\n",
       "       [0.09647232, 0.0944824 , 0.10610728, ..., 0.10652193, 0.10804062,\n",
       "        0.07789969],\n",
       "       [0.10770544, 0.10556044, 0.10480086, ..., 0.07192564, 0.12396538,\n",
       "        0.05540365]], dtype=float32)"
      ]
     },
     "execution_count": 80,
     "metadata": {},
     "output_type": "execute_result"
    }
   ],
   "source": [
    "mlp_model.predict(d2_xtest_dataset)"
   ]
  },
  {
   "cell_type": "code",
   "execution_count": 90,
   "metadata": {},
   "outputs": [
    {
     "name": "stdout",
     "output_type": "stream",
     "text": [
      "predicted value=[0.62840074 0.00138339 0.00115004 0.029962   0.02024525 0.08854812\n",
      " 0.00146965 0.00882897 0.17607272 0.04393907]        true value=3\n",
      "predicted value=[0.17572989 0.02405014 0.02111749 0.15191048 0.03428432 0.08634129\n",
      " 0.15474676 0.07967297 0.0780426  0.19410403]        true value=7\n",
      "predicted value=[3.34404223e-02 9.03135748e-04 2.19459791e-04 2.42041182e-02\n",
      " 2.08356469e-05 1.04390636e-01 1.47905704e-02 3.65491211e-03\n",
      " 8.18272412e-01 1.03516773e-04]        true value=3\n",
      "predicted value=[0.00809799 0.00134766 0.09875601 0.00168088 0.0238809  0.05592477\n",
      " 0.00799258 0.6145596  0.11574882 0.07201077]        true value=3\n"
     ]
    }
   ],
   "source": [
    "for i in range(60,64):\n",
    "    print(\"predicted value={}\".format(mlp_model.predict(d2_xtest_dataset )[i]),end=\"        \")\n",
    "    print(\"true value={}\".format(digits.target[i]))"
   ]
  },
  {
   "cell_type": "code",
   "execution_count": 85,
   "metadata": {},
   "outputs": [
    {
     "name": "stdout",
     "output_type": "stream",
     "text": [
      "360/360 [==============================] - 0s 77us/step\n"
     ]
    },
    {
     "data": {
      "text/plain": [
       "3.9536210695902505"
      ]
     },
     "execution_count": 85,
     "metadata": {},
     "output_type": "execute_result"
    }
   ],
   "source": [
    "mlp_model.evaluate(X_test.reshape((len(X_test),nx*ny)),np_utils.to_categorical(y_test))"
   ]
  }
 ],
 "metadata": {
  "accelerator": "GPU",
  "colab": {
   "collapsed_sections": [],
   "name": "Untitled0.ipynb",
   "provenance": [],
   "version": "0.3.2"
  },
  "kernelspec": {
   "display_name": "Python 3",
   "language": "python",
   "name": "python3"
  },
  "language_info": {
   "codemirror_mode": {
    "name": "ipython",
    "version": 3
   },
   "file_extension": ".py",
   "mimetype": "text/x-python",
   "name": "python",
   "nbconvert_exporter": "python",
   "pygments_lexer": "ipython3",
   "version": "3.7.4"
  }
 },
 "nbformat": 4,
 "nbformat_minor": 1
}
